{
 "cells": [
  {
   "cell_type": "code",
   "execution_count": 15,
   "metadata": {
    "_cell_guid": "b1076dfc-b9ad-4769-8c92-a6c4dae69d19",
    "_uuid": "8f2839f25d086af736a60e9eeb907d3b93b6e0e5",
    "execution": {
     "iopub.execute_input": "2021-07-15T18:14:49.697753Z",
     "iopub.status.busy": "2021-07-15T18:14:49.697239Z",
     "iopub.status.idle": "2021-07-15T18:14:49.710663Z",
     "shell.execute_reply": "2021-07-15T18:14:49.709475Z",
     "shell.execute_reply.started": "2021-07-15T18:14:49.697708Z"
    }
   },
   "outputs": [
    {
     "name": "stdout",
     "output_type": "stream",
     "text": [
      "/kaggle/input/insurancedata/train.csv\n",
      "/kaggle/input/travelinsurancetestdata/test.csv\n"
     ]
    }
   ],
   "source": [
    "# This Python 3 environment comes with many helpful analytics libraries installed\n",
    "# It is defined by the kaggle/python Docker image: https://github.com/kaggle/docker-python\n",
    "# For example, here's several helpful packages to load\n",
    "\n",
    "import numpy as np # linear algebra\n",
    "import pandas as pd # data processing, CSV file I/O (e.g. pd.read_csv)\n",
    "import matplotlib.pyplot as plt\n",
    "\n",
    "# Input data files are available in the read-only \"../input/\" directory\n",
    "# For example, running this (by clicking run or pressing Shift+Enter) will list all files under the input directory\n",
    "\n",
    "import os\n",
    "for dirname, _, filenames in os.walk('/kaggle/input'):\n",
    "    for filename in filenames:\n",
    "        print(os.path.join(dirname, filename))\n",
    "import seaborn as sns       \n",
    "from sklearn.model_selection import train_test_split\n",
    "from sklearn.linear_model import LogisticRegression\n",
    "from sklearn.metrics import accuracy_score,roc_auc_score,confusion_matrix,classification_report\n",
    "from sklearn.utils import resample,shuffle\n",
    "from sklearn.preprocessing import LabelEncoder\n",
    "\n",
    "\n",
    "# You can write up to 20GB to the current directory (/kaggle/working/) that gets preserved as output when you create a version using \"Save & Run All\" \n",
    "# You can also write temporary files to /kaggle/temp/, but they won't be saved outside of the current session"
   ]
  },
  {
   "cell_type": "code",
   "execution_count": 16,
   "metadata": {
    "execution": {
     "iopub.execute_input": "2021-07-15T18:14:49.719276Z",
     "iopub.status.busy": "2021-07-15T18:14:49.718770Z",
     "iopub.status.idle": "2021-07-15T18:14:49.726183Z",
     "shell.execute_reply": "2021-07-15T18:14:49.725145Z",
     "shell.execute_reply.started": "2021-07-15T18:14:49.719242Z"
    }
   },
   "outputs": [
    {
     "data": {
      "text/plain": [
       "['/kaggle/input/insurancedata/train.csv',\n",
       " '/kaggle/input/travelinsurancetestdata/test.csv']"
      ]
     },
     "execution_count": 16,
     "metadata": {},
     "output_type": "execute_result"
    }
   ],
   "source": [
    "import glob\n",
    "csv_list1 = glob.glob('/kaggle/input/**/*')\n",
    "csv_list1"
   ]
  },
  {
   "cell_type": "code",
   "execution_count": 17,
   "metadata": {
    "execution": {
     "iopub.execute_input": "2021-07-15T18:14:49.732494Z",
     "iopub.status.busy": "2021-07-15T18:14:49.731960Z",
     "iopub.status.idle": "2021-07-15T18:14:49.841684Z",
     "shell.execute_reply": "2021-07-15T18:14:49.840642Z",
     "shell.execute_reply.started": "2021-07-15T18:14:49.732459Z"
    }
   },
   "outputs": [
    {
     "data": {
      "text/html": [
       "<div>\n",
       "<style scoped>\n",
       "    .dataframe tbody tr th:only-of-type {\n",
       "        vertical-align: middle;\n",
       "    }\n",
       "\n",
       "    .dataframe tbody tr th {\n",
       "        vertical-align: top;\n",
       "    }\n",
       "\n",
       "    .dataframe thead th {\n",
       "        text-align: right;\n",
       "    }\n",
       "</style>\n",
       "<table border=\"1\" class=\"dataframe\">\n",
       "  <thead>\n",
       "    <tr style=\"text-align: right;\">\n",
       "      <th></th>\n",
       "      <th>ID</th>\n",
       "      <th>Agency</th>\n",
       "      <th>Agency Type</th>\n",
       "      <th>Distribution Channel</th>\n",
       "      <th>Product Name</th>\n",
       "      <th>Duration</th>\n",
       "      <th>Destination</th>\n",
       "      <th>Net Sales</th>\n",
       "      <th>Commision (in value)</th>\n",
       "      <th>Age</th>\n",
       "      <th>Claim</th>\n",
       "    </tr>\n",
       "  </thead>\n",
       "  <tbody>\n",
       "    <tr>\n",
       "      <th>0</th>\n",
       "      <td>2010</td>\n",
       "      <td>EPX</td>\n",
       "      <td>Travel Agency</td>\n",
       "      <td>Online</td>\n",
       "      <td>Cancellation Plan</td>\n",
       "      <td>61</td>\n",
       "      <td>PHILIPPINES</td>\n",
       "      <td>12.0</td>\n",
       "      <td>0.00</td>\n",
       "      <td>41</td>\n",
       "      <td>0</td>\n",
       "    </tr>\n",
       "    <tr>\n",
       "      <th>1</th>\n",
       "      <td>4245</td>\n",
       "      <td>EPX</td>\n",
       "      <td>Travel Agency</td>\n",
       "      <td>Online</td>\n",
       "      <td>Cancellation Plan</td>\n",
       "      <td>4</td>\n",
       "      <td>MALAYSIA</td>\n",
       "      <td>17.0</td>\n",
       "      <td>0.00</td>\n",
       "      <td>35</td>\n",
       "      <td>0</td>\n",
       "    </tr>\n",
       "    <tr>\n",
       "      <th>2</th>\n",
       "      <td>9251</td>\n",
       "      <td>CWT</td>\n",
       "      <td>Travel Agency</td>\n",
       "      <td>Online</td>\n",
       "      <td>Rental Vehicle Excess Insurance</td>\n",
       "      <td>26</td>\n",
       "      <td>THAILAND</td>\n",
       "      <td>19.8</td>\n",
       "      <td>11.88</td>\n",
       "      <td>47</td>\n",
       "      <td>0</td>\n",
       "    </tr>\n",
       "    <tr>\n",
       "      <th>3</th>\n",
       "      <td>4754</td>\n",
       "      <td>EPX</td>\n",
       "      <td>Travel Agency</td>\n",
       "      <td>Online</td>\n",
       "      <td>2 way Comprehensive Plan</td>\n",
       "      <td>15</td>\n",
       "      <td>HONG KONG</td>\n",
       "      <td>27.0</td>\n",
       "      <td>0.00</td>\n",
       "      <td>48</td>\n",
       "      <td>0</td>\n",
       "    </tr>\n",
       "    <tr>\n",
       "      <th>4</th>\n",
       "      <td>8840</td>\n",
       "      <td>EPX</td>\n",
       "      <td>Travel Agency</td>\n",
       "      <td>Online</td>\n",
       "      <td>2 way Comprehensive Plan</td>\n",
       "      <td>15</td>\n",
       "      <td>MALAYSIA</td>\n",
       "      <td>37.0</td>\n",
       "      <td>0.00</td>\n",
       "      <td>36</td>\n",
       "      <td>0</td>\n",
       "    </tr>\n",
       "  </tbody>\n",
       "</table>\n",
       "</div>"
      ],
      "text/plain": [
       "     ID Agency    Agency Type Distribution Channel  \\\n",
       "0  2010    EPX  Travel Agency               Online   \n",
       "1  4245    EPX  Travel Agency               Online   \n",
       "2  9251    CWT  Travel Agency               Online   \n",
       "3  4754    EPX  Travel Agency               Online   \n",
       "4  8840    EPX  Travel Agency               Online   \n",
       "\n",
       "                      Product Name  Duration  Destination  Net Sales  \\\n",
       "0                Cancellation Plan        61  PHILIPPINES       12.0   \n",
       "1                Cancellation Plan         4     MALAYSIA       17.0   \n",
       "2  Rental Vehicle Excess Insurance        26     THAILAND       19.8   \n",
       "3         2 way Comprehensive Plan        15    HONG KONG       27.0   \n",
       "4         2 way Comprehensive Plan        15     MALAYSIA       37.0   \n",
       "\n",
       "   Commision (in value)  Age  Claim  \n",
       "0                  0.00   41      0  \n",
       "1                  0.00   35      0  \n",
       "2                 11.88   47      0  \n",
       "3                  0.00   48      0  \n",
       "4                  0.00   36      0  "
      ]
     },
     "execution_count": 17,
     "metadata": {},
     "output_type": "execute_result"
    }
   ],
   "source": [
    "data=pd.read_csv(csv_list1[0])\n",
    "data.head()"
   ]
  },
  {
   "cell_type": "code",
   "execution_count": 18,
   "metadata": {
    "execution": {
     "iopub.execute_input": "2021-07-15T18:14:49.843330Z",
     "iopub.status.busy": "2021-07-15T18:14:49.843056Z",
     "iopub.status.idle": "2021-07-15T18:14:49.848004Z",
     "shell.execute_reply": "2021-07-15T18:14:49.847053Z",
     "shell.execute_reply.started": "2021-07-15T18:14:49.843304Z"
    }
   },
   "outputs": [],
   "source": [
    "columns=['Product Name','Destination']"
   ]
  },
  {
   "cell_type": "code",
   "execution_count": 19,
   "metadata": {
    "execution": {
     "iopub.execute_input": "2021-07-15T18:14:49.850323Z",
     "iopub.status.busy": "2021-07-15T18:14:49.849905Z",
     "iopub.status.idle": "2021-07-15T18:14:49.862198Z",
     "shell.execute_reply": "2021-07-15T18:14:49.861187Z",
     "shell.execute_reply.started": "2021-07-15T18:14:49.850167Z"
    }
   },
   "outputs": [
    {
     "data": {
      "text/plain": [
       "'/kaggle/input/travelinsurancetestdata/test.csv'"
      ]
     },
     "execution_count": 19,
     "metadata": {},
     "output_type": "execute_result"
    }
   ],
   "source": [
    "\n",
    "csv_list = os.path.join(dirname, filename)\n",
    "csv_list"
   ]
  },
  {
   "cell_type": "code",
   "execution_count": 20,
   "metadata": {
    "execution": {
     "iopub.execute_input": "2021-07-15T18:14:49.864865Z",
     "iopub.status.busy": "2021-07-15T18:14:49.864155Z",
     "iopub.status.idle": "2021-07-15T18:14:49.968793Z",
     "shell.execute_reply": "2021-07-15T18:14:49.967758Z",
     "shell.execute_reply.started": "2021-07-15T18:14:49.864802Z"
    }
   },
   "outputs": [],
   "source": [
    "df=pd.read_csv(csv_list1[0])"
   ]
  },
  {
   "cell_type": "code",
   "execution_count": 21,
   "metadata": {
    "execution": {
     "iopub.execute_input": "2021-07-15T18:14:49.970642Z",
     "iopub.status.busy": "2021-07-15T18:14:49.970128Z",
     "iopub.status.idle": "2021-07-15T18:14:49.990057Z",
     "shell.execute_reply": "2021-07-15T18:14:49.988923Z",
     "shell.execute_reply.started": "2021-07-15T18:14:49.970601Z"
    }
   },
   "outputs": [
    {
     "data": {
      "text/html": [
       "<div>\n",
       "<style scoped>\n",
       "    .dataframe tbody tr th:only-of-type {\n",
       "        vertical-align: middle;\n",
       "    }\n",
       "\n",
       "    .dataframe tbody tr th {\n",
       "        vertical-align: top;\n",
       "    }\n",
       "\n",
       "    .dataframe thead th {\n",
       "        text-align: right;\n",
       "    }\n",
       "</style>\n",
       "<table border=\"1\" class=\"dataframe\">\n",
       "  <thead>\n",
       "    <tr style=\"text-align: right;\">\n",
       "      <th></th>\n",
       "      <th>ID</th>\n",
       "      <th>Agency</th>\n",
       "      <th>Agency Type</th>\n",
       "      <th>Distribution Channel</th>\n",
       "      <th>Product Name</th>\n",
       "      <th>Duration</th>\n",
       "      <th>Destination</th>\n",
       "      <th>Net Sales</th>\n",
       "      <th>Commision (in value)</th>\n",
       "      <th>Age</th>\n",
       "      <th>Claim</th>\n",
       "    </tr>\n",
       "  </thead>\n",
       "  <tbody>\n",
       "    <tr>\n",
       "      <th>0</th>\n",
       "      <td>2010</td>\n",
       "      <td>EPX</td>\n",
       "      <td>Travel Agency</td>\n",
       "      <td>Online</td>\n",
       "      <td>Cancellation Plan</td>\n",
       "      <td>61</td>\n",
       "      <td>PHILIPPINES</td>\n",
       "      <td>12.0</td>\n",
       "      <td>0.00</td>\n",
       "      <td>41</td>\n",
       "      <td>0</td>\n",
       "    </tr>\n",
       "    <tr>\n",
       "      <th>1</th>\n",
       "      <td>4245</td>\n",
       "      <td>EPX</td>\n",
       "      <td>Travel Agency</td>\n",
       "      <td>Online</td>\n",
       "      <td>Cancellation Plan</td>\n",
       "      <td>4</td>\n",
       "      <td>MALAYSIA</td>\n",
       "      <td>17.0</td>\n",
       "      <td>0.00</td>\n",
       "      <td>35</td>\n",
       "      <td>0</td>\n",
       "    </tr>\n",
       "    <tr>\n",
       "      <th>2</th>\n",
       "      <td>9251</td>\n",
       "      <td>CWT</td>\n",
       "      <td>Travel Agency</td>\n",
       "      <td>Online</td>\n",
       "      <td>Rental Vehicle Excess Insurance</td>\n",
       "      <td>26</td>\n",
       "      <td>THAILAND</td>\n",
       "      <td>19.8</td>\n",
       "      <td>11.88</td>\n",
       "      <td>47</td>\n",
       "      <td>0</td>\n",
       "    </tr>\n",
       "    <tr>\n",
       "      <th>3</th>\n",
       "      <td>4754</td>\n",
       "      <td>EPX</td>\n",
       "      <td>Travel Agency</td>\n",
       "      <td>Online</td>\n",
       "      <td>2 way Comprehensive Plan</td>\n",
       "      <td>15</td>\n",
       "      <td>HONG KONG</td>\n",
       "      <td>27.0</td>\n",
       "      <td>0.00</td>\n",
       "      <td>48</td>\n",
       "      <td>0</td>\n",
       "    </tr>\n",
       "    <tr>\n",
       "      <th>4</th>\n",
       "      <td>8840</td>\n",
       "      <td>EPX</td>\n",
       "      <td>Travel Agency</td>\n",
       "      <td>Online</td>\n",
       "      <td>2 way Comprehensive Plan</td>\n",
       "      <td>15</td>\n",
       "      <td>MALAYSIA</td>\n",
       "      <td>37.0</td>\n",
       "      <td>0.00</td>\n",
       "      <td>36</td>\n",
       "      <td>0</td>\n",
       "    </tr>\n",
       "  </tbody>\n",
       "</table>\n",
       "</div>"
      ],
      "text/plain": [
       "     ID Agency    Agency Type Distribution Channel  \\\n",
       "0  2010    EPX  Travel Agency               Online   \n",
       "1  4245    EPX  Travel Agency               Online   \n",
       "2  9251    CWT  Travel Agency               Online   \n",
       "3  4754    EPX  Travel Agency               Online   \n",
       "4  8840    EPX  Travel Agency               Online   \n",
       "\n",
       "                      Product Name  Duration  Destination  Net Sales  \\\n",
       "0                Cancellation Plan        61  PHILIPPINES       12.0   \n",
       "1                Cancellation Plan         4     MALAYSIA       17.0   \n",
       "2  Rental Vehicle Excess Insurance        26     THAILAND       19.8   \n",
       "3         2 way Comprehensive Plan        15    HONG KONG       27.0   \n",
       "4         2 way Comprehensive Plan        15     MALAYSIA       37.0   \n",
       "\n",
       "   Commision (in value)  Age  Claim  \n",
       "0                  0.00   41      0  \n",
       "1                  0.00   35      0  \n",
       "2                 11.88   47      0  \n",
       "3                  0.00   48      0  \n",
       "4                  0.00   36      0  "
      ]
     },
     "execution_count": 21,
     "metadata": {},
     "output_type": "execute_result"
    }
   ],
   "source": [
    "df.head()"
   ]
  },
  {
   "cell_type": "code",
   "execution_count": 22,
   "metadata": {
    "execution": {
     "iopub.execute_input": "2021-07-15T18:14:49.992285Z",
     "iopub.status.busy": "2021-07-15T18:14:49.991866Z",
     "iopub.status.idle": "2021-07-15T18:14:50.037717Z",
     "shell.execute_reply": "2021-07-15T18:14:50.036596Z",
     "shell.execute_reply.started": "2021-07-15T18:14:49.992242Z"
    }
   },
   "outputs": [
    {
     "name": "stdout",
     "output_type": "stream",
     "text": [
      "<class 'pandas.core.frame.DataFrame'>\n",
      "RangeIndex: 52310 entries, 0 to 52309\n",
      "Data columns (total 11 columns):\n",
      " #   Column                Non-Null Count  Dtype  \n",
      "---  ------                --------------  -----  \n",
      " 0   ID                    52310 non-null  int64  \n",
      " 1   Agency                52310 non-null  object \n",
      " 2   Agency Type           52310 non-null  object \n",
      " 3   Distribution Channel  52310 non-null  object \n",
      " 4   Product Name          52310 non-null  object \n",
      " 5   Duration              52310 non-null  int64  \n",
      " 6   Destination           52310 non-null  object \n",
      " 7   Net Sales             52310 non-null  float64\n",
      " 8   Commision (in value)  52310 non-null  float64\n",
      " 9   Age                   52310 non-null  int64  \n",
      " 10  Claim                 52310 non-null  int64  \n",
      "dtypes: float64(2), int64(4), object(5)\n",
      "memory usage: 4.4+ MB\n"
     ]
    }
   ],
   "source": [
    "df.info()"
   ]
  },
  {
   "cell_type": "code",
   "execution_count": 23,
   "metadata": {
    "execution": {
     "iopub.execute_input": "2021-07-15T18:14:50.040061Z",
     "iopub.status.busy": "2021-07-15T18:14:50.039577Z",
     "iopub.status.idle": "2021-07-15T18:14:50.082742Z",
     "shell.execute_reply": "2021-07-15T18:14:50.081521Z",
     "shell.execute_reply.started": "2021-07-15T18:14:50.040004Z"
    }
   },
   "outputs": [
    {
     "data": {
      "text/html": [
       "<div>\n",
       "<style scoped>\n",
       "    .dataframe tbody tr th:only-of-type {\n",
       "        vertical-align: middle;\n",
       "    }\n",
       "\n",
       "    .dataframe tbody tr th {\n",
       "        vertical-align: top;\n",
       "    }\n",
       "\n",
       "    .dataframe thead th {\n",
       "        text-align: right;\n",
       "    }\n",
       "</style>\n",
       "<table border=\"1\" class=\"dataframe\">\n",
       "  <thead>\n",
       "    <tr style=\"text-align: right;\">\n",
       "      <th></th>\n",
       "      <th>ID</th>\n",
       "      <th>Duration</th>\n",
       "      <th>Net Sales</th>\n",
       "      <th>Commision (in value)</th>\n",
       "      <th>Age</th>\n",
       "      <th>Claim</th>\n",
       "    </tr>\n",
       "  </thead>\n",
       "  <tbody>\n",
       "    <tr>\n",
       "      <th>count</th>\n",
       "      <td>52310.000000</td>\n",
       "      <td>52310.000000</td>\n",
       "      <td>52310.000000</td>\n",
       "      <td>52310.000000</td>\n",
       "      <td>52310.000000</td>\n",
       "      <td>52310.000000</td>\n",
       "    </tr>\n",
       "    <tr>\n",
       "      <th>mean</th>\n",
       "      <td>6005.745804</td>\n",
       "      <td>58.256108</td>\n",
       "      <td>48.554673</td>\n",
       "      <td>12.219963</td>\n",
       "      <td>39.555725</td>\n",
       "      <td>0.166699</td>\n",
       "    </tr>\n",
       "    <tr>\n",
       "      <th>std</th>\n",
       "      <td>2306.450475</td>\n",
       "      <td>109.138708</td>\n",
       "      <td>60.198589</td>\n",
       "      <td>22.847645</td>\n",
       "      <td>13.762473</td>\n",
       "      <td>0.372710</td>\n",
       "    </tr>\n",
       "    <tr>\n",
       "      <th>min</th>\n",
       "      <td>2000.000000</td>\n",
       "      <td>-2.000000</td>\n",
       "      <td>-389.000000</td>\n",
       "      <td>0.000000</td>\n",
       "      <td>0.000000</td>\n",
       "      <td>0.000000</td>\n",
       "    </tr>\n",
       "    <tr>\n",
       "      <th>25%</th>\n",
       "      <td>4015.000000</td>\n",
       "      <td>10.000000</td>\n",
       "      <td>19.800000</td>\n",
       "      <td>0.000000</td>\n",
       "      <td>33.000000</td>\n",
       "      <td>0.000000</td>\n",
       "    </tr>\n",
       "    <tr>\n",
       "      <th>50%</th>\n",
       "      <td>6002.000000</td>\n",
       "      <td>24.000000</td>\n",
       "      <td>29.500000</td>\n",
       "      <td>0.000000</td>\n",
       "      <td>36.000000</td>\n",
       "      <td>0.000000</td>\n",
       "    </tr>\n",
       "    <tr>\n",
       "      <th>75%</th>\n",
       "      <td>8004.000000</td>\n",
       "      <td>57.000000</td>\n",
       "      <td>55.000000</td>\n",
       "      <td>13.380000</td>\n",
       "      <td>43.000000</td>\n",
       "      <td>0.000000</td>\n",
       "    </tr>\n",
       "    <tr>\n",
       "      <th>max</th>\n",
       "      <td>10000.000000</td>\n",
       "      <td>4881.000000</td>\n",
       "      <td>682.000000</td>\n",
       "      <td>262.760000</td>\n",
       "      <td>118.000000</td>\n",
       "      <td>1.000000</td>\n",
       "    </tr>\n",
       "  </tbody>\n",
       "</table>\n",
       "</div>"
      ],
      "text/plain": [
       "                 ID      Duration     Net Sales  Commision (in value)  \\\n",
       "count  52310.000000  52310.000000  52310.000000          52310.000000   \n",
       "mean    6005.745804     58.256108     48.554673             12.219963   \n",
       "std     2306.450475    109.138708     60.198589             22.847645   \n",
       "min     2000.000000     -2.000000   -389.000000              0.000000   \n",
       "25%     4015.000000     10.000000     19.800000              0.000000   \n",
       "50%     6002.000000     24.000000     29.500000              0.000000   \n",
       "75%     8004.000000     57.000000     55.000000             13.380000   \n",
       "max    10000.000000   4881.000000    682.000000            262.760000   \n",
       "\n",
       "                Age         Claim  \n",
       "count  52310.000000  52310.000000  \n",
       "mean      39.555725      0.166699  \n",
       "std       13.762473      0.372710  \n",
       "min        0.000000      0.000000  \n",
       "25%       33.000000      0.000000  \n",
       "50%       36.000000      0.000000  \n",
       "75%       43.000000      0.000000  \n",
       "max      118.000000      1.000000  "
      ]
     },
     "execution_count": 23,
     "metadata": {},
     "output_type": "execute_result"
    }
   ],
   "source": [
    "df.describe()"
   ]
  },
  {
   "cell_type": "code",
   "execution_count": 24,
   "metadata": {
    "execution": {
     "iopub.execute_input": "2021-07-15T18:14:50.085631Z",
     "iopub.status.busy": "2021-07-15T18:14:50.085332Z",
     "iopub.status.idle": "2021-07-15T18:14:50.219608Z",
     "shell.execute_reply": "2021-07-15T18:14:50.218640Z",
     "shell.execute_reply.started": "2021-07-15T18:14:50.085601Z"
    }
   },
   "outputs": [
    {
     "name": "stderr",
     "output_type": "stream",
     "text": [
      "/opt/conda/lib/python3.7/site-packages/seaborn/_decorators.py:43: FutureWarning: Pass the following variable as a keyword arg: x. From version 0.12, the only valid positional argument will be `data`, and passing other arguments without an explicit keyword will result in an error or misinterpretation.\n",
      "  FutureWarning\n"
     ]
    },
    {
     "data": {
      "image/png": "[encoded data removed]",
      "text/plain": [
       "<Figure size 432x288 with 1 Axes>"
      ]
     },
     "metadata": {
      "needs_background": "light"
     },
     "output_type": "display_data"
    }
   ],
   "source": [
    "sns.countplot(df['Claim'],palette='rocket')\n",
    "plt.title(\"Target variable Distribution in data\");"
   ]
  },
  {
   "cell_type": "markdown",
   "metadata": {},
   "source": [
    "*** Target data is highly imbalanced."
   ]
  },
  {
   "cell_type": "code",
   "execution_count": 25,
   "metadata": {
    "execution": {
     "iopub.execute_input": "2021-07-15T18:14:50.221871Z",
     "iopub.status.busy": "2021-07-15T18:14:50.221562Z",
     "iopub.status.idle": "2021-07-15T18:14:50.231490Z",
     "shell.execute_reply": "2021-07-15T18:14:50.230645Z",
     "shell.execute_reply.started": "2021-07-15T18:14:50.221843Z"
    }
   },
   "outputs": [
    {
     "data": {
      "text/plain": [
       "0    0.83\n",
       "1    0.17\n",
       "Name: Claim, dtype: float64"
      ]
     },
     "execution_count": 25,
     "metadata": {},
     "output_type": "execute_result"
    }
   ],
   "source": [
    "df['Claim'].value_counts(normalize = True).round(2)"
   ]
  },
  {
   "cell_type": "code",
   "execution_count": 26,
   "metadata": {
    "execution": {
     "iopub.execute_input": "2021-07-15T18:14:50.233422Z",
     "iopub.status.busy": "2021-07-15T18:14:50.233033Z",
     "iopub.status.idle": "2021-07-15T18:14:50.454079Z",
     "shell.execute_reply": "2021-07-15T18:14:50.452967Z",
     "shell.execute_reply.started": "2021-07-15T18:14:50.233382Z"
    }
   },
   "outputs": [
    {
     "data": {
      "image/png": "[encoded data removed]",
      "text/plain": [
       "<Figure size 432x288 with 1 Axes>"
      ]
     },
     "metadata": {
      "needs_background": "light"
     },
     "output_type": "display_data"
    }
   ],
   "source": [
    "df['Agency'].value_counts(normalize = True).plot(kind = 'bar')\n",
    "\n",
    "plt.title(\"Agency Distribution in data\")\n",
    "\n",
    "plt.show()"
   ]
  },
  {
   "cell_type": "code",
   "execution_count": 27,
   "metadata": {
    "execution": {
     "iopub.execute_input": "2021-07-15T18:14:50.455937Z",
     "iopub.status.busy": "2021-07-15T18:14:50.455554Z",
     "iopub.status.idle": "2021-07-15T18:14:50.900509Z",
     "shell.execute_reply": "2021-07-15T18:14:50.899759Z",
     "shell.execute_reply.started": "2021-07-15T18:14:50.455904Z"
    }
   },
   "outputs": [
    {
     "data": {
      "image/png": "[encoded data removed]",
      "text/plain": [
       "<Figure size 432x288 with 1 Axes>"
      ]
     },
     "metadata": {
      "needs_background": "light"
     },
     "output_type": "display_data"
    }
   ],
   "source": [
    "df['Product Name'].value_counts(normalize = True).plot(kind = 'bar')\n",
    "\n",
    "plt.title(\"Agency Distribution in data\")\n",
    "\n",
    "plt.show()"
   ]
  },
  {
   "cell_type": "code",
   "execution_count": 28,
   "metadata": {
    "execution": {
     "iopub.execute_input": "2021-07-15T18:14:50.902636Z",
     "iopub.status.busy": "2021-07-15T18:14:50.901960Z",
     "iopub.status.idle": "2021-07-15T18:14:51.165861Z",
     "shell.execute_reply": "2021-07-15T18:14:51.165104Z",
     "shell.execute_reply.started": "2021-07-15T18:14:50.902591Z"
    }
   },
   "outputs": [
    {
     "data": {
      "image/png": "[encoded data removed]",
      "text/plain": [
       "<Figure size 432x288 with 1 Axes>"
      ]
     },
     "metadata": {
      "needs_background": "light"
     },
     "output_type": "display_data"
    }
   ],
   "source": [
    "df['Destination'].value_counts(normalize = True)[:20].plot(kind = 'bar')\n",
    "\n",
    "plt.title(\"Agency Distribution in data\")\n",
    "\n",
    "plt.show()"
   ]
  },
  {
   "cell_type": "markdown",
   "metadata": {},
   "source": [
    "Insurance get approved wrt Product Name"
   ]
  },
  {
   "cell_type": "code",
   "execution_count": 29,
   "metadata": {
    "execution": {
     "iopub.execute_input": "2021-07-15T18:14:51.167927Z",
     "iopub.status.busy": "2021-07-15T18:14:51.167300Z",
     "iopub.status.idle": "2021-07-15T18:14:51.477128Z",
     "shell.execute_reply": "2021-07-15T18:14:51.476174Z",
     "shell.execute_reply.started": "2021-07-15T18:14:51.167863Z"
    }
   },
   "outputs": [
    {
     "data": {
      "image/png": "[encoded data removed]",
      "text/plain": [
       "<Figure size 432x288 with 1 Axes>"
      ]
     },
     "metadata": {
      "needs_background": "light"
     },
     "output_type": "display_data"
    }
   ],
   "source": [
    "ClaimApproved_ProductName = df[df['Claim'] == 1]\n",
    "\n",
    "ClaimApproved_ProductName['Product Name'].value_counts(normalize = True).plot(kind = 'bar')\n",
    "\n",
    "plt.title(\"Product Insurance get approved\")\n",
    "\n",
    "plt.show()"
   ]
  },
  {
   "cell_type": "markdown",
   "metadata": {},
   "source": [
    "Insurance get approved wrt Destination"
   ]
  },
  {
   "cell_type": "code",
   "execution_count": 30,
   "metadata": {
    "execution": {
     "iopub.execute_input": "2021-07-15T18:14:51.479236Z",
     "iopub.status.busy": "2021-07-15T18:14:51.478811Z",
     "iopub.status.idle": "2021-07-15T18:14:51.900362Z",
     "shell.execute_reply": "2021-07-15T18:14:51.899118Z",
     "shell.execute_reply.started": "2021-07-15T18:14:51.479190Z"
    }
   },
   "outputs": [
    {
     "data": {
      "image/png": "[encoded data removed]",
      "text/plain": [
       "<Figure size 1440x360 with 1 Axes>"
      ]
     },
     "metadata": {
      "needs_background": "light"
     },
     "output_type": "display_data"
    }
   ],
   "source": [
    "ClaimApproved_Destination = df[df['Claim'] == 1]\n",
    "\n",
    "ClaimApproved_ProductName['Destination'].value_counts(normalize = True).plot(kind = 'bar',figsize=(20,5))\n",
    "\n",
    "plt.title(\"Product Insurance get approved\")\n",
    "\n",
    "plt.show()"
   ]
  },
  {
   "cell_type": "code",
   "execution_count": 31,
   "metadata": {
    "execution": {
     "iopub.execute_input": "2021-07-15T18:14:51.902535Z",
     "iopub.status.busy": "2021-07-15T18:14:51.902100Z",
     "iopub.status.idle": "2021-07-15T18:14:51.915604Z",
     "shell.execute_reply": "2021-07-15T18:14:51.914649Z",
     "shell.execute_reply.started": "2021-07-15T18:14:51.902489Z"
    }
   },
   "outputs": [
    {
     "data": {
      "text/plain": [
       "36     0.152752\n",
       "30     0.054243\n",
       "31     0.050803\n",
       "28     0.046445\n",
       "29     0.041858\n",
       "         ...   \n",
       "89     0.000115\n",
       "81     0.000115\n",
       "96     0.000115\n",
       "88     0.000115\n",
       "115    0.000115\n",
       "Name: Age, Length: 80, dtype: float64"
      ]
     },
     "execution_count": 31,
     "metadata": {},
     "output_type": "execute_result"
    }
   ],
   "source": [
    "ClaimApproved_ProductName['Age'].sort_index(axis = 0,ascending=False).value_counts(normalize = True)"
   ]
  },
  {
   "cell_type": "code",
   "execution_count": 32,
   "metadata": {
    "execution": {
     "iopub.execute_input": "2021-07-15T18:14:51.917510Z",
     "iopub.status.busy": "2021-07-15T18:14:51.917181Z",
     "iopub.status.idle": "2021-07-15T18:14:52.869239Z",
     "shell.execute_reply": "2021-07-15T18:14:52.868503Z",
     "shell.execute_reply.started": "2021-07-15T18:14:51.917482Z"
    }
   },
   "outputs": [
    {
     "data": {
      "image/png": "[encoded data removed]",
      "text/plain": [
       "<Figure size 1440x360 with 1 Axes>"
      ]
     },
     "metadata": {
      "needs_background": "light"
     },
     "output_type": "display_data"
    }
   ],
   "source": [
    "ClaimApproved_Destination = df[df['Claim'] == 1]\n",
    "\n",
    "ClaimApproved_ProductName['Age'].value_counts(normalize = True).plot(kind = 'bar',figsize=(20,5))\n",
    "\n",
    "plt.title(\"Age Insurance get approved\")\n",
    "\n",
    "plt.show()"
   ]
  },
  {
   "cell_type": "code",
   "execution_count": 33,
   "metadata": {
    "execution": {
     "iopub.execute_input": "2021-07-15T18:14:52.870779Z",
     "iopub.status.busy": "2021-07-15T18:14:52.870329Z",
     "iopub.status.idle": "2021-07-15T18:14:53.090844Z",
     "shell.execute_reply": "2021-07-15T18:14:53.089661Z",
     "shell.execute_reply.started": "2021-07-15T18:14:52.870735Z"
    }
   },
   "outputs": [
    {
     "data": {
      "text/plain": [
       "<AxesSubplot:>"
      ]
     },
     "execution_count": 33,
     "metadata": {},
     "output_type": "execute_result"
    },
    {
     "data": {
      "image/png": "[encoded data removed]",
      "text/plain": [
       "<Figure size 720x360 with 1 Axes>"
      ]
     },
     "metadata": {
      "needs_background": "light"
     },
     "output_type": "display_data"
    }
   ],
   "source": [
    "df['Age'].value_counts(bins=10).plot(kind ='bar',figsize=(10,5))"
   ]
  },
  {
   "cell_type": "code",
   "execution_count": 34,
   "metadata": {
    "execution": {
     "iopub.execute_input": "2021-07-15T18:14:53.092582Z",
     "iopub.status.busy": "2021-07-15T18:14:53.092272Z",
     "iopub.status.idle": "2021-07-15T18:14:53.100887Z",
     "shell.execute_reply": "2021-07-15T18:14:53.099826Z",
     "shell.execute_reply.started": "2021-07-15T18:14:53.092552Z"
    }
   },
   "outputs": [],
   "source": [
    "data.loc[data['Duration'] < 0, 'Duration'] = 58.256108"
   ]
  },
  {
   "cell_type": "code",
   "execution_count": 35,
   "metadata": {
    "execution": {
     "iopub.execute_input": "2021-07-15T18:14:53.102691Z",
     "iopub.status.busy": "2021-07-15T18:14:53.102325Z",
     "iopub.status.idle": "2021-07-15T18:14:53.114914Z",
     "shell.execute_reply": "2021-07-15T18:14:53.113937Z",
     "shell.execute_reply.started": "2021-07-15T18:14:53.102659Z"
    }
   },
   "outputs": [
    {
     "data": {
      "text/plain": [
       "[382, 2609, 3469, 7766, 14544, 22123, 31985, 33701, 43158, 47724, 47791, 48880]"
      ]
     },
     "execution_count": 35,
     "metadata": {},
     "output_type": "execute_result"
    }
   ],
   "source": [
    "indexs= list(df[df['Duration'].ge(545)].index)\n",
    "indexs"
   ]
  },
  {
   "cell_type": "code",
   "execution_count": 36,
   "metadata": {
    "execution": {
     "iopub.execute_input": "2021-07-15T18:14:53.116482Z",
     "iopub.status.busy": "2021-07-15T18:14:53.116164Z",
     "iopub.status.idle": "2021-07-15T18:14:53.145361Z",
     "shell.execute_reply": "2021-07-15T18:14:53.144155Z",
     "shell.execute_reply.started": "2021-07-15T18:14:53.116454Z"
    }
   },
   "outputs": [
    {
     "data": {
      "text/html": [
       "<div>\n",
       "<style scoped>\n",
       "    .dataframe tbody tr th:only-of-type {\n",
       "        vertical-align: middle;\n",
       "    }\n",
       "\n",
       "    .dataframe tbody tr th {\n",
       "        vertical-align: top;\n",
       "    }\n",
       "\n",
       "    .dataframe thead th {\n",
       "        text-align: right;\n",
       "    }\n",
       "</style>\n",
       "<table border=\"1\" class=\"dataframe\">\n",
       "  <thead>\n",
       "    <tr style=\"text-align: right;\">\n",
       "      <th></th>\n",
       "      <th>ID</th>\n",
       "      <th>Agency</th>\n",
       "      <th>Agency Type</th>\n",
       "      <th>Distribution Channel</th>\n",
       "      <th>Product Name</th>\n",
       "      <th>Duration</th>\n",
       "      <th>Destination</th>\n",
       "      <th>Net Sales</th>\n",
       "      <th>Commision (in value)</th>\n",
       "      <th>Age</th>\n",
       "      <th>Claim</th>\n",
       "    </tr>\n",
       "  </thead>\n",
       "  <tbody>\n",
       "    <tr>\n",
       "      <th>382</th>\n",
       "      <td>9512</td>\n",
       "      <td>SSI</td>\n",
       "      <td>Airlines</td>\n",
       "      <td>Online</td>\n",
       "      <td>Ticket Protector</td>\n",
       "      <td>4736</td>\n",
       "      <td>SINGAPORE</td>\n",
       "      <td>0.32</td>\n",
       "      <td>0.09</td>\n",
       "      <td>48</td>\n",
       "      <td>0</td>\n",
       "    </tr>\n",
       "    <tr>\n",
       "      <th>2609</th>\n",
       "      <td>4476</td>\n",
       "      <td>C2B</td>\n",
       "      <td>Airlines</td>\n",
       "      <td>Online</td>\n",
       "      <td>Annual Silver Plan</td>\n",
       "      <td>740</td>\n",
       "      <td>SINGAPORE</td>\n",
       "      <td>0.00</td>\n",
       "      <td>54.19</td>\n",
       "      <td>36</td>\n",
       "      <td>0</td>\n",
       "    </tr>\n",
       "    <tr>\n",
       "      <th>3469</th>\n",
       "      <td>5446</td>\n",
       "      <td>C2B</td>\n",
       "      <td>Airlines</td>\n",
       "      <td>Online</td>\n",
       "      <td>Annual Silver Plan</td>\n",
       "      <td>547</td>\n",
       "      <td>SINGAPORE</td>\n",
       "      <td>252.85</td>\n",
       "      <td>63.21</td>\n",
       "      <td>33</td>\n",
       "      <td>0</td>\n",
       "    </tr>\n",
       "    <tr>\n",
       "      <th>7766</th>\n",
       "      <td>4113</td>\n",
       "      <td>SSI</td>\n",
       "      <td>Airlines</td>\n",
       "      <td>Online</td>\n",
       "      <td>Ticket Protector</td>\n",
       "      <td>4831</td>\n",
       "      <td>SINGAPORE</td>\n",
       "      <td>0.32</td>\n",
       "      <td>0.09</td>\n",
       "      <td>48</td>\n",
       "      <td>0</td>\n",
       "    </tr>\n",
       "    <tr>\n",
       "      <th>14544</th>\n",
       "      <td>3927</td>\n",
       "      <td>SSI</td>\n",
       "      <td>Airlines</td>\n",
       "      <td>Online</td>\n",
       "      <td>Ticket Protector</td>\n",
       "      <td>4847</td>\n",
       "      <td>SINGAPORE</td>\n",
       "      <td>0.32</td>\n",
       "      <td>0.09</td>\n",
       "      <td>48</td>\n",
       "      <td>0</td>\n",
       "    </tr>\n",
       "    <tr>\n",
       "      <th>22123</th>\n",
       "      <td>3165</td>\n",
       "      <td>SSI</td>\n",
       "      <td>Airlines</td>\n",
       "      <td>Online</td>\n",
       "      <td>Ticket Protector</td>\n",
       "      <td>4844</td>\n",
       "      <td>SINGAPORE</td>\n",
       "      <td>0.32</td>\n",
       "      <td>0.09</td>\n",
       "      <td>48</td>\n",
       "      <td>0</td>\n",
       "    </tr>\n",
       "    <tr>\n",
       "      <th>31985</th>\n",
       "      <td>5697</td>\n",
       "      <td>SSI</td>\n",
       "      <td>Airlines</td>\n",
       "      <td>Online</td>\n",
       "      <td>Ticket Protector</td>\n",
       "      <td>4815</td>\n",
       "      <td>SINGAPORE</td>\n",
       "      <td>0.32</td>\n",
       "      <td>0.09</td>\n",
       "      <td>48</td>\n",
       "      <td>0</td>\n",
       "    </tr>\n",
       "    <tr>\n",
       "      <th>33701</th>\n",
       "      <td>6734</td>\n",
       "      <td>SSI</td>\n",
       "      <td>Airlines</td>\n",
       "      <td>Online</td>\n",
       "      <td>Ticket Protector</td>\n",
       "      <td>4580</td>\n",
       "      <td>SINGAPORE</td>\n",
       "      <td>0.32</td>\n",
       "      <td>0.09</td>\n",
       "      <td>48</td>\n",
       "      <td>0</td>\n",
       "    </tr>\n",
       "    <tr>\n",
       "      <th>43158</th>\n",
       "      <td>5331</td>\n",
       "      <td>SSI</td>\n",
       "      <td>Airlines</td>\n",
       "      <td>Online</td>\n",
       "      <td>Ticket Protector</td>\n",
       "      <td>4609</td>\n",
       "      <td>SINGAPORE</td>\n",
       "      <td>0.32</td>\n",
       "      <td>0.09</td>\n",
       "      <td>48</td>\n",
       "      <td>0</td>\n",
       "    </tr>\n",
       "    <tr>\n",
       "      <th>47724</th>\n",
       "      <td>6840</td>\n",
       "      <td>C2B</td>\n",
       "      <td>Airlines</td>\n",
       "      <td>Online</td>\n",
       "      <td>Annual Silver Plan</td>\n",
       "      <td>545</td>\n",
       "      <td>SINGAPORE</td>\n",
       "      <td>161.00</td>\n",
       "      <td>40.25</td>\n",
       "      <td>40</td>\n",
       "      <td>0</td>\n",
       "    </tr>\n",
       "    <tr>\n",
       "      <th>47791</th>\n",
       "      <td>3123</td>\n",
       "      <td>SSI</td>\n",
       "      <td>Airlines</td>\n",
       "      <td>Online</td>\n",
       "      <td>Ticket Protector</td>\n",
       "      <td>4881</td>\n",
       "      <td>SINGAPORE</td>\n",
       "      <td>0.13</td>\n",
       "      <td>0.04</td>\n",
       "      <td>48</td>\n",
       "      <td>0</td>\n",
       "    </tr>\n",
       "    <tr>\n",
       "      <th>48880</th>\n",
       "      <td>4682</td>\n",
       "      <td>SSI</td>\n",
       "      <td>Airlines</td>\n",
       "      <td>Online</td>\n",
       "      <td>Ticket Protector</td>\n",
       "      <td>4784</td>\n",
       "      <td>SINGAPORE</td>\n",
       "      <td>0.32</td>\n",
       "      <td>0.09</td>\n",
       "      <td>48</td>\n",
       "      <td>0</td>\n",
       "    </tr>\n",
       "  </tbody>\n",
       "</table>\n",
       "</div>"
      ],
      "text/plain": [
       "         ID Agency Agency Type Distribution Channel        Product Name  \\\n",
       "382    9512    SSI    Airlines               Online    Ticket Protector   \n",
       "2609   4476    C2B    Airlines               Online  Annual Silver Plan   \n",
       "3469   5446    C2B    Airlines               Online  Annual Silver Plan   \n",
       "7766   4113    SSI    Airlines               Online    Ticket Protector   \n",
       "14544  3927    SSI    Airlines               Online    Ticket Protector   \n",
       "22123  3165    SSI    Airlines               Online    Ticket Protector   \n",
       "31985  5697    SSI    Airlines               Online    Ticket Protector   \n",
       "33701  6734    SSI    Airlines               Online    Ticket Protector   \n",
       "43158  5331    SSI    Airlines               Online    Ticket Protector   \n",
       "47724  6840    C2B    Airlines               Online  Annual Silver Plan   \n",
       "47791  3123    SSI    Airlines               Online    Ticket Protector   \n",
       "48880  4682    SSI    Airlines               Online    Ticket Protector   \n",
       "\n",
       "       Duration Destination  Net Sales  Commision (in value)  Age  Claim  \n",
       "382        4736   SINGAPORE       0.32                  0.09   48      0  \n",
       "2609        740   SINGAPORE       0.00                 54.19   36      0  \n",
       "3469        547   SINGAPORE     252.85                 63.21   33      0  \n",
       "7766       4831   SINGAPORE       0.32                  0.09   48      0  \n",
       "14544      4847   SINGAPORE       0.32                  0.09   48      0  \n",
       "22123      4844   SINGAPORE       0.32                  0.09   48      0  \n",
       "31985      4815   SINGAPORE       0.32                  0.09   48      0  \n",
       "33701      4580   SINGAPORE       0.32                  0.09   48      0  \n",
       "43158      4609   SINGAPORE       0.32                  0.09   48      0  \n",
       "47724       545   SINGAPORE     161.00                 40.25   40      0  \n",
       "47791      4881   SINGAPORE       0.13                  0.04   48      0  \n",
       "48880      4784   SINGAPORE       0.32                  0.09   48      0  "
      ]
     },
     "execution_count": 36,
     "metadata": {},
     "output_type": "execute_result"
    }
   ],
   "source": [
    "df[df['Duration'].ge(545)]"
   ]
  },
  {
   "cell_type": "code",
   "execution_count": 37,
   "metadata": {
    "execution": {
     "iopub.execute_input": "2021-07-15T18:14:53.146809Z",
     "iopub.status.busy": "2021-07-15T18:14:53.146506Z",
     "iopub.status.idle": "2021-07-15T18:14:53.193397Z",
     "shell.execute_reply": "2021-07-15T18:14:53.192044Z",
     "shell.execute_reply.started": "2021-07-15T18:14:53.146781Z"
    }
   },
   "outputs": [
    {
     "name": "stdout",
     "output_type": "stream",
     "text": [
      "<class 'pandas.core.frame.DataFrame'>\n",
      "RangeIndex: 52310 entries, 0 to 52309\n",
      "Data columns (total 11 columns):\n",
      " #   Column                Non-Null Count  Dtype  \n",
      "---  ------                --------------  -----  \n",
      " 0   ID                    52310 non-null  int64  \n",
      " 1   Agency                52310 non-null  object \n",
      " 2   Agency Type           52310 non-null  object \n",
      " 3   Distribution Channel  52310 non-null  object \n",
      " 4   Product Name          52310 non-null  object \n",
      " 5   Duration              52310 non-null  int64  \n",
      " 6   Destination           52310 non-null  object \n",
      " 7   Net Sales             52310 non-null  float64\n",
      " 8   Commision (in value)  52310 non-null  float64\n",
      " 9   Age                   52310 non-null  int64  \n",
      " 10  Claim                 52310 non-null  int64  \n",
      "dtypes: float64(2), int64(4), object(5)\n",
      "memory usage: 4.4+ MB\n"
     ]
    }
   ],
   "source": [
    "df.info()"
   ]
  },
  {
   "cell_type": "code",
   "execution_count": 38,
   "metadata": {
    "execution": {
     "iopub.execute_input": "2021-07-15T18:14:53.195542Z",
     "iopub.status.busy": "2021-07-15T18:14:53.195224Z",
     "iopub.status.idle": "2021-07-15T18:14:53.239230Z",
     "shell.execute_reply": "2021-07-15T18:14:53.238166Z",
     "shell.execute_reply.started": "2021-07-15T18:14:53.195510Z"
    }
   },
   "outputs": [
    {
     "data": {
      "text/html": [
       "<div>\n",
       "<style scoped>\n",
       "    .dataframe tbody tr th:only-of-type {\n",
       "        vertical-align: middle;\n",
       "    }\n",
       "\n",
       "    .dataframe tbody tr th {\n",
       "        vertical-align: top;\n",
       "    }\n",
       "\n",
       "    .dataframe thead th {\n",
       "        text-align: right;\n",
       "    }\n",
       "</style>\n",
       "<table border=\"1\" class=\"dataframe\">\n",
       "  <thead>\n",
       "    <tr style=\"text-align: right;\">\n",
       "      <th></th>\n",
       "      <th>ID</th>\n",
       "      <th>Duration</th>\n",
       "      <th>Net Sales</th>\n",
       "      <th>Commision (in value)</th>\n",
       "      <th>Age</th>\n",
       "      <th>Claim</th>\n",
       "    </tr>\n",
       "  </thead>\n",
       "  <tbody>\n",
       "    <tr>\n",
       "      <th>count</th>\n",
       "      <td>52310.000000</td>\n",
       "      <td>52310.000000</td>\n",
       "      <td>52310.000000</td>\n",
       "      <td>52310.000000</td>\n",
       "      <td>52310.000000</td>\n",
       "      <td>52310.000000</td>\n",
       "    </tr>\n",
       "    <tr>\n",
       "      <th>mean</th>\n",
       "      <td>6005.745804</td>\n",
       "      <td>58.256108</td>\n",
       "      <td>48.554673</td>\n",
       "      <td>12.219963</td>\n",
       "      <td>39.555725</td>\n",
       "      <td>0.166699</td>\n",
       "    </tr>\n",
       "    <tr>\n",
       "      <th>std</th>\n",
       "      <td>2306.450475</td>\n",
       "      <td>109.138708</td>\n",
       "      <td>60.198589</td>\n",
       "      <td>22.847645</td>\n",
       "      <td>13.762473</td>\n",
       "      <td>0.372710</td>\n",
       "    </tr>\n",
       "    <tr>\n",
       "      <th>min</th>\n",
       "      <td>2000.000000</td>\n",
       "      <td>-2.000000</td>\n",
       "      <td>-389.000000</td>\n",
       "      <td>0.000000</td>\n",
       "      <td>0.000000</td>\n",
       "      <td>0.000000</td>\n",
       "    </tr>\n",
       "    <tr>\n",
       "      <th>25%</th>\n",
       "      <td>4015.000000</td>\n",
       "      <td>10.000000</td>\n",
       "      <td>19.800000</td>\n",
       "      <td>0.000000</td>\n",
       "      <td>33.000000</td>\n",
       "      <td>0.000000</td>\n",
       "    </tr>\n",
       "    <tr>\n",
       "      <th>50%</th>\n",
       "      <td>6002.000000</td>\n",
       "      <td>24.000000</td>\n",
       "      <td>29.500000</td>\n",
       "      <td>0.000000</td>\n",
       "      <td>36.000000</td>\n",
       "      <td>0.000000</td>\n",
       "    </tr>\n",
       "    <tr>\n",
       "      <th>75%</th>\n",
       "      <td>8004.000000</td>\n",
       "      <td>57.000000</td>\n",
       "      <td>55.000000</td>\n",
       "      <td>13.380000</td>\n",
       "      <td>43.000000</td>\n",
       "      <td>0.000000</td>\n",
       "    </tr>\n",
       "    <tr>\n",
       "      <th>max</th>\n",
       "      <td>10000.000000</td>\n",
       "      <td>4881.000000</td>\n",
       "      <td>682.000000</td>\n",
       "      <td>262.760000</td>\n",
       "      <td>118.000000</td>\n",
       "      <td>1.000000</td>\n",
       "    </tr>\n",
       "  </tbody>\n",
       "</table>\n",
       "</div>"
      ],
      "text/plain": [
       "                 ID      Duration     Net Sales  Commision (in value)  \\\n",
       "count  52310.000000  52310.000000  52310.000000          52310.000000   \n",
       "mean    6005.745804     58.256108     48.554673             12.219963   \n",
       "std     2306.450475    109.138708     60.198589             22.847645   \n",
       "min     2000.000000     -2.000000   -389.000000              0.000000   \n",
       "25%     4015.000000     10.000000     19.800000              0.000000   \n",
       "50%     6002.000000     24.000000     29.500000              0.000000   \n",
       "75%     8004.000000     57.000000     55.000000             13.380000   \n",
       "max    10000.000000   4881.000000    682.000000            262.760000   \n",
       "\n",
       "                Age         Claim  \n",
       "count  52310.000000  52310.000000  \n",
       "mean      39.555725      0.166699  \n",
       "std       13.762473      0.372710  \n",
       "min        0.000000      0.000000  \n",
       "25%       33.000000      0.000000  \n",
       "50%       36.000000      0.000000  \n",
       "75%       43.000000      0.000000  \n",
       "max      118.000000      1.000000  "
      ]
     },
     "execution_count": 38,
     "metadata": {},
     "output_type": "execute_result"
    }
   ],
   "source": [
    "df.describe()"
   ]
  },
  {
   "cell_type": "code",
   "execution_count": 39,
   "metadata": {
    "execution": {
     "iopub.execute_input": "2021-07-15T18:14:53.243978Z",
     "iopub.status.busy": "2021-07-15T18:14:53.243634Z",
     "iopub.status.idle": "2021-07-15T18:14:53.259107Z",
     "shell.execute_reply": "2021-07-15T18:14:53.257973Z",
     "shell.execute_reply.started": "2021-07-15T18:14:53.243949Z"
    }
   },
   "outputs": [
    {
     "data": {
      "text/html": [
       "<div>\n",
       "<style scoped>\n",
       "    .dataframe tbody tr th:only-of-type {\n",
       "        vertical-align: middle;\n",
       "    }\n",
       "\n",
       "    .dataframe tbody tr th {\n",
       "        vertical-align: top;\n",
       "    }\n",
       "\n",
       "    .dataframe thead th {\n",
       "        text-align: right;\n",
       "    }\n",
       "</style>\n",
       "<table border=\"1\" class=\"dataframe\">\n",
       "  <thead>\n",
       "    <tr style=\"text-align: right;\">\n",
       "      <th></th>\n",
       "      <th>ID</th>\n",
       "      <th>Agency</th>\n",
       "      <th>Agency Type</th>\n",
       "      <th>Distribution Channel</th>\n",
       "      <th>Product Name</th>\n",
       "      <th>Duration</th>\n",
       "      <th>Destination</th>\n",
       "      <th>Net Sales</th>\n",
       "      <th>Commision (in value)</th>\n",
       "      <th>Age</th>\n",
       "      <th>Claim</th>\n",
       "    </tr>\n",
       "  </thead>\n",
       "  <tbody>\n",
       "  </tbody>\n",
       "</table>\n",
       "</div>"
      ],
      "text/plain": [
       "Empty DataFrame\n",
       "Columns: [ID, Agency, Agency Type, Distribution Channel, Product Name, Duration, Destination, Net Sales, Commision (in value), Age, Claim]\n",
       "Index: []"
      ]
     },
     "execution_count": 39,
     "metadata": {},
     "output_type": "execute_result"
    }
   ],
   "source": [
    "maxduration=df[df['Duration'].ge(545)]\n",
    "maxduration.drop(indexs,axis=0)"
   ]
  },
  {
   "cell_type": "code",
   "execution_count": 40,
   "metadata": {
    "execution": {
     "iopub.execute_input": "2021-07-15T18:14:53.262651Z",
     "iopub.status.busy": "2021-07-15T18:14:53.262303Z",
     "iopub.status.idle": "2021-07-15T18:14:53.279747Z",
     "shell.execute_reply": "2021-07-15T18:14:53.278365Z",
     "shell.execute_reply.started": "2021-07-15T18:14:53.262615Z"
    }
   },
   "outputs": [],
   "source": [
    "df.drop(df[df['Duration'].ge(545)].index,axis=0,inplace=True)"
   ]
  },
  {
   "cell_type": "code",
   "execution_count": 41,
   "metadata": {
    "execution": {
     "iopub.execute_input": "2021-07-15T18:14:53.281789Z",
     "iopub.status.busy": "2021-07-15T18:14:53.281444Z",
     "iopub.status.idle": "2021-07-15T18:14:53.286315Z",
     "shell.execute_reply": "2021-07-15T18:14:53.285106Z",
     "shell.execute_reply.started": "2021-07-15T18:14:53.281755Z"
    }
   },
   "outputs": [],
   "source": [
    "#df.groupby(['Product Name','Duration']).\n"
   ]
  },
  {
   "cell_type": "code",
   "execution_count": 42,
   "metadata": {
    "execution": {
     "iopub.execute_input": "2021-07-15T18:14:53.288155Z",
     "iopub.status.busy": "2021-07-15T18:14:53.287762Z",
     "iopub.status.idle": "2021-07-15T18:14:53.312820Z",
     "shell.execute_reply": "2021-07-15T18:14:53.311883Z",
     "shell.execute_reply.started": "2021-07-15T18:14:53.288113Z"
    }
   },
   "outputs": [
    {
     "data": {
      "text/plain": [
       "Product Name\n",
       "1 way Comprehensive Plan                 22.659610\n",
       "2 way Comprehensive Plan                 45.217717\n",
       "24 Protect                               26.903030\n",
       "Annual Gold Plan                        370.762712\n",
       "Annual Silver Plan                      372.640938\n",
       "Annual Travel Protect Gold              375.295082\n",
       "Annual Travel Protect Platinum          380.260000\n",
       "Annual Travel Protect Silver            384.804348\n",
       "Basic Plan                               33.555171\n",
       "Bronze Plan                              26.778319\n",
       "Cancellation Plan                        39.263619\n",
       "Child Comprehensive Plan                365.750000\n",
       "Comprehensive Plan                       76.280576\n",
       "Gold Plan                                26.742105\n",
       "Individual Comprehensive Plan           364.654762\n",
       "Premier Plan                             47.014184\n",
       "Rental Vehicle Excess Insurance          41.354029\n",
       "Silver Plan                              30.240741\n",
       "Single Trip Travel Protect Gold          17.852590\n",
       "Single Trip Travel Protect Platinum      22.220000\n",
       "Single Trip Travel Protect Silver        26.215385\n",
       "Spouse or Parents Comprehensive Plan    368.666667\n",
       "Ticket Protector                         59.177691\n",
       "Travel Cruise Protect                    37.149746\n",
       "Value Plan                               32.053544\n",
       "Name: Duration, dtype: float64"
      ]
     },
     "execution_count": 42,
     "metadata": {},
     "output_type": "execute_result"
    }
   ],
   "source": [
    "productMeanDuration=df.groupby('Product Name')['Duration'].mean()\n",
    "productMeanDuration"
   ]
  },
  {
   "cell_type": "code",
   "execution_count": null,
   "metadata": {},
   "outputs": [],
   "source": []
  },
  {
   "cell_type": "code",
   "execution_count": 43,
   "metadata": {
    "execution": {
     "iopub.execute_input": "2021-07-15T18:14:53.314540Z",
     "iopub.status.busy": "2021-07-15T18:14:53.314241Z",
     "iopub.status.idle": "2021-07-15T18:14:53.345785Z",
     "shell.execute_reply": "2021-07-15T18:14:53.345108Z",
     "shell.execute_reply.started": "2021-07-15T18:14:53.314512Z"
    }
   },
   "outputs": [
    {
     "data": {
      "text/html": [
       "<div>\n",
       "<style scoped>\n",
       "    .dataframe tbody tr th:only-of-type {\n",
       "        vertical-align: middle;\n",
       "    }\n",
       "\n",
       "    .dataframe tbody tr th {\n",
       "        vertical-align: top;\n",
       "    }\n",
       "\n",
       "    .dataframe thead th {\n",
       "        text-align: right;\n",
       "    }\n",
       "</style>\n",
       "<table border=\"1\" class=\"dataframe\">\n",
       "  <thead>\n",
       "    <tr style=\"text-align: right;\">\n",
       "      <th></th>\n",
       "      <th>ID</th>\n",
       "      <th>Agency</th>\n",
       "      <th>Agency Type</th>\n",
       "      <th>Distribution Channel</th>\n",
       "      <th>Product Name</th>\n",
       "      <th>Duration</th>\n",
       "      <th>Destination</th>\n",
       "      <th>Net Sales</th>\n",
       "      <th>Commision (in value)</th>\n",
       "      <th>Age</th>\n",
       "      <th>Claim</th>\n",
       "    </tr>\n",
       "  </thead>\n",
       "  <tbody>\n",
       "    <tr>\n",
       "      <th>0</th>\n",
       "      <td>2010</td>\n",
       "      <td>EPX</td>\n",
       "      <td>Travel Agency</td>\n",
       "      <td>Online</td>\n",
       "      <td>Cancellation Plan</td>\n",
       "      <td>61</td>\n",
       "      <td>PHILIPPINES</td>\n",
       "      <td>12.000000</td>\n",
       "      <td>0.0000</td>\n",
       "      <td>41</td>\n",
       "      <td>0</td>\n",
       "    </tr>\n",
       "    <tr>\n",
       "      <th>1</th>\n",
       "      <td>4245</td>\n",
       "      <td>EPX</td>\n",
       "      <td>Travel Agency</td>\n",
       "      <td>Online</td>\n",
       "      <td>Cancellation Plan</td>\n",
       "      <td>4</td>\n",
       "      <td>MALAYSIA</td>\n",
       "      <td>17.000000</td>\n",
       "      <td>0.0000</td>\n",
       "      <td>35</td>\n",
       "      <td>0</td>\n",
       "    </tr>\n",
       "    <tr>\n",
       "      <th>2</th>\n",
       "      <td>9251</td>\n",
       "      <td>CWT</td>\n",
       "      <td>Travel Agency</td>\n",
       "      <td>Online</td>\n",
       "      <td>Rental Vehicle Excess Insurance</td>\n",
       "      <td>26</td>\n",
       "      <td>THAILAND</td>\n",
       "      <td>19.800000</td>\n",
       "      <td>11.8800</td>\n",
       "      <td>47</td>\n",
       "      <td>0</td>\n",
       "    </tr>\n",
       "    <tr>\n",
       "      <th>3</th>\n",
       "      <td>4754</td>\n",
       "      <td>EPX</td>\n",
       "      <td>Travel Agency</td>\n",
       "      <td>Online</td>\n",
       "      <td>2 way Comprehensive Plan</td>\n",
       "      <td>15</td>\n",
       "      <td>HONG KONG</td>\n",
       "      <td>27.000000</td>\n",
       "      <td>0.0000</td>\n",
       "      <td>48</td>\n",
       "      <td>0</td>\n",
       "    </tr>\n",
       "    <tr>\n",
       "      <th>4</th>\n",
       "      <td>8840</td>\n",
       "      <td>EPX</td>\n",
       "      <td>Travel Agency</td>\n",
       "      <td>Online</td>\n",
       "      <td>2 way Comprehensive Plan</td>\n",
       "      <td>15</td>\n",
       "      <td>MALAYSIA</td>\n",
       "      <td>37.000000</td>\n",
       "      <td>0.0000</td>\n",
       "      <td>36</td>\n",
       "      <td>0</td>\n",
       "    </tr>\n",
       "    <tr>\n",
       "      <th>...</th>\n",
       "      <td>...</td>\n",
       "      <td>...</td>\n",
       "      <td>...</td>\n",
       "      <td>...</td>\n",
       "      <td>...</td>\n",
       "      <td>...</td>\n",
       "      <td>...</td>\n",
       "      <td>...</td>\n",
       "      <td>...</td>\n",
       "      <td>...</td>\n",
       "      <td>...</td>\n",
       "    </tr>\n",
       "    <tr>\n",
       "      <th>52305</th>\n",
       "      <td>5370</td>\n",
       "      <td>C2B</td>\n",
       "      <td>Airlines</td>\n",
       "      <td>Online</td>\n",
       "      <td>Annual Gold Plan</td>\n",
       "      <td>365</td>\n",
       "      <td>SINGAPORE</td>\n",
       "      <td>444.750593</td>\n",
       "      <td>111.1858</td>\n",
       "      <td>40</td>\n",
       "      <td>1</td>\n",
       "    </tr>\n",
       "    <tr>\n",
       "      <th>52306</th>\n",
       "      <td>5282</td>\n",
       "      <td>RAB</td>\n",
       "      <td>Airlines</td>\n",
       "      <td>Online</td>\n",
       "      <td>Value Plan</td>\n",
       "      <td>8</td>\n",
       "      <td>BRUNEI DARUSSALAM</td>\n",
       "      <td>23.000000</td>\n",
       "      <td>9.2000</td>\n",
       "      <td>54</td>\n",
       "      <td>0</td>\n",
       "    </tr>\n",
       "    <tr>\n",
       "      <th>52307</th>\n",
       "      <td>7083</td>\n",
       "      <td>C2B</td>\n",
       "      <td>Airlines</td>\n",
       "      <td>Online</td>\n",
       "      <td>Bronze Plan</td>\n",
       "      <td>38</td>\n",
       "      <td>SINGAPORE</td>\n",
       "      <td>61.100000</td>\n",
       "      <td>15.2800</td>\n",
       "      <td>37</td>\n",
       "      <td>0</td>\n",
       "    </tr>\n",
       "    <tr>\n",
       "      <th>52308</th>\n",
       "      <td>8523</td>\n",
       "      <td>EPX</td>\n",
       "      <td>Travel Agency</td>\n",
       "      <td>Online</td>\n",
       "      <td>Cancellation Plan</td>\n",
       "      <td>2</td>\n",
       "      <td>THAILAND</td>\n",
       "      <td>10.000000</td>\n",
       "      <td>0.0000</td>\n",
       "      <td>46</td>\n",
       "      <td>0</td>\n",
       "    </tr>\n",
       "    <tr>\n",
       "      <th>52309</th>\n",
       "      <td>4791</td>\n",
       "      <td>C2B</td>\n",
       "      <td>Airlines</td>\n",
       "      <td>Online</td>\n",
       "      <td>Annual Silver Plan</td>\n",
       "      <td>414</td>\n",
       "      <td>SINGAPORE</td>\n",
       "      <td>216.000000</td>\n",
       "      <td>54.0000</td>\n",
       "      <td>41</td>\n",
       "      <td>0</td>\n",
       "    </tr>\n",
       "  </tbody>\n",
       "</table>\n",
       "<p>52298 rows × 11 columns</p>\n",
       "</div>"
      ],
      "text/plain": [
       "         ID Agency    Agency Type Distribution Channel  \\\n",
       "0      2010    EPX  Travel Agency               Online   \n",
       "1      4245    EPX  Travel Agency               Online   \n",
       "2      9251    CWT  Travel Agency               Online   \n",
       "3      4754    EPX  Travel Agency               Online   \n",
       "4      8840    EPX  Travel Agency               Online   \n",
       "...     ...    ...            ...                  ...   \n",
       "52305  5370    C2B       Airlines               Online   \n",
       "52306  5282    RAB       Airlines               Online   \n",
       "52307  7083    C2B       Airlines               Online   \n",
       "52308  8523    EPX  Travel Agency               Online   \n",
       "52309  4791    C2B       Airlines               Online   \n",
       "\n",
       "                          Product Name  Duration        Destination  \\\n",
       "0                    Cancellation Plan        61        PHILIPPINES   \n",
       "1                    Cancellation Plan         4           MALAYSIA   \n",
       "2      Rental Vehicle Excess Insurance        26           THAILAND   \n",
       "3             2 way Comprehensive Plan        15          HONG KONG   \n",
       "4             2 way Comprehensive Plan        15           MALAYSIA   \n",
       "...                                ...       ...                ...   \n",
       "52305                 Annual Gold Plan       365          SINGAPORE   \n",
       "52306                       Value Plan         8  BRUNEI DARUSSALAM   \n",
       "52307                      Bronze Plan        38          SINGAPORE   \n",
       "52308                Cancellation Plan         2           THAILAND   \n",
       "52309               Annual Silver Plan       414          SINGAPORE   \n",
       "\n",
       "        Net Sales  Commision (in value)  Age  Claim  \n",
       "0       12.000000                0.0000   41      0  \n",
       "1       17.000000                0.0000   35      0  \n",
       "2       19.800000               11.8800   47      0  \n",
       "3       27.000000                0.0000   48      0  \n",
       "4       37.000000                0.0000   36      0  \n",
       "...           ...                   ...  ...    ...  \n",
       "52305  444.750593              111.1858   40      1  \n",
       "52306   23.000000                9.2000   54      0  \n",
       "52307   61.100000               15.2800   37      0  \n",
       "52308   10.000000                0.0000   46      0  \n",
       "52309  216.000000               54.0000   41      0  \n",
       "\n",
       "[52298 rows x 11 columns]"
      ]
     },
     "execution_count": 43,
     "metadata": {},
     "output_type": "execute_result"
    }
   ],
   "source": [
    "df = df.replace(maxduration,productMeanDuration)\n",
    "df"
   ]
  },
  {
   "cell_type": "code",
   "execution_count": 44,
   "metadata": {
    "execution": {
     "iopub.execute_input": "2021-07-15T18:14:53.347117Z",
     "iopub.status.busy": "2021-07-15T18:14:53.346733Z",
     "iopub.status.idle": "2021-07-15T18:14:53.373942Z",
     "shell.execute_reply": "2021-07-15T18:14:53.373182Z",
     "shell.execute_reply.started": "2021-07-15T18:14:53.347090Z"
    }
   },
   "outputs": [
    {
     "data": {
      "text/html": [
       "<div>\n",
       "<style scoped>\n",
       "    .dataframe tbody tr th:only-of-type {\n",
       "        vertical-align: middle;\n",
       "    }\n",
       "\n",
       "    .dataframe tbody tr th {\n",
       "        vertical-align: top;\n",
       "    }\n",
       "\n",
       "    .dataframe thead th {\n",
       "        text-align: right;\n",
       "    }\n",
       "</style>\n",
       "<table border=\"1\" class=\"dataframe\">\n",
       "  <thead>\n",
       "    <tr style=\"text-align: right;\">\n",
       "      <th></th>\n",
       "      <th>ID</th>\n",
       "      <th>Agency</th>\n",
       "      <th>Agency Type</th>\n",
       "      <th>Distribution Channel</th>\n",
       "      <th>Product Name</th>\n",
       "      <th>Duration</th>\n",
       "      <th>Destination</th>\n",
       "      <th>Net Sales</th>\n",
       "      <th>Commision (in value)</th>\n",
       "      <th>Age</th>\n",
       "      <th>Claim</th>\n",
       "    </tr>\n",
       "  </thead>\n",
       "  <tbody>\n",
       "    <tr>\n",
       "      <th>31</th>\n",
       "      <td>6106</td>\n",
       "      <td>C2B</td>\n",
       "      <td>Airlines</td>\n",
       "      <td>Online</td>\n",
       "      <td>Annual Silver Plan</td>\n",
       "      <td>374</td>\n",
       "      <td>SINGAPORE</td>\n",
       "      <td>216.000000</td>\n",
       "      <td>54.0000</td>\n",
       "      <td>33</td>\n",
       "      <td>0</td>\n",
       "    </tr>\n",
       "    <tr>\n",
       "      <th>53</th>\n",
       "      <td>2406</td>\n",
       "      <td>C2B</td>\n",
       "      <td>Airlines</td>\n",
       "      <td>Online</td>\n",
       "      <td>Annual Gold Plan</td>\n",
       "      <td>391</td>\n",
       "      <td>SINGAPORE</td>\n",
       "      <td>449.250000</td>\n",
       "      <td>112.3100</td>\n",
       "      <td>32</td>\n",
       "      <td>0</td>\n",
       "    </tr>\n",
       "    <tr>\n",
       "      <th>65</th>\n",
       "      <td>4313</td>\n",
       "      <td>C2B</td>\n",
       "      <td>Airlines</td>\n",
       "      <td>Online</td>\n",
       "      <td>Annual Silver Plan</td>\n",
       "      <td>365</td>\n",
       "      <td>SINGAPORE</td>\n",
       "      <td>252.850000</td>\n",
       "      <td>63.2100</td>\n",
       "      <td>61</td>\n",
       "      <td>1</td>\n",
       "    </tr>\n",
       "    <tr>\n",
       "      <th>74</th>\n",
       "      <td>3619</td>\n",
       "      <td>C2B</td>\n",
       "      <td>Airlines</td>\n",
       "      <td>Online</td>\n",
       "      <td>Annual Silver Plan</td>\n",
       "      <td>396</td>\n",
       "      <td>SINGAPORE</td>\n",
       "      <td>291.750000</td>\n",
       "      <td>72.9400</td>\n",
       "      <td>34</td>\n",
       "      <td>1</td>\n",
       "    </tr>\n",
       "    <tr>\n",
       "      <th>89</th>\n",
       "      <td>6679</td>\n",
       "      <td>C2B</td>\n",
       "      <td>Airlines</td>\n",
       "      <td>Online</td>\n",
       "      <td>Annual Silver Plan</td>\n",
       "      <td>369</td>\n",
       "      <td>SINGAPORE</td>\n",
       "      <td>216.000000</td>\n",
       "      <td>54.0000</td>\n",
       "      <td>35</td>\n",
       "      <td>0</td>\n",
       "    </tr>\n",
       "    <tr>\n",
       "      <th>...</th>\n",
       "      <td>...</td>\n",
       "      <td>...</td>\n",
       "      <td>...</td>\n",
       "      <td>...</td>\n",
       "      <td>...</td>\n",
       "      <td>...</td>\n",
       "      <td>...</td>\n",
       "      <td>...</td>\n",
       "      <td>...</td>\n",
       "      <td>...</td>\n",
       "      <td>...</td>\n",
       "    </tr>\n",
       "    <tr>\n",
       "      <th>52187</th>\n",
       "      <td>5856</td>\n",
       "      <td>C2B</td>\n",
       "      <td>Airlines</td>\n",
       "      <td>Online</td>\n",
       "      <td>Annual Silver Plan</td>\n",
       "      <td>367</td>\n",
       "      <td>SINGAPORE</td>\n",
       "      <td>161.000000</td>\n",
       "      <td>40.2500</td>\n",
       "      <td>36</td>\n",
       "      <td>0</td>\n",
       "    </tr>\n",
       "    <tr>\n",
       "      <th>52212</th>\n",
       "      <td>4433</td>\n",
       "      <td>C2B</td>\n",
       "      <td>Airlines</td>\n",
       "      <td>Online</td>\n",
       "      <td>Annual Silver Plan</td>\n",
       "      <td>364</td>\n",
       "      <td>SINGAPORE</td>\n",
       "      <td>252.850000</td>\n",
       "      <td>63.2100</td>\n",
       "      <td>43</td>\n",
       "      <td>1</td>\n",
       "    </tr>\n",
       "    <tr>\n",
       "      <th>52253</th>\n",
       "      <td>8193</td>\n",
       "      <td>C2B</td>\n",
       "      <td>Airlines</td>\n",
       "      <td>Online</td>\n",
       "      <td>Annual Gold Plan</td>\n",
       "      <td>417</td>\n",
       "      <td>SINGAPORE</td>\n",
       "      <td>321.750000</td>\n",
       "      <td>80.4400</td>\n",
       "      <td>43</td>\n",
       "      <td>0</td>\n",
       "    </tr>\n",
       "    <tr>\n",
       "      <th>52305</th>\n",
       "      <td>5370</td>\n",
       "      <td>C2B</td>\n",
       "      <td>Airlines</td>\n",
       "      <td>Online</td>\n",
       "      <td>Annual Gold Plan</td>\n",
       "      <td>365</td>\n",
       "      <td>SINGAPORE</td>\n",
       "      <td>444.750593</td>\n",
       "      <td>111.1858</td>\n",
       "      <td>40</td>\n",
       "      <td>1</td>\n",
       "    </tr>\n",
       "    <tr>\n",
       "      <th>52309</th>\n",
       "      <td>4791</td>\n",
       "      <td>C2B</td>\n",
       "      <td>Airlines</td>\n",
       "      <td>Online</td>\n",
       "      <td>Annual Silver Plan</td>\n",
       "      <td>414</td>\n",
       "      <td>SINGAPORE</td>\n",
       "      <td>216.000000</td>\n",
       "      <td>54.0000</td>\n",
       "      <td>41</td>\n",
       "      <td>0</td>\n",
       "    </tr>\n",
       "  </tbody>\n",
       "</table>\n",
       "<p>3160 rows × 11 columns</p>\n",
       "</div>"
      ],
      "text/plain": [
       "         ID Agency Agency Type Distribution Channel        Product Name  \\\n",
       "31     6106    C2B    Airlines               Online  Annual Silver Plan   \n",
       "53     2406    C2B    Airlines               Online    Annual Gold Plan   \n",
       "65     4313    C2B    Airlines               Online  Annual Silver Plan   \n",
       "74     3619    C2B    Airlines               Online  Annual Silver Plan   \n",
       "89     6679    C2B    Airlines               Online  Annual Silver Plan   \n",
       "...     ...    ...         ...                  ...                 ...   \n",
       "52187  5856    C2B    Airlines               Online  Annual Silver Plan   \n",
       "52212  4433    C2B    Airlines               Online  Annual Silver Plan   \n",
       "52253  8193    C2B    Airlines               Online    Annual Gold Plan   \n",
       "52305  5370    C2B    Airlines               Online    Annual Gold Plan   \n",
       "52309  4791    C2B    Airlines               Online  Annual Silver Plan   \n",
       "\n",
       "       Duration Destination   Net Sales  Commision (in value)  Age  Claim  \n",
       "31          374   SINGAPORE  216.000000               54.0000   33      0  \n",
       "53          391   SINGAPORE  449.250000              112.3100   32      0  \n",
       "65          365   SINGAPORE  252.850000               63.2100   61      1  \n",
       "74          396   SINGAPORE  291.750000               72.9400   34      1  \n",
       "89          369   SINGAPORE  216.000000               54.0000   35      0  \n",
       "...         ...         ...         ...                   ...  ...    ...  \n",
       "52187       367   SINGAPORE  161.000000               40.2500   36      0  \n",
       "52212       364   SINGAPORE  252.850000               63.2100   43      1  \n",
       "52253       417   SINGAPORE  321.750000               80.4400   43      0  \n",
       "52305       365   SINGAPORE  444.750593              111.1858   40      1  \n",
       "52309       414   SINGAPORE  216.000000               54.0000   41      0  \n",
       "\n",
       "[3160 rows x 11 columns]"
      ]
     },
     "execution_count": 44,
     "metadata": {},
     "output_type": "execute_result"
    }
   ],
   "source": [
    "df[df['Duration'].ge(290)]"
   ]
  },
  {
   "cell_type": "code",
   "execution_count": null,
   "metadata": {},
   "outputs": [],
   "source": []
  },
  {
   "cell_type": "code",
   "execution_count": 45,
   "metadata": {
    "execution": {
     "iopub.execute_input": "2021-07-15T18:14:53.375553Z",
     "iopub.status.busy": "2021-07-15T18:14:53.374968Z",
     "iopub.status.idle": "2021-07-15T18:14:53.397737Z",
     "shell.execute_reply": "2021-07-15T18:14:53.396810Z",
     "shell.execute_reply.started": "2021-07-15T18:14:53.375521Z"
    }
   },
   "outputs": [
    {
     "data": {
      "text/plain": [
       "(-4.882000000000001, 97.62]    44970\n",
       "(97.62, 195.24]                 3431\n",
       "(292.86, 390.48]                2876\n",
       "(195.24, 292.86]                 748\n",
       "(390.48, 488.1]                  266\n",
       "(488.1, 585.72]                    9\n",
       "(4783.38, 4881.0]                  6\n",
       "(683.34, 780.96]                   1\n",
       "(4685.76, 4783.38]                 1\n",
       "(4588.14, 4685.76]                 1\n",
       "(4490.52, 4588.14]                 1\n",
       "(3709.56, 3807.18]                 0\n",
       "(3026.22, 3123.84]                 0\n",
       "(3123.84, 3221.46]                 0\n",
       "(3221.46, 3319.08]                 0\n",
       "(3319.08, 3416.7]                  0\n",
       "(3416.7, 3514.32]                  0\n",
       "(3514.32, 3611.94]                 0\n",
       "(3611.94, 3709.56]                 0\n",
       "(3904.8, 4002.42]                  0\n",
       "(3807.18, 3904.8]                  0\n",
       "(2830.98, 2928.6]                  0\n",
       "(4002.42, 4100.04]                 0\n",
       "(4100.04, 4197.66]                 0\n",
       "(4197.66, 4295.28]                 0\n",
       "(4295.28, 4392.9]                  0\n",
       "(4392.9, 4490.52]                  0\n",
       "(2928.6, 3026.22]                  0\n",
       "(2733.36, 2830.98]                 0\n",
       "(780.96, 878.58]                   0\n",
       "(1659.54, 1757.16]                 0\n",
       "(878.58, 976.2]                    0\n",
       "(976.2, 1073.82]                   0\n",
       "(1073.82, 1171.44]                 0\n",
       "(1171.44, 1269.06]                 0\n",
       "(1269.06, 1366.68]                 0\n",
       "(1366.68, 1464.3]                  0\n",
       "(1464.3, 1561.92]                  0\n",
       "(1561.92, 1659.54]                 0\n",
       "(1757.16, 1854.78]                 0\n",
       "(2635.74, 2733.36]                 0\n",
       "(1854.78, 1952.4]                  0\n",
       "(1952.4, 2050.02]                  0\n",
       "(2050.02, 2147.64]                 0\n",
       "(2147.64, 2245.26]                 0\n",
       "(2245.26, 2342.88]                 0\n",
       "(2342.88, 2440.5]                  0\n",
       "(585.72, 683.34]                   0\n",
       "(2538.12, 2635.74]                 0\n",
       "(2440.5, 2538.12]                  0\n",
       "Name: Duration, dtype: int64"
      ]
     },
     "execution_count": 45,
     "metadata": {},
     "output_type": "execute_result"
    }
   ],
   "source": [
    "data['Duration'].value_counts(bins=50)"
   ]
  },
  {
   "cell_type": "code",
   "execution_count": 46,
   "metadata": {
    "execution": {
     "iopub.execute_input": "2021-07-15T18:14:53.399272Z",
     "iopub.status.busy": "2021-07-15T18:14:53.398978Z",
     "iopub.status.idle": "2021-07-15T18:14:54.224349Z",
     "shell.execute_reply": "2021-07-15T18:14:54.223265Z",
     "shell.execute_reply.started": "2021-07-15T18:14:53.399243Z"
    }
   },
   "outputs": [
    {
     "name": "stdout",
     "output_type": "stream",
     "text": [
      "Age distribution according to Claim\n"
     ]
    },
    {
     "data": {
      "image/png": "[encoded data removed]",
      "text/plain": [
       "<Figure size 906.375x216 with 1 Axes>"
      ]
     },
     "metadata": {
      "needs_background": "light"
     },
     "output_type": "display_data"
    }
   ],
   "source": [
    "print(\"Age distribution according to Claim\")\n",
    "facetgrid = sns.FacetGrid(df,hue=\"Claim\",aspect = 4)\n",
    "facetgrid.map(sns.kdeplot,\"Age\",shade = True)\n",
    "facetgrid.set(xlim = (0,df[\"Age\"].max()))\n",
    "facetgrid.add_legend()\n",
    "plt.show()"
   ]
  },
  {
   "cell_type": "markdown",
   "metadata": {},
   "source": [
    "**Convert Destination into numeric**"
   ]
  },
  {
   "cell_type": "code",
   "execution_count": 47,
   "metadata": {
    "execution": {
     "iopub.execute_input": "2021-07-15T18:14:54.226061Z",
     "iopub.status.busy": "2021-07-15T18:14:54.225710Z",
     "iopub.status.idle": "2021-07-15T18:14:54.233832Z",
     "shell.execute_reply": "2021-07-15T18:14:54.232824Z",
     "shell.execute_reply.started": "2021-07-15T18:14:54.226030Z"
    }
   },
   "outputs": [
    {
     "data": {
      "text/plain": [
       "0              PHILIPPINES\n",
       "1                 MALAYSIA\n",
       "2                 THAILAND\n",
       "3                HONG KONG\n",
       "4                 MALAYSIA\n",
       "               ...        \n",
       "52305            SINGAPORE\n",
       "52306    BRUNEI DARUSSALAM\n",
       "52307            SINGAPORE\n",
       "52308             THAILAND\n",
       "52309            SINGAPORE\n",
       "Name: Destination, Length: 52298, dtype: object"
      ]
     },
     "execution_count": 47,
     "metadata": {},
     "output_type": "execute_result"
    }
   ],
   "source": [
    "number=LabelEncoder()\n",
    "#df['Destination']=number.fit_transform(df['Destination'].astype('str'))\n",
    "df['Destination']"
   ]
  },
  {
   "cell_type": "code",
   "execution_count": 48,
   "metadata": {
    "execution": {
     "iopub.execute_input": "2021-07-15T18:14:54.235490Z",
     "iopub.status.busy": "2021-07-15T18:14:54.235079Z",
     "iopub.status.idle": "2021-07-15T18:14:54.248963Z",
     "shell.execute_reply": "2021-07-15T18:14:54.247854Z",
     "shell.execute_reply.started": "2021-07-15T18:14:54.235459Z"
    }
   },
   "outputs": [
    {
     "data": {
      "text/plain": [
       "0                      Cancellation Plan\n",
       "1                      Cancellation Plan\n",
       "2        Rental Vehicle Excess Insurance\n",
       "3               2 way Comprehensive Plan\n",
       "4               2 way Comprehensive Plan\n",
       "                      ...               \n",
       "52305                   Annual Gold Plan\n",
       "52306                         Value Plan\n",
       "52307                        Bronze Plan\n",
       "52308                  Cancellation Plan\n",
       "52309                 Annual Silver Plan\n",
       "Name: Product Name, Length: 52298, dtype: object"
      ]
     },
     "execution_count": 48,
     "metadata": {},
     "output_type": "execute_result"
    }
   ],
   "source": [
    "#df['Product Name']=number.fit_transform(df['Product Name'].astype('str'))\n",
    "df['Product Name']"
   ]
  },
  {
   "cell_type": "code",
   "execution_count": 49,
   "metadata": {
    "execution": {
     "iopub.execute_input": "2021-07-15T18:14:54.250901Z",
     "iopub.status.busy": "2021-07-15T18:14:54.250434Z",
     "iopub.status.idle": "2021-07-15T18:14:54.332861Z",
     "shell.execute_reply": "2021-07-15T18:14:54.331887Z",
     "shell.execute_reply.started": "2021-07-15T18:14:54.250865Z"
    }
   },
   "outputs": [
    {
     "data": {
      "text/plain": [
       "SINGAPORE       14230\n",
       "THAILAND         4562\n",
       "MALAYSIA         4359\n",
       "CHINA            3909\n",
       "AUSTRALIA        3011\n",
       "                ...  \n",
       "BELARUS             2\n",
       "BHUTAN              2\n",
       "BERMUDA             2\n",
       "ZAMBIA              1\n",
       "TURKMENISTAN        1\n",
       "Name: Destination, Length: 97, dtype: int64"
      ]
     },
     "execution_count": 49,
     "metadata": {},
     "output_type": "execute_result"
    }
   ],
   "source": [
    "df['Destination'].sort_values(ascending=False).value_counts()"
   ]
  },
  {
   "cell_type": "markdown",
   "metadata": {},
   "source": [
    "**Check destination where people applied more**"
   ]
  },
  {
   "cell_type": "code",
   "execution_count": 50,
   "metadata": {
    "execution": {
     "iopub.execute_input": "2021-07-15T18:14:54.334275Z",
     "iopub.status.busy": "2021-07-15T18:14:54.334000Z",
     "iopub.status.idle": "2021-07-15T18:14:54.660780Z",
     "shell.execute_reply": "2021-07-15T18:14:54.659676Z",
     "shell.execute_reply.started": "2021-07-15T18:14:54.334249Z"
    }
   },
   "outputs": [
    {
     "data": {
      "image/png": "[encoded data removed]",
      "text/plain": [
       "<Figure size 720x576 with 1 Axes>"
      ]
     },
     "metadata": {},
     "output_type": "display_data"
    }
   ],
   "source": [
    "plt.rcParams['figure.figsize']=(10,8)\n",
    "#color = ['yellowgreen','gold',\"lightskyblue\"]\n",
    "df['Destination'].sort_values(ascending=False).value_counts()[:10].plot.pie(label=\"Destination\",startangle=50,shadow=True,autopct=\"%0.1f%%\")\n",
    "plt.axis('on');"
   ]
  },
  {
   "cell_type": "code",
   "execution_count": 51,
   "metadata": {
    "execution": {
     "iopub.execute_input": "2021-07-15T18:14:54.662745Z",
     "iopub.status.busy": "2021-07-15T18:14:54.662316Z",
     "iopub.status.idle": "2021-07-15T18:14:56.237691Z",
     "shell.execute_reply": "2021-07-15T18:14:56.236574Z",
     "shell.execute_reply.started": "2021-07-15T18:14:54.662682Z"
    }
   },
   "outputs": [
    {
     "data": {
      "image/png": "[encoded data removed]",
      "text/plain": [
       "<Figure size 1440x360 with 1 Axes>"
      ]
     },
     "metadata": {
      "needs_background": "light"
     },
     "output_type": "display_data"
    }
   ],
   "source": [
    "df['Destination'].sort_values(ascending=False).value_counts().plot(kind='bar',cmap='Accent',figsize=(20,5))\n",
    "\n",
    "plt.show()"
   ]
  },
  {
   "cell_type": "code",
   "execution_count": 52,
   "metadata": {
    "execution": {
     "iopub.execute_input": "2021-07-15T18:14:56.239310Z",
     "iopub.status.busy": "2021-07-15T18:14:56.238987Z",
     "iopub.status.idle": "2021-07-15T18:14:57.884593Z",
     "shell.execute_reply": "2021-07-15T18:14:57.883859Z",
     "shell.execute_reply.started": "2021-07-15T18:14:56.239280Z"
    }
   },
   "outputs": [
    {
     "name": "stderr",
     "output_type": "stream",
     "text": [
      "/opt/conda/lib/python3.7/site-packages/seaborn/_decorators.py:43: FutureWarning: Pass the following variable as a keyword arg: x. From version 0.12, the only valid positional argument will be `data`, and passing other arguments without an explicit keyword will result in an error or misinterpretation.\n",
      "  FutureWarning\n"
     ]
    },
    {
     "data": {
      "image/png": "[encoded data removed]",
      "text/plain": [
       "<Figure size 720x576 with 1 Axes>"
      ]
     },
     "metadata": {
      "needs_background": "light"
     },
     "output_type": "display_data"
    }
   ],
   "source": [
    "sns.countplot(df['Age'].sort_values(ascending=False).value_counts(),hue=df['Claim'],palette='autumn');"
   ]
  },
  {
   "cell_type": "code",
   "execution_count": 53,
   "metadata": {
    "execution": {
     "iopub.execute_input": "2021-07-15T18:14:57.885975Z",
     "iopub.status.busy": "2021-07-15T18:14:57.885574Z",
     "iopub.status.idle": "2021-07-15T18:14:58.366108Z",
     "shell.execute_reply": "2021-07-15T18:14:58.364962Z",
     "shell.execute_reply.started": "2021-07-15T18:14:57.885946Z"
    }
   },
   "outputs": [
    {
     "name": "stdout",
     "output_type": "stream",
     "text": [
      "Correlation matrix-\n"
     ]
    },
    {
     "data": {
      "text/plain": [
       "<AxesSubplot:>"
      ]
     },
     "execution_count": 53,
     "metadata": {},
     "output_type": "execute_result"
    },
    {
     "data": {
      "image/png": "[encoded data removed]",
      "text/plain": [
       "<Figure size 864x720 with 2 Axes>"
      ]
     },
     "metadata": {
      "needs_background": "light"
     },
     "output_type": "display_data"
    }
   ],
   "source": [
    "plt.figure(figsize=(12,10))\n",
    "print(\"Correlation matrix-\")\n",
    "plt.rcParams['figure.figsize']=(8,6)\n",
    "sns.heatmap(df.corr(),cmap='Spectral',annot = True)"
   ]
  },
  {
   "cell_type": "code",
   "execution_count": 54,
   "metadata": {
    "execution": {
     "iopub.execute_input": "2021-07-15T18:14:58.368139Z",
     "iopub.status.busy": "2021-07-15T18:14:58.367686Z",
     "iopub.status.idle": "2021-07-15T18:14:58.385906Z",
     "shell.execute_reply": "2021-07-15T18:14:58.384752Z",
     "shell.execute_reply.started": "2021-07-15T18:14:58.368097Z"
    }
   },
   "outputs": [
    {
     "data": {
      "text/plain": [
       "Age                    -0.060190\n",
       "ID                      0.006361\n",
       "Duration                0.249080\n",
       "Commision (in value)    0.258729\n",
       "Net Sales               0.326850\n",
       "Claim                   1.000000\n",
       "Name: Claim, dtype: float64"
      ]
     },
     "execution_count": 54,
     "metadata": {},
     "output_type": "execute_result"
    }
   ],
   "source": [
    "df.corr()['Claim'].sort_values()"
   ]
  },
  {
   "cell_type": "code",
   "execution_count": 55,
   "metadata": {
    "execution": {
     "iopub.execute_input": "2021-07-15T18:14:58.388078Z",
     "iopub.status.busy": "2021-07-15T18:14:58.387618Z",
     "iopub.status.idle": "2021-07-15T18:14:58.404074Z",
     "shell.execute_reply": "2021-07-15T18:14:58.403243Z",
     "shell.execute_reply.started": "2021-07-15T18:14:58.388029Z"
    }
   },
   "outputs": [
    {
     "data": {
      "text/plain": [
       "0    43578\n",
       "1     8720\n",
       "Name: Claim, dtype: int64"
      ]
     },
     "execution_count": 55,
     "metadata": {},
     "output_type": "execute_result"
    }
   ],
   "source": [
    "#creating a checkpoint\n",
    "df1 = df.copy()\n",
    "#dropping Vintage and id columns as suggested by EDA\n",
    "df1.drop(['ID','Commision (in value)','Net Sales','Agency','Agency Type','Distribution Channel'],axis=1,inplace=True)\n",
    "#checking target variable\n",
    "df1.Claim.value_counts()"
   ]
  },
  {
   "cell_type": "code",
   "execution_count": 56,
   "metadata": {
    "execution": {
     "iopub.execute_input": "2021-07-15T18:14:58.407538Z",
     "iopub.status.busy": "2021-07-15T18:14:58.407233Z",
     "iopub.status.idle": "2021-07-15T18:14:58.419917Z",
     "shell.execute_reply": "2021-07-15T18:14:58.418745Z",
     "shell.execute_reply.started": "2021-07-15T18:14:58.407510Z"
    }
   },
   "outputs": [
    {
     "data": {
      "text/html": [
       "<div>\n",
       "<style scoped>\n",
       "    .dataframe tbody tr th:only-of-type {\n",
       "        vertical-align: middle;\n",
       "    }\n",
       "\n",
       "    .dataframe tbody tr th {\n",
       "        vertical-align: top;\n",
       "    }\n",
       "\n",
       "    .dataframe thead th {\n",
       "        text-align: right;\n",
       "    }\n",
       "</style>\n",
       "<table border=\"1\" class=\"dataframe\">\n",
       "  <thead>\n",
       "    <tr style=\"text-align: right;\">\n",
       "      <th></th>\n",
       "      <th>Product Name</th>\n",
       "      <th>Duration</th>\n",
       "      <th>Destination</th>\n",
       "      <th>Age</th>\n",
       "      <th>Claim</th>\n",
       "    </tr>\n",
       "  </thead>\n",
       "  <tbody>\n",
       "    <tr>\n",
       "      <th>0</th>\n",
       "      <td>Cancellation Plan</td>\n",
       "      <td>61</td>\n",
       "      <td>PHILIPPINES</td>\n",
       "      <td>41</td>\n",
       "      <td>0</td>\n",
       "    </tr>\n",
       "    <tr>\n",
       "      <th>1</th>\n",
       "      <td>Cancellation Plan</td>\n",
       "      <td>4</td>\n",
       "      <td>MALAYSIA</td>\n",
       "      <td>35</td>\n",
       "      <td>0</td>\n",
       "    </tr>\n",
       "    <tr>\n",
       "      <th>2</th>\n",
       "      <td>Rental Vehicle Excess Insurance</td>\n",
       "      <td>26</td>\n",
       "      <td>THAILAND</td>\n",
       "      <td>47</td>\n",
       "      <td>0</td>\n",
       "    </tr>\n",
       "    <tr>\n",
       "      <th>3</th>\n",
       "      <td>2 way Comprehensive Plan</td>\n",
       "      <td>15</td>\n",
       "      <td>HONG KONG</td>\n",
       "      <td>48</td>\n",
       "      <td>0</td>\n",
       "    </tr>\n",
       "    <tr>\n",
       "      <th>4</th>\n",
       "      <td>2 way Comprehensive Plan</td>\n",
       "      <td>15</td>\n",
       "      <td>MALAYSIA</td>\n",
       "      <td>36</td>\n",
       "      <td>0</td>\n",
       "    </tr>\n",
       "  </tbody>\n",
       "</table>\n",
       "</div>"
      ],
      "text/plain": [
       "                      Product Name  Duration  Destination  Age  Claim\n",
       "0                Cancellation Plan        61  PHILIPPINES   41      0\n",
       "1                Cancellation Plan         4     MALAYSIA   35      0\n",
       "2  Rental Vehicle Excess Insurance        26     THAILAND   47      0\n",
       "3         2 way Comprehensive Plan        15    HONG KONG   48      0\n",
       "4         2 way Comprehensive Plan        15     MALAYSIA   36      0"
      ]
     },
     "execution_count": 56,
     "metadata": {},
     "output_type": "execute_result"
    }
   ],
   "source": [
    "df1.head()"
   ]
  },
  {
   "cell_type": "code",
   "execution_count": 57,
   "metadata": {
    "execution": {
     "iopub.execute_input": "2021-07-15T18:14:58.422281Z",
     "iopub.status.busy": "2021-07-15T18:14:58.421762Z",
     "iopub.status.idle": "2021-07-15T18:14:58.440096Z",
     "shell.execute_reply": "2021-07-15T18:14:58.439048Z",
     "shell.execute_reply.started": "2021-07-15T18:14:58.422155Z"
    }
   },
   "outputs": [],
   "source": [
    "# predictors\n",
    "X = df1.drop(['Claim'], axis = 1)\n",
    "\n",
    "# target variables\n",
    "y = df1['Claim']\n",
    "\n",
    "# splitting the data into train and test\n",
    "X_train, X_test, y_train, y_test = train_test_split(X,y,test_size = 0.2,random_state = 10)"
   ]
  },
  {
   "cell_type": "code",
   "execution_count": 58,
   "metadata": {
    "execution": {
     "iopub.execute_input": "2021-07-15T18:14:58.442374Z",
     "iopub.status.busy": "2021-07-15T18:14:58.441927Z",
     "iopub.status.idle": "2021-07-15T18:14:58.495931Z",
     "shell.execute_reply": "2021-07-15T18:14:58.494885Z",
     "shell.execute_reply.started": "2021-07-15T18:14:58.442328Z"
    }
   },
   "outputs": [],
   "source": [
    "train = pd.get_dummies(data = X_train)\n",
    "\n",
    "test = pd.get_dummies(data = X_test)"
   ]
  },
  {
   "cell_type": "code",
   "execution_count": 59,
   "metadata": {
    "execution": {
     "iopub.execute_input": "2021-07-15T18:14:58.497917Z",
     "iopub.status.busy": "2021-07-15T18:14:58.497496Z",
     "iopub.status.idle": "2021-07-15T18:14:58.529217Z",
     "shell.execute_reply": "2021-07-15T18:14:58.528122Z",
     "shell.execute_reply.started": "2021-07-15T18:14:58.497874Z"
    }
   },
   "outputs": [
    {
     "data": {
      "text/html": [
       "<div>\n",
       "<style scoped>\n",
       "    .dataframe tbody tr th:only-of-type {\n",
       "        vertical-align: middle;\n",
       "    }\n",
       "\n",
       "    .dataframe tbody tr th {\n",
       "        vertical-align: top;\n",
       "    }\n",
       "\n",
       "    .dataframe thead th {\n",
       "        text-align: right;\n",
       "    }\n",
       "</style>\n",
       "<table border=\"1\" class=\"dataframe\">\n",
       "  <thead>\n",
       "    <tr style=\"text-align: right;\">\n",
       "      <th></th>\n",
       "      <th>Duration</th>\n",
       "      <th>Age</th>\n",
       "      <th>Product Name_1 way Comprehensive Plan</th>\n",
       "      <th>Product Name_2 way Comprehensive Plan</th>\n",
       "      <th>Product Name_24 Protect</th>\n",
       "      <th>Product Name_Annual Gold Plan</th>\n",
       "      <th>Product Name_Annual Silver Plan</th>\n",
       "      <th>Product Name_Annual Travel Protect Gold</th>\n",
       "      <th>Product Name_Annual Travel Protect Platinum</th>\n",
       "      <th>Product Name_Annual Travel Protect Silver</th>\n",
       "      <th>...</th>\n",
       "      <th>Destination_TURKEY</th>\n",
       "      <th>Destination_UKRAINE</th>\n",
       "      <th>Destination_UNITED ARAB EMIRATES</th>\n",
       "      <th>Destination_UNITED KINGDOM</th>\n",
       "      <th>Destination_UNITED STATES</th>\n",
       "      <th>Destination_UZBEKISTAN</th>\n",
       "      <th>Destination_VANUATU</th>\n",
       "      <th>Destination_VENEZUELA</th>\n",
       "      <th>Destination_VIET NAM</th>\n",
       "      <th>Destination_ZAMBIA</th>\n",
       "    </tr>\n",
       "  </thead>\n",
       "  <tbody>\n",
       "    <tr>\n",
       "      <th>44306</th>\n",
       "      <td>61</td>\n",
       "      <td>52</td>\n",
       "      <td>0</td>\n",
       "      <td>0</td>\n",
       "      <td>0</td>\n",
       "      <td>0</td>\n",
       "      <td>0</td>\n",
       "      <td>0</td>\n",
       "      <td>0</td>\n",
       "      <td>0</td>\n",
       "      <td>...</td>\n",
       "      <td>0</td>\n",
       "      <td>0</td>\n",
       "      <td>0</td>\n",
       "      <td>0</td>\n",
       "      <td>1</td>\n",
       "      <td>0</td>\n",
       "      <td>0</td>\n",
       "      <td>0</td>\n",
       "      <td>0</td>\n",
       "      <td>0</td>\n",
       "    </tr>\n",
       "    <tr>\n",
       "      <th>32519</th>\n",
       "      <td>42</td>\n",
       "      <td>36</td>\n",
       "      <td>0</td>\n",
       "      <td>1</td>\n",
       "      <td>0</td>\n",
       "      <td>0</td>\n",
       "      <td>0</td>\n",
       "      <td>0</td>\n",
       "      <td>0</td>\n",
       "      <td>0</td>\n",
       "      <td>...</td>\n",
       "      <td>0</td>\n",
       "      <td>0</td>\n",
       "      <td>0</td>\n",
       "      <td>0</td>\n",
       "      <td>0</td>\n",
       "      <td>0</td>\n",
       "      <td>0</td>\n",
       "      <td>0</td>\n",
       "      <td>0</td>\n",
       "      <td>0</td>\n",
       "    </tr>\n",
       "    <tr>\n",
       "      <th>50659</th>\n",
       "      <td>35</td>\n",
       "      <td>40</td>\n",
       "      <td>0</td>\n",
       "      <td>0</td>\n",
       "      <td>0</td>\n",
       "      <td>0</td>\n",
       "      <td>0</td>\n",
       "      <td>0</td>\n",
       "      <td>0</td>\n",
       "      <td>0</td>\n",
       "      <td>...</td>\n",
       "      <td>0</td>\n",
       "      <td>0</td>\n",
       "      <td>0</td>\n",
       "      <td>0</td>\n",
       "      <td>0</td>\n",
       "      <td>0</td>\n",
       "      <td>0</td>\n",
       "      <td>0</td>\n",
       "      <td>0</td>\n",
       "      <td>0</td>\n",
       "    </tr>\n",
       "    <tr>\n",
       "      <th>20438</th>\n",
       "      <td>6</td>\n",
       "      <td>36</td>\n",
       "      <td>0</td>\n",
       "      <td>1</td>\n",
       "      <td>0</td>\n",
       "      <td>0</td>\n",
       "      <td>0</td>\n",
       "      <td>0</td>\n",
       "      <td>0</td>\n",
       "      <td>0</td>\n",
       "      <td>...</td>\n",
       "      <td>0</td>\n",
       "      <td>0</td>\n",
       "      <td>0</td>\n",
       "      <td>0</td>\n",
       "      <td>0</td>\n",
       "      <td>0</td>\n",
       "      <td>0</td>\n",
       "      <td>0</td>\n",
       "      <td>0</td>\n",
       "      <td>0</td>\n",
       "    </tr>\n",
       "    <tr>\n",
       "      <th>48680</th>\n",
       "      <td>33</td>\n",
       "      <td>36</td>\n",
       "      <td>1</td>\n",
       "      <td>0</td>\n",
       "      <td>0</td>\n",
       "      <td>0</td>\n",
       "      <td>0</td>\n",
       "      <td>0</td>\n",
       "      <td>0</td>\n",
       "      <td>0</td>\n",
       "      <td>...</td>\n",
       "      <td>0</td>\n",
       "      <td>0</td>\n",
       "      <td>0</td>\n",
       "      <td>0</td>\n",
       "      <td>0</td>\n",
       "      <td>0</td>\n",
       "      <td>0</td>\n",
       "      <td>0</td>\n",
       "      <td>0</td>\n",
       "      <td>0</td>\n",
       "    </tr>\n",
       "    <tr>\n",
       "      <th>...</th>\n",
       "      <td>...</td>\n",
       "      <td>...</td>\n",
       "      <td>...</td>\n",
       "      <td>...</td>\n",
       "      <td>...</td>\n",
       "      <td>...</td>\n",
       "      <td>...</td>\n",
       "      <td>...</td>\n",
       "      <td>...</td>\n",
       "      <td>...</td>\n",
       "      <td>...</td>\n",
       "      <td>...</td>\n",
       "      <td>...</td>\n",
       "      <td>...</td>\n",
       "      <td>...</td>\n",
       "      <td>...</td>\n",
       "      <td>...</td>\n",
       "      <td>...</td>\n",
       "      <td>...</td>\n",
       "      <td>...</td>\n",
       "      <td>...</td>\n",
       "    </tr>\n",
       "    <tr>\n",
       "      <th>28023</th>\n",
       "      <td>11</td>\n",
       "      <td>39</td>\n",
       "      <td>0</td>\n",
       "      <td>0</td>\n",
       "      <td>0</td>\n",
       "      <td>0</td>\n",
       "      <td>0</td>\n",
       "      <td>0</td>\n",
       "      <td>0</td>\n",
       "      <td>0</td>\n",
       "      <td>...</td>\n",
       "      <td>0</td>\n",
       "      <td>0</td>\n",
       "      <td>0</td>\n",
       "      <td>0</td>\n",
       "      <td>0</td>\n",
       "      <td>0</td>\n",
       "      <td>0</td>\n",
       "      <td>0</td>\n",
       "      <td>0</td>\n",
       "      <td>0</td>\n",
       "    </tr>\n",
       "    <tr>\n",
       "      <th>50508</th>\n",
       "      <td>104</td>\n",
       "      <td>36</td>\n",
       "      <td>0</td>\n",
       "      <td>0</td>\n",
       "      <td>0</td>\n",
       "      <td>0</td>\n",
       "      <td>0</td>\n",
       "      <td>0</td>\n",
       "      <td>0</td>\n",
       "      <td>0</td>\n",
       "      <td>...</td>\n",
       "      <td>0</td>\n",
       "      <td>0</td>\n",
       "      <td>0</td>\n",
       "      <td>0</td>\n",
       "      <td>0</td>\n",
       "      <td>0</td>\n",
       "      <td>0</td>\n",
       "      <td>0</td>\n",
       "      <td>0</td>\n",
       "      <td>0</td>\n",
       "    </tr>\n",
       "    <tr>\n",
       "      <th>29205</th>\n",
       "      <td>53</td>\n",
       "      <td>34</td>\n",
       "      <td>0</td>\n",
       "      <td>0</td>\n",
       "      <td>0</td>\n",
       "      <td>0</td>\n",
       "      <td>0</td>\n",
       "      <td>0</td>\n",
       "      <td>0</td>\n",
       "      <td>0</td>\n",
       "      <td>...</td>\n",
       "      <td>0</td>\n",
       "      <td>0</td>\n",
       "      <td>0</td>\n",
       "      <td>0</td>\n",
       "      <td>0</td>\n",
       "      <td>0</td>\n",
       "      <td>0</td>\n",
       "      <td>0</td>\n",
       "      <td>0</td>\n",
       "      <td>0</td>\n",
       "    </tr>\n",
       "    <tr>\n",
       "      <th>40069</th>\n",
       "      <td>5</td>\n",
       "      <td>36</td>\n",
       "      <td>0</td>\n",
       "      <td>1</td>\n",
       "      <td>0</td>\n",
       "      <td>0</td>\n",
       "      <td>0</td>\n",
       "      <td>0</td>\n",
       "      <td>0</td>\n",
       "      <td>0</td>\n",
       "      <td>...</td>\n",
       "      <td>0</td>\n",
       "      <td>0</td>\n",
       "      <td>0</td>\n",
       "      <td>0</td>\n",
       "      <td>0</td>\n",
       "      <td>0</td>\n",
       "      <td>0</td>\n",
       "      <td>0</td>\n",
       "      <td>0</td>\n",
       "      <td>0</td>\n",
       "    </tr>\n",
       "    <tr>\n",
       "      <th>17678</th>\n",
       "      <td>12</td>\n",
       "      <td>62</td>\n",
       "      <td>0</td>\n",
       "      <td>0</td>\n",
       "      <td>0</td>\n",
       "      <td>0</td>\n",
       "      <td>0</td>\n",
       "      <td>0</td>\n",
       "      <td>0</td>\n",
       "      <td>0</td>\n",
       "      <td>...</td>\n",
       "      <td>0</td>\n",
       "      <td>0</td>\n",
       "      <td>0</td>\n",
       "      <td>0</td>\n",
       "      <td>0</td>\n",
       "      <td>0</td>\n",
       "      <td>0</td>\n",
       "      <td>0</td>\n",
       "      <td>0</td>\n",
       "      <td>0</td>\n",
       "    </tr>\n",
       "  </tbody>\n",
       "</table>\n",
       "<p>41838 rows × 123 columns</p>\n",
       "</div>"
      ],
      "text/plain": [
       "       Duration  Age  Product Name_1 way Comprehensive Plan  \\\n",
       "44306        61   52                                      0   \n",
       "32519        42   36                                      0   \n",
       "50659        35   40                                      0   \n",
       "20438         6   36                                      0   \n",
       "48680        33   36                                      1   \n",
       "...         ...  ...                                    ...   \n",
       "28023        11   39                                      0   \n",
       "50508       104   36                                      0   \n",
       "29205        53   34                                      0   \n",
       "40069         5   36                                      0   \n",
       "17678        12   62                                      0   \n",
       "\n",
       "       Product Name_2 way Comprehensive Plan  Product Name_24 Protect  \\\n",
       "44306                                      0                        0   \n",
       "32519                                      1                        0   \n",
       "50659                                      0                        0   \n",
       "20438                                      1                        0   \n",
       "48680                                      0                        0   \n",
       "...                                      ...                      ...   \n",
       "28023                                      0                        0   \n",
       "50508                                      0                        0   \n",
       "29205                                      0                        0   \n",
       "40069                                      1                        0   \n",
       "17678                                      0                        0   \n",
       "\n",
       "       Product Name_Annual Gold Plan  Product Name_Annual Silver Plan  \\\n",
       "44306                              0                                0   \n",
       "32519                              0                                0   \n",
       "50659                              0                                0   \n",
       "20438                              0                                0   \n",
       "48680                              0                                0   \n",
       "...                              ...                              ...   \n",
       "28023                              0                                0   \n",
       "50508                              0                                0   \n",
       "29205                              0                                0   \n",
       "40069                              0                                0   \n",
       "17678                              0                                0   \n",
       "\n",
       "       Product Name_Annual Travel Protect Gold  \\\n",
       "44306                                        0   \n",
       "32519                                        0   \n",
       "50659                                        0   \n",
       "20438                                        0   \n",
       "48680                                        0   \n",
       "...                                        ...   \n",
       "28023                                        0   \n",
       "50508                                        0   \n",
       "29205                                        0   \n",
       "40069                                        0   \n",
       "17678                                        0   \n",
       "\n",
       "       Product Name_Annual Travel Protect Platinum  \\\n",
       "44306                                            0   \n",
       "32519                                            0   \n",
       "50659                                            0   \n",
       "20438                                            0   \n",
       "48680                                            0   \n",
       "...                                            ...   \n",
       "28023                                            0   \n",
       "50508                                            0   \n",
       "29205                                            0   \n",
       "40069                                            0   \n",
       "17678                                            0   \n",
       "\n",
       "       Product Name_Annual Travel Protect Silver  ...  Destination_TURKEY  \\\n",
       "44306                                          0  ...                   0   \n",
       "32519                                          0  ...                   0   \n",
       "50659                                          0  ...                   0   \n",
       "20438                                          0  ...                   0   \n",
       "48680                                          0  ...                   0   \n",
       "...                                          ...  ...                 ...   \n",
       "28023                                          0  ...                   0   \n",
       "50508                                          0  ...                   0   \n",
       "29205                                          0  ...                   0   \n",
       "40069                                          0  ...                   0   \n",
       "17678                                          0  ...                   0   \n",
       "\n",
       "       Destination_UKRAINE  Destination_UNITED ARAB EMIRATES  \\\n",
       "44306                    0                                 0   \n",
       "32519                    0                                 0   \n",
       "50659                    0                                 0   \n",
       "20438                    0                                 0   \n",
       "48680                    0                                 0   \n",
       "...                    ...                               ...   \n",
       "28023                    0                                 0   \n",
       "50508                    0                                 0   \n",
       "29205                    0                                 0   \n",
       "40069                    0                                 0   \n",
       "17678                    0                                 0   \n",
       "\n",
       "       Destination_UNITED KINGDOM  Destination_UNITED STATES  \\\n",
       "44306                           0                          1   \n",
       "32519                           0                          0   \n",
       "50659                           0                          0   \n",
       "20438                           0                          0   \n",
       "48680                           0                          0   \n",
       "...                           ...                        ...   \n",
       "28023                           0                          0   \n",
       "50508                           0                          0   \n",
       "29205                           0                          0   \n",
       "40069                           0                          0   \n",
       "17678                           0                          0   \n",
       "\n",
       "       Destination_UZBEKISTAN  Destination_VANUATU  Destination_VENEZUELA  \\\n",
       "44306                       0                    0                      0   \n",
       "32519                       0                    0                      0   \n",
       "50659                       0                    0                      0   \n",
       "20438                       0                    0                      0   \n",
       "48680                       0                    0                      0   \n",
       "...                       ...                  ...                    ...   \n",
       "28023                       0                    0                      0   \n",
       "50508                       0                    0                      0   \n",
       "29205                       0                    0                      0   \n",
       "40069                       0                    0                      0   \n",
       "17678                       0                    0                      0   \n",
       "\n",
       "       Destination_VIET NAM  Destination_ZAMBIA  \n",
       "44306                     0                   0  \n",
       "32519                     0                   0  \n",
       "50659                     0                   0  \n",
       "20438                     0                   0  \n",
       "48680                     0                   0  \n",
       "...                     ...                 ...  \n",
       "28023                     0                   0  \n",
       "50508                     0                   0  \n",
       "29205                     0                   0  \n",
       "40069                     0                   0  \n",
       "17678                     0                   0  \n",
       "\n",
       "[41838 rows x 123 columns]"
      ]
     },
     "execution_count": 59,
     "metadata": {},
     "output_type": "execute_result"
    }
   ],
   "source": [
    "train"
   ]
  },
  {
   "cell_type": "code",
   "execution_count": 60,
   "metadata": {
    "execution": {
     "iopub.execute_input": "2021-07-15T18:14:58.531221Z",
     "iopub.status.busy": "2021-07-15T18:14:58.530797Z",
     "iopub.status.idle": "2021-07-15T18:14:58.548356Z",
     "shell.execute_reply": "2021-07-15T18:14:58.547157Z",
     "shell.execute_reply.started": "2021-07-15T18:14:58.531180Z"
    }
   },
   "outputs": [
    {
     "name": "stdout",
     "output_type": "stream",
     "text": [
      "<class 'pandas.core.frame.DataFrame'>\n",
      "Int64Index: 41838 entries, 44306 to 17678\n",
      "Columns: 123 entries, Duration to Destination_ZAMBIA\n",
      "dtypes: int64(2), uint8(121)\n",
      "memory usage: 5.8 MB\n"
     ]
    }
   ],
   "source": [
    "train.info()"
   ]
  },
  {
   "cell_type": "code",
   "execution_count": 61,
   "metadata": {
    "execution": {
     "iopub.execute_input": "2021-07-15T18:14:58.550191Z",
     "iopub.status.busy": "2021-07-15T18:14:58.549886Z",
     "iopub.status.idle": "2021-07-15T18:15:00.061528Z",
     "shell.execute_reply": "2021-07-15T18:15:00.058532Z",
     "shell.execute_reply.started": "2021-07-15T18:14:58.550163Z"
    }
   },
   "outputs": [
    {
     "ename": "AttributeError",
     "evalue": "'str' object has no attribute 'decode'",
     "output_type": "error",
     "traceback": [
      "\u001b[0;31m---------------------------------------------------------------------------\u001b[0m",
      "\u001b[0;31mAttributeError\u001b[0m                            Traceback (most recent call last)",
      "\u001b[0;32m<ipython-input-61-99a59658b9a8>\u001b[0m in \u001b[0;36m<module>\u001b[0;34m\u001b[0m\n\u001b[1;32m      3\u001b[0m \u001b[0;34m\u001b[0m\u001b[0m\n\u001b[1;32m      4\u001b[0m \u001b[0;31m# fit the data\u001b[0m\u001b[0;34m\u001b[0m\u001b[0;34m\u001b[0m\u001b[0;34m\u001b[0m\u001b[0m\n\u001b[0;32m----> 5\u001b[0;31m \u001b[0mlogisticRegression\u001b[0m\u001b[0;34m.\u001b[0m\u001b[0mfit\u001b[0m\u001b[0;34m(\u001b[0m\u001b[0mtrain\u001b[0m\u001b[0;34m,\u001b[0m \u001b[0my_train\u001b[0m\u001b[0;34m)\u001b[0m\u001b[0;34m\u001b[0m\u001b[0;34m\u001b[0m\u001b[0m\n\u001b[0m\u001b[1;32m      6\u001b[0m \u001b[0;34m\u001b[0m\u001b[0m\n\u001b[1;32m      7\u001b[0m \u001b[0;31m# find out the predictions\u001b[0m\u001b[0;34m\u001b[0m\u001b[0;34m\u001b[0m\u001b[0;34m\u001b[0m\u001b[0m\n",
      "\u001b[0;32m/opt/conda/lib/python3.7/site-packages/sklearn/linear_model/_logistic.py\u001b[0m in \u001b[0;36mfit\u001b[0;34m(self, X, y, sample_weight)\u001b[0m\n\u001b[1;32m   1415\u001b[0m                       \u001b[0mpenalty\u001b[0m\u001b[0;34m=\u001b[0m\u001b[0mpenalty\u001b[0m\u001b[0;34m,\u001b[0m \u001b[0mmax_squared_sum\u001b[0m\u001b[0;34m=\u001b[0m\u001b[0mmax_squared_sum\u001b[0m\u001b[0;34m,\u001b[0m\u001b[0;34m\u001b[0m\u001b[0;34m\u001b[0m\u001b[0m\n\u001b[1;32m   1416\u001b[0m                       sample_weight=sample_weight)\n\u001b[0;32m-> 1417\u001b[0;31m             for class_, warm_start_coef_ in zip(classes_, warm_start_coef))\n\u001b[0m\u001b[1;32m   1418\u001b[0m \u001b[0;34m\u001b[0m\u001b[0m\n\u001b[1;32m   1419\u001b[0m         \u001b[0mfold_coefs_\u001b[0m\u001b[0;34m,\u001b[0m \u001b[0m_\u001b[0m\u001b[0;34m,\u001b[0m \u001b[0mn_iter_\u001b[0m \u001b[0;34m=\u001b[0m \u001b[0mzip\u001b[0m\u001b[0;34m(\u001b[0m\u001b[0;34m*\u001b[0m\u001b[0mfold_coefs_\u001b[0m\u001b[0;34m)\u001b[0m\u001b[0;34m\u001b[0m\u001b[0;34m\u001b[0m\u001b[0m\n",
      "\u001b[0;32m/opt/conda/lib/python3.7/site-packages/joblib/parallel.py\u001b[0m in \u001b[0;36m__call__\u001b[0;34m(self, iterable)\u001b[0m\n\u001b[1;32m   1039\u001b[0m             \u001b[0;31m# remaining jobs.\u001b[0m\u001b[0;34m\u001b[0m\u001b[0;34m\u001b[0m\u001b[0;34m\u001b[0m\u001b[0m\n\u001b[1;32m   1040\u001b[0m             \u001b[0mself\u001b[0m\u001b[0;34m.\u001b[0m\u001b[0m_iterating\u001b[0m \u001b[0;34m=\u001b[0m \u001b[0;32mFalse\u001b[0m\u001b[0;34m\u001b[0m\u001b[0;34m\u001b[0m\u001b[0m\n\u001b[0;32m-> 1041\u001b[0;31m             \u001b[0;32mif\u001b[0m \u001b[0mself\u001b[0m\u001b[0;34m.\u001b[0m\u001b[0mdispatch_one_batch\u001b[0m\u001b[0;34m(\u001b[0m\u001b[0miterator\u001b[0m\u001b[0;34m)\u001b[0m\u001b[0;34m:\u001b[0m\u001b[0;34m\u001b[0m\u001b[0;34m\u001b[0m\u001b[0m\n\u001b[0m\u001b[1;32m   1042\u001b[0m                 \u001b[0mself\u001b[0m\u001b[0;34m.\u001b[0m\u001b[0m_iterating\u001b[0m \u001b[0;34m=\u001b[0m \u001b[0mself\u001b[0m\u001b[0;34m.\u001b[0m\u001b[0m_original_iterator\u001b[0m \u001b[0;32mis\u001b[0m \u001b[0;32mnot\u001b[0m \u001b[0;32mNone\u001b[0m\u001b[0;34m\u001b[0m\u001b[0;34m\u001b[0m\u001b[0m\n\u001b[1;32m   1043\u001b[0m \u001b[0;34m\u001b[0m\u001b[0m\n",
      "\u001b[0;32m/opt/conda/lib/python3.7/site-packages/joblib/parallel.py\u001b[0m in \u001b[0;36mdispatch_one_batch\u001b[0;34m(self, iterator)\u001b[0m\n\u001b[1;32m    857\u001b[0m                 \u001b[0;32mreturn\u001b[0m \u001b[0;32mFalse\u001b[0m\u001b[0;34m\u001b[0m\u001b[0;34m\u001b[0m\u001b[0m\n\u001b[1;32m    858\u001b[0m             \u001b[0;32melse\u001b[0m\u001b[0;34m:\u001b[0m\u001b[0;34m\u001b[0m\u001b[0;34m\u001b[0m\u001b[0m\n\u001b[0;32m--> 859\u001b[0;31m                 \u001b[0mself\u001b[0m\u001b[0;34m.\u001b[0m\u001b[0m_dispatch\u001b[0m\u001b[0;34m(\u001b[0m\u001b[0mtasks\u001b[0m\u001b[0;34m)\u001b[0m\u001b[0;34m\u001b[0m\u001b[0;34m\u001b[0m\u001b[0m\n\u001b[0m\u001b[1;32m    860\u001b[0m                 \u001b[0;32mreturn\u001b[0m \u001b[0;32mTrue\u001b[0m\u001b[0;34m\u001b[0m\u001b[0;34m\u001b[0m\u001b[0m\n\u001b[1;32m    861\u001b[0m \u001b[0;34m\u001b[0m\u001b[0m\n",
      "\u001b[0;32m/opt/conda/lib/python3.7/site-packages/joblib/parallel.py\u001b[0m in \u001b[0;36m_dispatch\u001b[0;34m(self, batch)\u001b[0m\n\u001b[1;32m    775\u001b[0m         \u001b[0;32mwith\u001b[0m \u001b[0mself\u001b[0m\u001b[0;34m.\u001b[0m\u001b[0m_lock\u001b[0m\u001b[0;34m:\u001b[0m\u001b[0;34m\u001b[0m\u001b[0;34m\u001b[0m\u001b[0m\n\u001b[1;32m    776\u001b[0m             \u001b[0mjob_idx\u001b[0m \u001b[0;34m=\u001b[0m \u001b[0mlen\u001b[0m\u001b[0;34m(\u001b[0m\u001b[0mself\u001b[0m\u001b[0;34m.\u001b[0m\u001b[0m_jobs\u001b[0m\u001b[0;34m)\u001b[0m\u001b[0;34m\u001b[0m\u001b[0;34m\u001b[0m\u001b[0m\n\u001b[0;32m--> 777\u001b[0;31m             \u001b[0mjob\u001b[0m \u001b[0;34m=\u001b[0m \u001b[0mself\u001b[0m\u001b[0;34m.\u001b[0m\u001b[0m_backend\u001b[0m\u001b[0;34m.\u001b[0m\u001b[0mapply_async\u001b[0m\u001b[0;34m(\u001b[0m\u001b[0mbatch\u001b[0m\u001b[0;34m,\u001b[0m \u001b[0mcallback\u001b[0m\u001b[0;34m=\u001b[0m\u001b[0mcb\u001b[0m\u001b[0;34m)\u001b[0m\u001b[0;34m\u001b[0m\u001b[0;34m\u001b[0m\u001b[0m\n\u001b[0m\u001b[1;32m    778\u001b[0m             \u001b[0;31m# A job can complete so quickly than its callback is\u001b[0m\u001b[0;34m\u001b[0m\u001b[0;34m\u001b[0m\u001b[0;34m\u001b[0m\u001b[0m\n\u001b[1;32m    779\u001b[0m             \u001b[0;31m# called before we get here, causing self._jobs to\u001b[0m\u001b[0;34m\u001b[0m\u001b[0;34m\u001b[0m\u001b[0;34m\u001b[0m\u001b[0m\n",
      "\u001b[0;32m/opt/conda/lib/python3.7/site-packages/joblib/_parallel_backends.py\u001b[0m in \u001b[0;36mapply_async\u001b[0;34m(self, func, callback)\u001b[0m\n\u001b[1;32m    206\u001b[0m     \u001b[0;32mdef\u001b[0m \u001b[0mapply_async\u001b[0m\u001b[0;34m(\u001b[0m\u001b[0mself\u001b[0m\u001b[0;34m,\u001b[0m \u001b[0mfunc\u001b[0m\u001b[0;34m,\u001b[0m \u001b[0mcallback\u001b[0m\u001b[0;34m=\u001b[0m\u001b[0;32mNone\u001b[0m\u001b[0;34m)\u001b[0m\u001b[0;34m:\u001b[0m\u001b[0;34m\u001b[0m\u001b[0;34m\u001b[0m\u001b[0m\n\u001b[1;32m    207\u001b[0m         \u001b[0;34m\"\"\"Schedule a func to be run\"\"\"\u001b[0m\u001b[0;34m\u001b[0m\u001b[0;34m\u001b[0m\u001b[0m\n\u001b[0;32m--> 208\u001b[0;31m         \u001b[0mresult\u001b[0m \u001b[0;34m=\u001b[0m \u001b[0mImmediateResult\u001b[0m\u001b[0;34m(\u001b[0m\u001b[0mfunc\u001b[0m\u001b[0;34m)\u001b[0m\u001b[0;34m\u001b[0m\u001b[0;34m\u001b[0m\u001b[0m\n\u001b[0m\u001b[1;32m    209\u001b[0m         \u001b[0;32mif\u001b[0m \u001b[0mcallback\u001b[0m\u001b[0;34m:\u001b[0m\u001b[0;34m\u001b[0m\u001b[0;34m\u001b[0m\u001b[0m\n\u001b[1;32m    210\u001b[0m             \u001b[0mcallback\u001b[0m\u001b[0;34m(\u001b[0m\u001b[0mresult\u001b[0m\u001b[0;34m)\u001b[0m\u001b[0;34m\u001b[0m\u001b[0;34m\u001b[0m\u001b[0m\n",
      "\u001b[0;32m/opt/conda/lib/python3.7/site-packages/joblib/_parallel_backends.py\u001b[0m in \u001b[0;36m__init__\u001b[0;34m(self, batch)\u001b[0m\n\u001b[1;32m    570\u001b[0m         \u001b[0;31m# Don't delay the application, to avoid keeping the input\u001b[0m\u001b[0;34m\u001b[0m\u001b[0;34m\u001b[0m\u001b[0;34m\u001b[0m\u001b[0m\n\u001b[1;32m    571\u001b[0m         \u001b[0;31m# arguments in memory\u001b[0m\u001b[0;34m\u001b[0m\u001b[0;34m\u001b[0m\u001b[0;34m\u001b[0m\u001b[0m\n\u001b[0;32m--> 572\u001b[0;31m         \u001b[0mself\u001b[0m\u001b[0;34m.\u001b[0m\u001b[0mresults\u001b[0m \u001b[0;34m=\u001b[0m \u001b[0mbatch\u001b[0m\u001b[0;34m(\u001b[0m\u001b[0;34m)\u001b[0m\u001b[0;34m\u001b[0m\u001b[0;34m\u001b[0m\u001b[0m\n\u001b[0m\u001b[1;32m    573\u001b[0m \u001b[0;34m\u001b[0m\u001b[0m\n\u001b[1;32m    574\u001b[0m     \u001b[0;32mdef\u001b[0m \u001b[0mget\u001b[0m\u001b[0;34m(\u001b[0m\u001b[0mself\u001b[0m\u001b[0;34m)\u001b[0m\u001b[0;34m:\u001b[0m\u001b[0;34m\u001b[0m\u001b[0;34m\u001b[0m\u001b[0m\n",
      "\u001b[0;32m/opt/conda/lib/python3.7/site-packages/joblib/parallel.py\u001b[0m in \u001b[0;36m__call__\u001b[0;34m(self)\u001b[0m\n\u001b[1;32m    261\u001b[0m         \u001b[0;32mwith\u001b[0m \u001b[0mparallel_backend\u001b[0m\u001b[0;34m(\u001b[0m\u001b[0mself\u001b[0m\u001b[0;34m.\u001b[0m\u001b[0m_backend\u001b[0m\u001b[0;34m,\u001b[0m \u001b[0mn_jobs\u001b[0m\u001b[0;34m=\u001b[0m\u001b[0mself\u001b[0m\u001b[0;34m.\u001b[0m\u001b[0m_n_jobs\u001b[0m\u001b[0;34m)\u001b[0m\u001b[0;34m:\u001b[0m\u001b[0;34m\u001b[0m\u001b[0;34m\u001b[0m\u001b[0m\n\u001b[1;32m    262\u001b[0m             return [func(*args, **kwargs)\n\u001b[0;32m--> 263\u001b[0;31m                     for func, args, kwargs in self.items]\n\u001b[0m\u001b[1;32m    264\u001b[0m \u001b[0;34m\u001b[0m\u001b[0m\n\u001b[1;32m    265\u001b[0m     \u001b[0;32mdef\u001b[0m \u001b[0m__reduce__\u001b[0m\u001b[0;34m(\u001b[0m\u001b[0mself\u001b[0m\u001b[0;34m)\u001b[0m\u001b[0;34m:\u001b[0m\u001b[0;34m\u001b[0m\u001b[0;34m\u001b[0m\u001b[0m\n",
      "\u001b[0;32m/opt/conda/lib/python3.7/site-packages/joblib/parallel.py\u001b[0m in \u001b[0;36m<listcomp>\u001b[0;34m(.0)\u001b[0m\n\u001b[1;32m    261\u001b[0m         \u001b[0;32mwith\u001b[0m \u001b[0mparallel_backend\u001b[0m\u001b[0;34m(\u001b[0m\u001b[0mself\u001b[0m\u001b[0;34m.\u001b[0m\u001b[0m_backend\u001b[0m\u001b[0;34m,\u001b[0m \u001b[0mn_jobs\u001b[0m\u001b[0;34m=\u001b[0m\u001b[0mself\u001b[0m\u001b[0;34m.\u001b[0m\u001b[0m_n_jobs\u001b[0m\u001b[0;34m)\u001b[0m\u001b[0;34m:\u001b[0m\u001b[0;34m\u001b[0m\u001b[0;34m\u001b[0m\u001b[0m\n\u001b[1;32m    262\u001b[0m             return [func(*args, **kwargs)\n\u001b[0;32m--> 263\u001b[0;31m                     for func, args, kwargs in self.items]\n\u001b[0m\u001b[1;32m    264\u001b[0m \u001b[0;34m\u001b[0m\u001b[0m\n\u001b[1;32m    265\u001b[0m     \u001b[0;32mdef\u001b[0m \u001b[0m__reduce__\u001b[0m\u001b[0;34m(\u001b[0m\u001b[0mself\u001b[0m\u001b[0;34m)\u001b[0m\u001b[0;34m:\u001b[0m\u001b[0;34m\u001b[0m\u001b[0;34m\u001b[0m\u001b[0m\n",
      "\u001b[0;32m/opt/conda/lib/python3.7/site-packages/sklearn/linear_model/_logistic.py\u001b[0m in \u001b[0;36m_logistic_regression_path\u001b[0;34m(X, y, pos_class, Cs, fit_intercept, max_iter, tol, verbose, solver, coef, class_weight, dual, penalty, intercept_scaling, multi_class, random_state, check_input, max_squared_sum, sample_weight, l1_ratio)\u001b[0m\n\u001b[1;32m    762\u001b[0m             n_iter_i = _check_optimize_result(\n\u001b[1;32m    763\u001b[0m                 \u001b[0msolver\u001b[0m\u001b[0;34m,\u001b[0m \u001b[0mopt_res\u001b[0m\u001b[0;34m,\u001b[0m \u001b[0mmax_iter\u001b[0m\u001b[0;34m,\u001b[0m\u001b[0;34m\u001b[0m\u001b[0;34m\u001b[0m\u001b[0m\n\u001b[0;32m--> 764\u001b[0;31m                 extra_warning_msg=_LOGISTIC_SOLVER_CONVERGENCE_MSG)\n\u001b[0m\u001b[1;32m    765\u001b[0m             \u001b[0mw0\u001b[0m\u001b[0;34m,\u001b[0m \u001b[0mloss\u001b[0m \u001b[0;34m=\u001b[0m \u001b[0mopt_res\u001b[0m\u001b[0;34m.\u001b[0m\u001b[0mx\u001b[0m\u001b[0;34m,\u001b[0m \u001b[0mopt_res\u001b[0m\u001b[0;34m.\u001b[0m\u001b[0mfun\u001b[0m\u001b[0;34m\u001b[0m\u001b[0;34m\u001b[0m\u001b[0m\n\u001b[1;32m    766\u001b[0m         \u001b[0;32melif\u001b[0m \u001b[0msolver\u001b[0m \u001b[0;34m==\u001b[0m \u001b[0;34m'newton-cg'\u001b[0m\u001b[0;34m:\u001b[0m\u001b[0;34m\u001b[0m\u001b[0;34m\u001b[0m\u001b[0m\n",
      "\u001b[0;32m/opt/conda/lib/python3.7/site-packages/sklearn/utils/optimize.py\u001b[0m in \u001b[0;36m_check_optimize_result\u001b[0;34m(solver, result, max_iter, extra_warning_msg)\u001b[0m\n\u001b[1;32m    241\u001b[0m                 \u001b[0;34m\"    https://scikit-learn.org/stable/modules/\"\u001b[0m\u001b[0;34m\u001b[0m\u001b[0;34m\u001b[0m\u001b[0m\n\u001b[1;32m    242\u001b[0m                 \u001b[0;34m\"preprocessing.html\"\u001b[0m\u001b[0;34m\u001b[0m\u001b[0;34m\u001b[0m\u001b[0m\n\u001b[0;32m--> 243\u001b[0;31m             ).format(solver, result.status, result.message.decode(\"latin1\"))\n\u001b[0m\u001b[1;32m    244\u001b[0m             \u001b[0;32mif\u001b[0m \u001b[0mextra_warning_msg\u001b[0m \u001b[0;32mis\u001b[0m \u001b[0;32mnot\u001b[0m \u001b[0;32mNone\u001b[0m\u001b[0;34m:\u001b[0m\u001b[0;34m\u001b[0m\u001b[0;34m\u001b[0m\u001b[0m\n\u001b[1;32m    245\u001b[0m                 \u001b[0mwarning_msg\u001b[0m \u001b[0;34m+=\u001b[0m \u001b[0;34m\"\\n\"\u001b[0m \u001b[0;34m+\u001b[0m \u001b[0mextra_warning_msg\u001b[0m\u001b[0;34m\u001b[0m\u001b[0;34m\u001b[0m\u001b[0m\n",
      "\u001b[0;31mAttributeError\u001b[0m: 'str' object has no attribute 'decode'"
     ]
    }
   ],
   "source": [
    "# initialize the logistic regression model\n",
    "logisticRegression = LogisticRegression()\n",
    "\n",
    "# fit the data\n",
    "logisticRegression.fit(train, y_train)\n",
    "\n",
    "# find out the predictions\n",
    "predictions = logisticRegression.predict(test)\n",
    "\n",
    "# print accuracy and auc_roc score\n",
    "print(f\"Accuracy score is {100*accuracy_score(y_test,predictions).round(2)}\\nROC-AUC score is {100*roc_auc_score(y_test,predictions).round(2)}\")\n",
    "\n",
    "# logisticRegression.score(y_test,predictions)"
   ]
  },
  {
   "cell_type": "code",
   "execution_count": null,
   "metadata": {
    "execution": {
     "iopub.status.busy": "2021-07-15T18:15:00.063069Z",
     "iopub.status.idle": "2021-07-15T18:15:00.064047Z"
    }
   },
   "outputs": [],
   "source": [
    "logisticRegression.predict(test)"
   ]
  },
  {
   "cell_type": "code",
   "execution_count": null,
   "metadata": {
    "execution": {
     "iopub.status.busy": "2021-07-15T18:15:00.065565Z",
     "iopub.status.idle": "2021-07-15T18:15:00.066502Z"
    }
   },
   "outputs": [],
   "source": [
    "# fit the model\n",
    "logisticRegression.fit(X_train, y_train)\n",
    "\n",
    "# predict values\n",
    "predictions = logisticRegression.predict(test)\n",
    "\n",
    "# printing the accuracy and auc_roc score\n",
    "print(f\"Accuracy score is {100*accuracy_score(y_test,predictions).round(2)}\\nROC-AUC score is {100*roc_auc_score(y_test,predictions).round(2)}\")"
   ]
  },
  {
   "cell_type": "code",
   "execution_count": null,
   "metadata": {
    "execution": {
     "iopub.status.busy": "2021-07-15T18:15:00.068035Z",
     "iopub.status.idle": "2021-07-15T18:15:00.068960Z"
    }
   },
   "outputs": [],
   "source": [
    "from sklearn.linear_model import LogisticRegression\n",
    "from sklearn.neighbors import KNeighborsClassifier\n",
    "\n",
    "# logistic regression\n",
    "model1 = LogisticRegression()\n",
    "# knn\n",
    "model2 = KNeighborsClassifier(n_neighbors=4)\n",
    "\n",
    "# fit model\n",
    "model1.fit(X_train, y_train)\n",
    "model2.fit(X_train, y_train)\n",
    "\n",
    "# predict probabilities\n",
    "pred_prob1 = model1.predict_proba(X_test)\n",
    "pred_prob2 = model2.predict_proba(X_test)"
   ]
  },
  {
   "cell_type": "code",
   "execution_count": null,
   "metadata": {
    "execution": {
     "iopub.status.busy": "2021-07-15T18:15:00.070406Z",
     "iopub.status.idle": "2021-07-15T18:15:00.071340Z"
    }
   },
   "outputs": [],
   "source": [
    "from sklearn.metrics import roc_curve\n",
    "\n",
    "# roc curve for models\n",
    "fpr1, tpr1, thresh1 = roc_curve(y_test, pred_prob1[:,1], pos_label=1)\n",
    "fpr2, tpr2, thresh2 = roc_curve(y_test, pred_prob2[:,1], pos_label=1)\n",
    "\n",
    "# roc curve for tpr = fpr \n",
    "random_probs = [0 for i in range(len(y_test))]\n",
    "p_fpr, p_tpr, _ = roc_curve(y_test, random_probs, pos_label=1)"
   ]
  },
  {
   "cell_type": "code",
   "execution_count": null,
   "metadata": {
    "execution": {
     "iopub.status.busy": "2021-07-15T18:15:00.072900Z",
     "iopub.status.idle": "2021-07-15T18:15:00.073869Z"
    }
   },
   "outputs": [],
   "source": [
    "# matplotlib\n",
    "import matplotlib.pyplot as plt\n",
    "plt.figure(figsize=(10,5))\n",
    "plt.style.use('seaborn')\n",
    "\n",
    "# plot roc curves\n",
    "plt.plot(fpr1, tpr1, linestyle='--',color='orange', label='Logistic Regression')\n",
    "plt.plot(fpr2, tpr2, linestyle='--',color='green', label='KNN')\n",
    "plt.plot(p_fpr, p_tpr, linestyle='--', color='blue')\n",
    "# title\n",
    "plt.title('ROC curve')\n",
    "# x label\n",
    "plt.xlabel('False Positive Rate')\n",
    "# y label\n",
    "plt.ylabel('True Positive rate')\n",
    "\n",
    "plt.legend(loc='best')\n",
    "plt.savefig('ROC',dpi=300)\n",
    "plt.show();"
   ]
  },
  {
   "cell_type": "code",
   "execution_count": null,
   "metadata": {
    "execution": {
     "iopub.status.busy": "2021-07-15T18:15:00.075276Z",
     "iopub.status.idle": "2021-07-15T18:15:00.076220Z"
    }
   },
   "outputs": [],
   "source": [
    "#combining train features and target\n",
    "dfCon = pd.concat([train,y_train],axis=1)\n",
    "\n",
    "# separating the two classes\n",
    "df_majority = dfCon[dfCon['Claim']==0]\n",
    "df_minority = dfCon[dfCon['Claim']==1]\n",
    "\n",
    "# upsample the minority class\n",
    "df_minority_upsampled = resample(df_minority,replace=True,n_samples=y_train.value_counts()[0],random_state = 123)\n",
    "\n",
    "# Combine the two class data and check for the valu counts of each class\n",
    "balanced_df = pd.concat([df_minority_upsampled,df_majority])\n",
    "balanced_df = shuffle(balanced_df)\n",
    "balanced_df.Claim.value_counts()"
   ]
  },
  {
   "cell_type": "code",
   "execution_count": null,
   "metadata": {
    "execution": {
     "iopub.status.busy": "2021-07-15T18:15:00.077621Z",
     "iopub.status.idle": "2021-07-15T18:15:00.078544Z"
    }
   },
   "outputs": [],
   "source": [
    "X_train = balanced_df.drop('Claim',1)\n",
    "y_train = balanced_df['Claim']"
   ]
  },
  {
   "cell_type": "code",
   "execution_count": null,
   "metadata": {
    "execution": {
     "iopub.status.busy": "2021-07-15T18:15:00.079960Z",
     "iopub.status.idle": "2021-07-15T18:15:00.080953Z"
    }
   },
   "outputs": [],
   "source": [
    "X_train.isnull().sum()"
   ]
  },
  {
   "cell_type": "code",
   "execution_count": null,
   "metadata": {
    "execution": {
     "iopub.status.busy": "2021-07-15T18:15:00.082421Z",
     "iopub.status.idle": "2021-07-15T18:15:00.083398Z"
    }
   },
   "outputs": [],
   "source": [
    "# fit the model\n",
    "logisticRegression.fit(X_train, y_train)\n",
    "\n",
    "# predict values\n",
    "predictions = logisticRegression.predict(test)\n",
    "\n",
    "# printing the accuracy and auc_roc score\n",
    "print(f\"Accuracy score is {100*accuracy_score(y_test,predictions).round(2)}\\nROC-AUC score is {100*roc_auc_score(y_test,predictions).round(2)}\")"
   ]
  },
  {
   "cell_type": "code",
   "execution_count": null,
   "metadata": {
    "execution": {
     "iopub.status.busy": "2021-07-15T18:15:00.085187Z",
     "iopub.status.idle": "2021-07-15T18:15:00.086275Z"
    }
   },
   "outputs": [],
   "source": [
    "from sklearn.linear_model import LogisticRegression\n",
    "from sklearn.neighbors import KNeighborsClassifier\n",
    "\n",
    "# logistic regression\n",
    "model3 = LogisticRegression()\n",
    "# knn\n",
    "model4 = KNeighborsClassifier(n_neighbors=4)\n",
    "\n",
    "# fit model\n",
    "model3.fit(X_train, y_train)\n",
    "model4.fit(X_train, y_train)\n",
    "\n",
    "# predict probabilities\n",
    "pred_prob3 = model1.predict_proba(X_test)\n",
    "pred_prob4 = model2.predict_proba(X_test)"
   ]
  },
  {
   "cell_type": "code",
   "execution_count": null,
   "metadata": {
    "execution": {
     "iopub.status.busy": "2021-07-15T18:15:00.087674Z",
     "iopub.status.idle": "2021-07-15T18:15:00.088620Z"
    }
   },
   "outputs": [],
   "source": [
    "from sklearn.metrics import roc_curve\n",
    "\n",
    "# roc curve for models\n",
    "fpr3, tpr3, thresh3 = roc_curve(y_test, pred_prob3[:,1], pos_label=1)\n",
    "fpr4, tpr4, thresh4 = roc_curve(y_test, pred_prob4[:,1], pos_label=1)\n",
    "\n",
    "# roc curve for tpr = fpr \n",
    "random_probs = [0 for i in range(len(y_test))]\n",
    "p_fpr1, p_tpr1, _ = roc_curve(y_test, random_probs, pos_label=1)"
   ]
  },
  {
   "cell_type": "code",
   "execution_count": null,
   "metadata": {
    "execution": {
     "iopub.status.busy": "2021-07-15T18:15:00.090070Z",
     "iopub.status.idle": "2021-07-15T18:15:00.091012Z"
    }
   },
   "outputs": [],
   "source": [
    "# matplotlib\n",
    "import matplotlib.pyplot as plt\n",
    "plt.figure(figsize=(10,5))\n",
    "plt.style.use('seaborn')\n",
    "\n",
    "# plot roc curves\n",
    "plt.plot(fpr3, tpr3, linestyle='--',color='orange', label='Logistic Regression')\n",
    "plt.plot(fpr4, tpr4, linestyle='--',color='green', label='KNN')\n",
    "plt.plot(p_fpr1, p_tpr1, linestyle='--', color='blue')\n",
    "# title\n",
    "plt.title('ROC curve')\n",
    "# x label\n",
    "plt.xlabel('False Positive Rate')\n",
    "# y label\n",
    "plt.ylabel('True Positive rate')\n",
    "\n",
    "plt.legend(loc='best')\n",
    "plt.savefig('ROC',dpi=300)\n",
    "plt.show();"
   ]
  },
  {
   "cell_type": "code",
   "execution_count": null,
   "metadata": {
    "execution": {
     "iopub.status.busy": "2021-07-15T18:15:00.092416Z",
     "iopub.status.idle": "2021-07-15T18:15:00.093430Z"
    }
   },
   "outputs": [],
   "source": [
    "number=LabelEncoder()\n",
    "data['Destination']=number.fit_transform(data['Destination'].astype('str'))\n",
    "data['Destination']"
   ]
  },
  {
   "cell_type": "code",
   "execution_count": null,
   "metadata": {
    "execution": {
     "iopub.status.busy": "2021-07-15T18:15:00.094894Z",
     "iopub.status.idle": "2021-07-15T18:15:00.095858Z"
    }
   },
   "outputs": [],
   "source": [
    "number=LabelEncoder()\n",
    "data['Product Name']=number.fit_transform(data['Product Name'].astype('str'))\n",
    "data['Product Name']"
   ]
  },
  {
   "cell_type": "code",
   "execution_count": null,
   "metadata": {
    "execution": {
     "iopub.status.busy": "2021-07-15T18:15:00.097318Z",
     "iopub.status.idle": "2021-07-15T18:15:00.098291Z"
    }
   },
   "outputs": [],
   "source": [
    "#creating a checkpoint\n",
    "df2 = data.copy()\n",
    "#dropping Vintage and id columns as suggested by EDA\n",
    "df2.drop(['ID','Commision (in value)','Net Sales','Agency','Agency Type','Distribution Channel'],axis=1,inplace=True)\n",
    "#checking target variable\n",
    "df2.head()"
   ]
  },
  {
   "cell_type": "code",
   "execution_count": null,
   "metadata": {
    "execution": {
     "iopub.status.busy": "2021-07-15T18:15:00.099711Z",
     "iopub.status.idle": "2021-07-15T18:15:00.100605Z"
    }
   },
   "outputs": [],
   "source": [
    "# predictors\n",
    "X = df2\n",
    "\n",
    "# target variables\n",
    "y = df1['Claim'][:22421]\n",
    "\n",
    "# splitting the data into train and test\n",
    "X_train, X_test, y_train, y_test = train_test_split(X,y,test_size = 0.2,random_state = 10)"
   ]
  },
  {
   "cell_type": "code",
   "execution_count": null,
   "metadata": {
    "execution": {
     "iopub.status.busy": "2021-07-15T18:15:00.101973Z",
     "iopub.status.idle": "2021-07-15T18:15:00.102895Z"
    }
   },
   "outputs": [],
   "source": [
    "# fit the model\n",
    "logisticRegression.fit(X_train, y_train)\n",
    "\n",
    "# predict values\n",
    "predictions = logisticRegression.predict(test)\n",
    "\n",
    "# printing the accuracy and auc_roc score\n",
    "#print(f\"Accuracy score is {100*accuracy_score(y_test,predictions).round(2)}\\nROC-AUC score is {100*roc_auc_score(y_test,predictions).round(2)}\")"
   ]
  },
  {
   "cell_type": "code",
   "execution_count": null,
   "metadata": {
    "execution": {
     "iopub.status.busy": "2021-07-15T18:15:00.104253Z",
     "iopub.status.idle": "2021-07-15T18:15:00.105169Z"
    }
   },
   "outputs": [],
   "source": [
    "y_test.value_counts().sum()"
   ]
  },
  {
   "cell_type": "code",
   "execution_count": null,
   "metadata": {
    "execution": {
     "iopub.status.busy": "2021-07-15T18:15:00.106621Z",
     "iopub.status.idle": "2021-07-15T18:15:00.107601Z"
    }
   },
   "outputs": [],
   "source": [
    "list(df.Agency.value_counts().nlargest(5).keys())"
   ]
  },
  {
   "cell_type": "code",
   "execution_count": null,
   "metadata": {
    "execution": {
     "iopub.status.busy": "2021-07-15T18:15:00.109078Z",
     "iopub.status.idle": "2021-07-15T18:15:00.110042Z"
    }
   },
   "outputs": [],
   "source": [
    "AgencyClaim=df[['Agency','Claim']]"
   ]
  },
  {
   "cell_type": "code",
   "execution_count": null,
   "metadata": {
    "execution": {
     "iopub.status.busy": "2021-07-15T18:15:00.111471Z",
     "iopub.status.idle": "2021-07-15T18:15:00.112395Z"
    }
   },
   "outputs": [],
   "source": [
    "list(AgencyClaim['Agency'])[:5]"
   ]
  },
  {
   "cell_type": "code",
   "execution_count": null,
   "metadata": {
    "execution": {
     "iopub.status.busy": "2021-07-15T18:15:00.113759Z",
     "iopub.status.idle": "2021-07-15T18:15:00.114656Z"
    }
   },
   "outputs": [],
   "source": [
    "list(AgencyClaim['Claim'])[:5]"
   ]
  },
  {
   "cell_type": "code",
   "execution_count": null,
   "metadata": {
    "execution": {
     "iopub.status.busy": "2021-07-15T18:15:00.116057Z",
     "iopub.status.idle": "2021-07-15T18:15:00.116960Z"
    }
   },
   "outputs": [],
   "source": [
    "plt.figure(figsize=(7,5))\n",
    "plt.bar(list(AgencyClaim['Claim'])[:5],list(AgencyClaim['Agency'])[:5])\n",
    "plt.title('Top 5 agencies')\n",
    "plt.xlabel(' agencies')\n",
    "plt.ylabel('Number of theagencies')\n",
    "           \n",
    "plt.show()"
   ]
  },
  {
   "cell_type": "code",
   "execution_count": null,
   "metadata": {
    "execution": {
     "iopub.status.busy": "2021-07-15T18:15:00.118321Z",
     "iopub.status.idle": "2021-07-15T18:15:00.119297Z"
    }
   },
   "outputs": [],
   "source": [
    "df.Agency.unique()"
   ]
  },
  {
   "cell_type": "code",
   "execution_count": null,
   "metadata": {
    "execution": {
     "iopub.status.busy": "2021-07-15T18:15:00.120761Z",
     "iopub.status.idle": "2021-07-15T18:15:00.121733Z"
    }
   },
   "outputs": [],
   "source": [
    "df['Product Name'].unique()"
   ]
  },
  {
   "cell_type": "code",
   "execution_count": null,
   "metadata": {
    "execution": {
     "iopub.status.busy": "2021-07-15T18:15:00.123179Z",
     "iopub.status.idle": "2021-07-15T18:15:00.124152Z"
    }
   },
   "outputs": [],
   "source": [
    "df['Agency Type'].unique()"
   ]
  },
  {
   "cell_type": "code",
   "execution_count": null,
   "metadata": {
    "execution": {
     "iopub.status.busy": "2021-07-15T18:15:00.125622Z",
     "iopub.status.idle": "2021-07-15T18:15:00.126508Z"
    }
   },
   "outputs": [],
   "source": [
    "plt.figure(figsize=(7,5))\n",
    "plt.bar(list(df.Agency.value_counts().nlargest(5).keys()),list(df.Agency.value_counts().nlargest(5)))\n",
    "plt.title('Top 5 agencies')\n",
    "plt.xlabel(' agencies')\n",
    "plt.ylabel('Number of theagencies')\n",
    "           \n",
    "plt.show()"
   ]
  },
  {
   "cell_type": "code",
   "execution_count": null,
   "metadata": {},
   "outputs": [],
   "source": []
  },
  {
   "cell_type": "code",
   "execution_count": null,
   "metadata": {},
   "outputs": [],
   "source": []
  }
 ],
 "metadata": {
  "kernelspec": {
   "display_name": "Python 3",
   "language": "python",
   "name": "python3"
  },
  "language_info": {
   "codemirror_mode": {
    "name": "ipython",
    "version": 3
   },
   "file_extension": ".py",
   "mimetype": "text/x-python",
   "name": "python",
   "nbconvert_exporter": "python",
   "pygments_lexer": "ipython3",
   "version": "3.8.5"
  }
 },
 "nbformat": 4,
 "nbformat_minor": 4
}
