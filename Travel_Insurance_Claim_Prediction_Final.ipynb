{
 "cells": [
  {
   "cell_type": "markdown",
   "metadata": {},
   "source": [
    "## PROBNLEM STATEMENT"
   ]
  },
  {
   "cell_type": "markdown",
   "metadata": {},
   "source": [
    "**Safe Travel Insurance Inc. specializes in risk management by approving customers claim.**"
   ]
  },
  {
   "cell_type": "markdown",
   "metadata": {},
   "source": [
    "## ABOUT THE DATA\n",
    "\n",
    "The dataset has details of 52310 train and 22421 test dataest with the following 11 features\n",
    "\n",
    "## Columns\n",
    "\n",
    "- Target: Claim Status (Claim)\n",
    "- Name of agency (Agency)\n",
    "- Type of travel insurance agencies (Agency.Type)\n",
    "- Distribution channel of travel insurance agencies (Distribution.Channel)\n",
    "- Name of the travel insurance products (Product.Name)\n",
    "- Duration of travel (Duration)\n",
    "- Destination of travel (Destination)\n",
    "- Amount of sales of travel insurance policies (Net.Sales)\n",
    "- The commission received for travel insurance agency (Commission)\n",
    "- Age of insured (Age)\n",
    "- The identification record of every observation (ID)"
   ]
  },
  {
   "cell_type": "markdown",
   "metadata": {},
   "source": [
    "**Business Overview**\n",
    "SafeTravels is world’s largest insurance companies specializing in travel insurance\n",
    "\n",
    "**Potential Customers** - Travelers wanting to insure themselves against travel related risks\n",
    "\n",
    "**Offerings** - 1-way travel insurance, 2-way insurance, insurance against cancellations, renting vehicles insurance, etc.\n",
    "\n",
    "**Problem Statement**\n",
    "Building an ML model to predict whether the customer will apply for the claim or not\n",
    "Core Business Problem being solved?\n",
    "Building an ML model to predict whether the customer will apply for the claim or not\n",
    "1000s of claims spread across different products are received weekly thereby increasing manual effort and time\n",
    "Automatically predicting the claims could lead less effort, time and operational costs\n",
    "Whenever a claim is registered and if accepted it is a cost to the company"
   ]
  },
  {
   "cell_type": "markdown",
   "metadata": {},
   "source": [
    "## Why solve this project ?"
   ]
  },
  {
   "cell_type": "markdown",
   "metadata": {},
   "source": [
    "# Import Libraries"
   ]
  },
  {
   "cell_type": "code",
   "execution_count": 1,
   "metadata": {},
   "outputs": [],
   "source": [
    "# Importing necessary libraries\n",
    "import pandas as pd\n",
    "import numpy as np\n",
    "from sklearn.linear_model import LogisticRegression\n",
    "from sklearn.model_selection import train_test_split\n",
    "from sklearn.preprocessing import LabelEncoder\n",
    "from sklearn.preprocessing import StandardScaler\n",
    "from sklearn.metrics import accuracy_score,classification_report,f1_score,confusion_matrix\n",
    "from sklearn.model_selection import GridSearchCV\n",
    "from scipy.stats import mode \n",
    "import seaborn as sns\n",
    "import matplotlib.pyplot as plt\n",
    "import warnings\n",
    "warnings.filterwarnings(\"ignore\")"
   ]
  },
  {
   "cell_type": "code",
   "execution_count": 2,
   "metadata": {},
   "outputs": [],
   "source": [
    "#Loading file into df\n",
    "df_train = pd.read_csv('./train.csv')\n",
    "df_test = pd.read_csv('./test.csv')"
   ]
  },
  {
   "cell_type": "markdown",
   "metadata": {},
   "source": [
    "# Gaining basic Insights from the data and Data Cleansing"
   ]
  },
  {
   "cell_type": "code",
   "execution_count": 3,
   "metadata": {},
   "outputs": [
    {
     "data": {
      "text/html": [
       "<div>\n",
       "<style scoped>\n",
       "    .dataframe tbody tr th:only-of-type {\n",
       "        vertical-align: middle;\n",
       "    }\n",
       "\n",
       "    .dataframe tbody tr th {\n",
       "        vertical-align: top;\n",
       "    }\n",
       "\n",
       "    .dataframe thead th {\n",
       "        text-align: right;\n",
       "    }\n",
       "</style>\n",
       "<table border=\"1\" class=\"dataframe\">\n",
       "  <thead>\n",
       "    <tr style=\"text-align: right;\">\n",
       "      <th></th>\n",
       "      <th>ID</th>\n",
       "      <th>Agency</th>\n",
       "      <th>Agency Type</th>\n",
       "      <th>Distribution Channel</th>\n",
       "      <th>Product Name</th>\n",
       "      <th>Duration</th>\n",
       "      <th>Destination</th>\n",
       "      <th>Net Sales</th>\n",
       "      <th>Commision (in value)</th>\n",
       "      <th>Age</th>\n",
       "      <th>Claim</th>\n",
       "    </tr>\n",
       "  </thead>\n",
       "  <tbody>\n",
       "    <tr>\n",
       "      <th>0</th>\n",
       "      <td>2010</td>\n",
       "      <td>EPX</td>\n",
       "      <td>Travel Agency</td>\n",
       "      <td>Online</td>\n",
       "      <td>Cancellation Plan</td>\n",
       "      <td>61</td>\n",
       "      <td>PHILIPPINES</td>\n",
       "      <td>12.0</td>\n",
       "      <td>0.00</td>\n",
       "      <td>41</td>\n",
       "      <td>0</td>\n",
       "    </tr>\n",
       "    <tr>\n",
       "      <th>1</th>\n",
       "      <td>4245</td>\n",
       "      <td>EPX</td>\n",
       "      <td>Travel Agency</td>\n",
       "      <td>Online</td>\n",
       "      <td>Cancellation Plan</td>\n",
       "      <td>4</td>\n",
       "      <td>MALAYSIA</td>\n",
       "      <td>17.0</td>\n",
       "      <td>0.00</td>\n",
       "      <td>35</td>\n",
       "      <td>0</td>\n",
       "    </tr>\n",
       "    <tr>\n",
       "      <th>2</th>\n",
       "      <td>9251</td>\n",
       "      <td>CWT</td>\n",
       "      <td>Travel Agency</td>\n",
       "      <td>Online</td>\n",
       "      <td>Rental Vehicle Excess Insurance</td>\n",
       "      <td>26</td>\n",
       "      <td>THAILAND</td>\n",
       "      <td>19.8</td>\n",
       "      <td>11.88</td>\n",
       "      <td>47</td>\n",
       "      <td>0</td>\n",
       "    </tr>\n",
       "    <tr>\n",
       "      <th>3</th>\n",
       "      <td>4754</td>\n",
       "      <td>EPX</td>\n",
       "      <td>Travel Agency</td>\n",
       "      <td>Online</td>\n",
       "      <td>2 way Comprehensive Plan</td>\n",
       "      <td>15</td>\n",
       "      <td>HONG KONG</td>\n",
       "      <td>27.0</td>\n",
       "      <td>0.00</td>\n",
       "      <td>48</td>\n",
       "      <td>0</td>\n",
       "    </tr>\n",
       "    <tr>\n",
       "      <th>4</th>\n",
       "      <td>8840</td>\n",
       "      <td>EPX</td>\n",
       "      <td>Travel Agency</td>\n",
       "      <td>Online</td>\n",
       "      <td>2 way Comprehensive Plan</td>\n",
       "      <td>15</td>\n",
       "      <td>MALAYSIA</td>\n",
       "      <td>37.0</td>\n",
       "      <td>0.00</td>\n",
       "      <td>36</td>\n",
       "      <td>0</td>\n",
       "    </tr>\n",
       "  </tbody>\n",
       "</table>\n",
       "</div>"
      ],
      "text/plain": [
       "     ID Agency    Agency Type Distribution Channel  \\\n",
       "0  2010    EPX  Travel Agency               Online   \n",
       "1  4245    EPX  Travel Agency               Online   \n",
       "2  9251    CWT  Travel Agency               Online   \n",
       "3  4754    EPX  Travel Agency               Online   \n",
       "4  8840    EPX  Travel Agency               Online   \n",
       "\n",
       "                      Product Name  Duration  Destination  Net Sales  \\\n",
       "0                Cancellation Plan        61  PHILIPPINES       12.0   \n",
       "1                Cancellation Plan         4     MALAYSIA       17.0   \n",
       "2  Rental Vehicle Excess Insurance        26     THAILAND       19.8   \n",
       "3         2 way Comprehensive Plan        15    HONG KONG       27.0   \n",
       "4         2 way Comprehensive Plan        15     MALAYSIA       37.0   \n",
       "\n",
       "   Commision (in value)  Age  Claim  \n",
       "0                  0.00   41      0  \n",
       "1                  0.00   35      0  \n",
       "2                 11.88   47      0  \n",
       "3                  0.00   48      0  \n",
       "4                  0.00   36      0  "
      ]
     },
     "execution_count": 3,
     "metadata": {},
     "output_type": "execute_result"
    }
   ],
   "source": [
    "#Reading the top 5 rows of the dataset\n",
    "df_train.head(5)"
   ]
  },
  {
   "cell_type": "code",
   "execution_count": 4,
   "metadata": {},
   "outputs": [
    {
     "data": {
      "text/html": [
       "<div>\n",
       "<style scoped>\n",
       "    .dataframe tbody tr th:only-of-type {\n",
       "        vertical-align: middle;\n",
       "    }\n",
       "\n",
       "    .dataframe tbody tr th {\n",
       "        vertical-align: top;\n",
       "    }\n",
       "\n",
       "    .dataframe thead th {\n",
       "        text-align: right;\n",
       "    }\n",
       "</style>\n",
       "<table border=\"1\" class=\"dataframe\">\n",
       "  <thead>\n",
       "    <tr style=\"text-align: right;\">\n",
       "      <th></th>\n",
       "      <th>ID</th>\n",
       "      <th>Agency</th>\n",
       "      <th>Agency Type</th>\n",
       "      <th>Distribution Channel</th>\n",
       "      <th>Product Name</th>\n",
       "      <th>Duration</th>\n",
       "      <th>Destination</th>\n",
       "      <th>Net Sales</th>\n",
       "      <th>Commision (in value)</th>\n",
       "      <th>Age</th>\n",
       "      <th>Claim</th>\n",
       "    </tr>\n",
       "  </thead>\n",
       "  <tbody>\n",
       "    <tr>\n",
       "      <th>52305</th>\n",
       "      <td>5370</td>\n",
       "      <td>C2B</td>\n",
       "      <td>Airlines</td>\n",
       "      <td>Online</td>\n",
       "      <td>Annual Gold Plan</td>\n",
       "      <td>365</td>\n",
       "      <td>SINGAPORE</td>\n",
       "      <td>444.750593</td>\n",
       "      <td>111.1858</td>\n",
       "      <td>40</td>\n",
       "      <td>1</td>\n",
       "    </tr>\n",
       "    <tr>\n",
       "      <th>52306</th>\n",
       "      <td>5282</td>\n",
       "      <td>RAB</td>\n",
       "      <td>Airlines</td>\n",
       "      <td>Online</td>\n",
       "      <td>Value Plan</td>\n",
       "      <td>8</td>\n",
       "      <td>BRUNEI DARUSSALAM</td>\n",
       "      <td>23.000000</td>\n",
       "      <td>9.2000</td>\n",
       "      <td>54</td>\n",
       "      <td>0</td>\n",
       "    </tr>\n",
       "    <tr>\n",
       "      <th>52307</th>\n",
       "      <td>7083</td>\n",
       "      <td>C2B</td>\n",
       "      <td>Airlines</td>\n",
       "      <td>Online</td>\n",
       "      <td>Bronze Plan</td>\n",
       "      <td>38</td>\n",
       "      <td>SINGAPORE</td>\n",
       "      <td>61.100000</td>\n",
       "      <td>15.2800</td>\n",
       "      <td>37</td>\n",
       "      <td>0</td>\n",
       "    </tr>\n",
       "    <tr>\n",
       "      <th>52308</th>\n",
       "      <td>8523</td>\n",
       "      <td>EPX</td>\n",
       "      <td>Travel Agency</td>\n",
       "      <td>Online</td>\n",
       "      <td>Cancellation Plan</td>\n",
       "      <td>2</td>\n",
       "      <td>THAILAND</td>\n",
       "      <td>10.000000</td>\n",
       "      <td>0.0000</td>\n",
       "      <td>46</td>\n",
       "      <td>0</td>\n",
       "    </tr>\n",
       "    <tr>\n",
       "      <th>52309</th>\n",
       "      <td>4791</td>\n",
       "      <td>C2B</td>\n",
       "      <td>Airlines</td>\n",
       "      <td>Online</td>\n",
       "      <td>Annual Silver Plan</td>\n",
       "      <td>414</td>\n",
       "      <td>SINGAPORE</td>\n",
       "      <td>216.000000</td>\n",
       "      <td>54.0000</td>\n",
       "      <td>41</td>\n",
       "      <td>0</td>\n",
       "    </tr>\n",
       "  </tbody>\n",
       "</table>\n",
       "</div>"
      ],
      "text/plain": [
       "         ID Agency    Agency Type Distribution Channel        Product Name  \\\n",
       "52305  5370    C2B       Airlines               Online    Annual Gold Plan   \n",
       "52306  5282    RAB       Airlines               Online          Value Plan   \n",
       "52307  7083    C2B       Airlines               Online         Bronze Plan   \n",
       "52308  8523    EPX  Travel Agency               Online   Cancellation Plan   \n",
       "52309  4791    C2B       Airlines               Online  Annual Silver Plan   \n",
       "\n",
       "       Duration        Destination   Net Sales  Commision (in value)  Age  \\\n",
       "52305       365          SINGAPORE  444.750593              111.1858   40   \n",
       "52306         8  BRUNEI DARUSSALAM   23.000000                9.2000   54   \n",
       "52307        38          SINGAPORE   61.100000               15.2800   37   \n",
       "52308         2           THAILAND   10.000000                0.0000   46   \n",
       "52309       414          SINGAPORE  216.000000               54.0000   41   \n",
       "\n",
       "       Claim  \n",
       "52305      1  \n",
       "52306      0  \n",
       "52307      0  \n",
       "52308      0  \n",
       "52309      0  "
      ]
     },
     "execution_count": 4,
     "metadata": {},
     "output_type": "execute_result"
    }
   ],
   "source": [
    "#Reading the below 5 rows of the dataset\n",
    "df_train.tail(5)"
   ]
  },
  {
   "cell_type": "code",
   "execution_count": 5,
   "metadata": {},
   "outputs": [
    {
     "data": {
      "text/plain": [
       "(52310, 11)"
      ]
     },
     "execution_count": 5,
     "metadata": {},
     "output_type": "execute_result"
    }
   ],
   "source": [
    "#Checking the dimensions of the dataset\n",
    "df_train.shape"
   ]
  },
  {
   "cell_type": "markdown",
   "metadata": {},
   "source": [
    "## Check for null values and get a summary of all the columns in the dataset"
   ]
  },
  {
   "cell_type": "code",
   "execution_count": 6,
   "metadata": {},
   "outputs": [
    {
     "data": {
      "text/plain": [
       "ID                      0\n",
       "Agency                  0\n",
       "Agency Type             0\n",
       "Distribution Channel    0\n",
       "Product Name            0\n",
       "Duration                0\n",
       "Destination             0\n",
       "Net Sales               0\n",
       "Commision (in value)    0\n",
       "Age                     0\n",
       "Claim                   0\n",
       "dtype: int64"
      ]
     },
     "execution_count": 6,
     "metadata": {},
     "output_type": "execute_result"
    }
   ],
   "source": [
    "df_train.isnull().sum()"
   ]
  },
  {
   "cell_type": "markdown",
   "metadata": {},
   "source": [
    "**As there is no missing values in columns, we are good to go!!**"
   ]
  },
  {
   "cell_type": "code",
   "execution_count": 7,
   "metadata": {},
   "outputs": [
    {
     "data": {
      "text/plain": [
       "ID                        int64\n",
       "Agency                   object\n",
       "Agency Type              object\n",
       "Distribution Channel     object\n",
       "Product Name             object\n",
       "Duration                  int64\n",
       "Destination              object\n",
       "Net Sales               float64\n",
       "Commision (in value)    float64\n",
       "Age                       int64\n",
       "Claim                     int64\n",
       "dtype: object"
      ]
     },
     "execution_count": 7,
     "metadata": {},
     "output_type": "execute_result"
    }
   ],
   "source": [
    "#Checking datatypes\n",
    "df_train.dtypes"
   ]
  },
  {
   "cell_type": "code",
   "execution_count": 8,
   "metadata": {},
   "outputs": [
    {
     "name": "stdout",
     "output_type": "stream",
     "text": [
      "<class 'pandas.core.frame.DataFrame'>\n",
      "RangeIndex: 52310 entries, 0 to 52309\n",
      "Data columns (total 11 columns):\n",
      " #   Column                Non-Null Count  Dtype  \n",
      "---  ------                --------------  -----  \n",
      " 0   ID                    52310 non-null  int64  \n",
      " 1   Agency                52310 non-null  object \n",
      " 2   Agency Type           52310 non-null  object \n",
      " 3   Distribution Channel  52310 non-null  object \n",
      " 4   Product Name          52310 non-null  object \n",
      " 5   Duration              52310 non-null  int64  \n",
      " 6   Destination           52310 non-null  object \n",
      " 7   Net Sales             52310 non-null  float64\n",
      " 8   Commision (in value)  52310 non-null  float64\n",
      " 9   Age                   52310 non-null  int64  \n",
      " 10  Claim                 52310 non-null  int64  \n",
      "dtypes: float64(2), int64(4), object(5)\n",
      "memory usage: 4.4+ MB\n"
     ]
    }
   ],
   "source": [
    "df_train.info()"
   ]
  },
  {
   "cell_type": "code",
   "execution_count": 9,
   "metadata": {},
   "outputs": [
    {
     "data": {
      "text/html": [
       "<div>\n",
       "<style scoped>\n",
       "    .dataframe tbody tr th:only-of-type {\n",
       "        vertical-align: middle;\n",
       "    }\n",
       "\n",
       "    .dataframe tbody tr th {\n",
       "        vertical-align: top;\n",
       "    }\n",
       "\n",
       "    .dataframe thead th {\n",
       "        text-align: right;\n",
       "    }\n",
       "</style>\n",
       "<table border=\"1\" class=\"dataframe\">\n",
       "  <thead>\n",
       "    <tr style=\"text-align: right;\">\n",
       "      <th></th>\n",
       "      <th>ID</th>\n",
       "      <th>Duration</th>\n",
       "      <th>Net Sales</th>\n",
       "      <th>Commision (in value)</th>\n",
       "      <th>Age</th>\n",
       "      <th>Claim</th>\n",
       "    </tr>\n",
       "  </thead>\n",
       "  <tbody>\n",
       "    <tr>\n",
       "      <th>count</th>\n",
       "      <td>52310.000000</td>\n",
       "      <td>52310.000000</td>\n",
       "      <td>52310.000000</td>\n",
       "      <td>52310.000000</td>\n",
       "      <td>52310.000000</td>\n",
       "      <td>52310.000000</td>\n",
       "    </tr>\n",
       "    <tr>\n",
       "      <th>mean</th>\n",
       "      <td>6005.745804</td>\n",
       "      <td>58.256108</td>\n",
       "      <td>48.554673</td>\n",
       "      <td>12.219963</td>\n",
       "      <td>39.555725</td>\n",
       "      <td>0.166699</td>\n",
       "    </tr>\n",
       "    <tr>\n",
       "      <th>std</th>\n",
       "      <td>2306.450475</td>\n",
       "      <td>109.138708</td>\n",
       "      <td>60.198589</td>\n",
       "      <td>22.847645</td>\n",
       "      <td>13.762473</td>\n",
       "      <td>0.372710</td>\n",
       "    </tr>\n",
       "    <tr>\n",
       "      <th>min</th>\n",
       "      <td>2000.000000</td>\n",
       "      <td>-2.000000</td>\n",
       "      <td>-389.000000</td>\n",
       "      <td>0.000000</td>\n",
       "      <td>0.000000</td>\n",
       "      <td>0.000000</td>\n",
       "    </tr>\n",
       "    <tr>\n",
       "      <th>25%</th>\n",
       "      <td>4015.000000</td>\n",
       "      <td>10.000000</td>\n",
       "      <td>19.800000</td>\n",
       "      <td>0.000000</td>\n",
       "      <td>33.000000</td>\n",
       "      <td>0.000000</td>\n",
       "    </tr>\n",
       "    <tr>\n",
       "      <th>50%</th>\n",
       "      <td>6002.000000</td>\n",
       "      <td>24.000000</td>\n",
       "      <td>29.500000</td>\n",
       "      <td>0.000000</td>\n",
       "      <td>36.000000</td>\n",
       "      <td>0.000000</td>\n",
       "    </tr>\n",
       "    <tr>\n",
       "      <th>75%</th>\n",
       "      <td>8004.000000</td>\n",
       "      <td>57.000000</td>\n",
       "      <td>55.000000</td>\n",
       "      <td>13.380000</td>\n",
       "      <td>43.000000</td>\n",
       "      <td>0.000000</td>\n",
       "    </tr>\n",
       "    <tr>\n",
       "      <th>max</th>\n",
       "      <td>10000.000000</td>\n",
       "      <td>4881.000000</td>\n",
       "      <td>682.000000</td>\n",
       "      <td>262.760000</td>\n",
       "      <td>118.000000</td>\n",
       "      <td>1.000000</td>\n",
       "    </tr>\n",
       "  </tbody>\n",
       "</table>\n",
       "</div>"
      ],
      "text/plain": [
       "                 ID      Duration     Net Sales  Commision (in value)  \\\n",
       "count  52310.000000  52310.000000  52310.000000          52310.000000   \n",
       "mean    6005.745804     58.256108     48.554673             12.219963   \n",
       "std     2306.450475    109.138708     60.198589             22.847645   \n",
       "min     2000.000000     -2.000000   -389.000000              0.000000   \n",
       "25%     4015.000000     10.000000     19.800000              0.000000   \n",
       "50%     6002.000000     24.000000     29.500000              0.000000   \n",
       "75%     8004.000000     57.000000     55.000000             13.380000   \n",
       "max    10000.000000   4881.000000    682.000000            262.760000   \n",
       "\n",
       "                Age         Claim  \n",
       "count  52310.000000  52310.000000  \n",
       "mean      39.555725      0.166699  \n",
       "std       13.762473      0.372710  \n",
       "min        0.000000      0.000000  \n",
       "25%       33.000000      0.000000  \n",
       "50%       36.000000      0.000000  \n",
       "75%       43.000000      0.000000  \n",
       "max      118.000000      1.000000  "
      ]
     },
     "execution_count": 9,
     "metadata": {},
     "output_type": "execute_result"
    }
   ],
   "source": [
    "#Ananlysing basic statistical details\n",
    "df_train.describe()"
   ]
  },
  {
   "cell_type": "markdown",
   "metadata": {},
   "source": [
    "It can be seen that there are no null values in any of the columns. So it is a pretty clean dataset.<br/>\n",
    "\n",
    "**Duration**: Min = -2 Max = 4881 But can insurance company giving insurance for 4881 days?\n",
    "Insurance company do not give insurance over 360 days. Further extension will be provided for 180 days. we are considering 540 days as a limit.\n",
    "\n",
    "**Age**. Min = 0 Max = 118 age 0 can be possible but 118 too old however we need to check too old people gets insurance or not. So,Insurance Companies do not give insurance over an age of 85.However there are few who provide insurance upto age of 99. so we treat the values above 100.\n",
    "\n",
    "We have negative values in this Duration column but can time be negative? \n",
    "\n",
    "This is due to timezone difference. for ex: 12:10 AM 18/3/2021 you tavelled by a flight which is one way and reached some other country where the timezone is now 11:50 PM 17/3/2021.\n",
    "\n",
    "In this case they will try to store the duration value as -1 in the database.\n",
    "\n",
    "**Net sales** can't be negative. so removing those records."
   ]
  },
  {
   "cell_type": "markdown",
   "metadata": {},
   "source": [
    "## For further analysis split to bring all the continuous variables together and categorical variables together"
   ]
  },
  {
   "cell_type": "code",
   "execution_count": 10,
   "metadata": {},
   "outputs": [],
   "source": [
    "# Seperate continuous variables and categorical variables\n",
    "dataframe_con = df_train.select_dtypes(include=np.number)\n",
    "dataframe_cat = df_train.select_dtypes(exclude=np.number)"
   ]
  },
  {
   "cell_type": "code",
   "execution_count": 11,
   "metadata": {},
   "outputs": [
    {
     "name": "stdout",
     "output_type": "stream",
     "text": [
      "Index(['ID', 'Duration', 'Net Sales', 'Commision (in value)', 'Age', 'Claim'], dtype='object')\n"
     ]
    }
   ],
   "source": [
    "print(dataframe_con.columns)"
   ]
  },
  {
   "cell_type": "code",
   "execution_count": 12,
   "metadata": {},
   "outputs": [
    {
     "name": "stdout",
     "output_type": "stream",
     "text": [
      "Index(['Agency', 'Agency Type', 'Distribution Channel', 'Product Name',\n",
      "       'Destination'],\n",
      "      dtype='object')\n"
     ]
    }
   ],
   "source": [
    "print(dataframe_cat.columns)"
   ]
  },
  {
   "cell_type": "markdown",
   "metadata": {},
   "source": [
    "**5 Columns are Categorical and 6 Columns are Numerical**"
   ]
  },
  {
   "cell_type": "markdown",
   "metadata": {},
   "source": []
  },
  {
   "cell_type": "markdown",
   "metadata": {},
   "source": [
    "## Agency Type Vs Claim"
   ]
  },
  {
   "cell_type": "code",
   "execution_count": 13,
   "metadata": {},
   "outputs": [
    {
     "data": {
      "text/plain": [
       "<Figure size 720x576 with 0 Axes>"
      ]
     },
     "metadata": {},
     "output_type": "display_data"
    },
    {
     "data": {
      "image/png": "[encoded data removed]",
      "text/plain": [
       "<Figure size 432x288 with 1 Axes>"
      ]
     },
     "metadata": {
      "needs_background": "light"
     },
     "output_type": "display_data"
    }
   ],
   "source": [
    "#plotting the graph fpr claim rate vs Agency Type\n",
    "plt.figure(figsize=(10,8))\n",
    "agencytype = pd.DataFrame(df_train.groupby(['Agency Type'])['Claim'].value_counts(normalize=True)*100) #converting claim counts grouped by agency type to percentage\n",
    "agencytype.columns = ['Claim_Rate']  #replacing the claim colum with claim rate\n",
    "ax = agencytype.unstack().plot(kind = 'bar')\n",
    "    \n",
    "plt.ylabel(\"Claim Rate\")\n",
    "plt.title(\"Claim Rate as per Agency Type\")\n",
    "plt.legend(['Not Claimed', 'Claimed'], loc = 'upper left')\n",
    "plt.ylim(0,100)\n",
    "plt.show()"
   ]
  },
  {
   "cell_type": "markdown",
   "metadata": {},
   "source": [
    "**Insights and Recommendation**\n",
    "\n",
    "- Airlines agency has higher claimed rates (34%-36%) less than Travel agency claim rates (9%-10%)"
   ]
  },
  {
   "cell_type": "markdown",
   "metadata": {},
   "source": [
    "## Agency vs Claim"
   ]
  },
  {
   "cell_type": "code",
   "execution_count": 14,
   "metadata": {},
   "outputs": [
    {
     "data": {
      "image/png": "[encoded data removed]",
      "text/plain": [
       "<Figure size 720x504 with 1 Axes>"
      ]
     },
     "metadata": {
      "needs_background": "light"
     },
     "output_type": "display_data"
    }
   ],
   "source": [
    "plt.figure(figsize=(10,7))\n",
    "tl= df_train\n",
    "sns.countplot('Agency', hue='Claim', data=df_train)\n",
    "plt.title('Agency vs Claim')\n",
    "\n",
    "plt.show()"
   ]
  },
  {
   "cell_type": "markdown",
   "metadata": {},
   "source": [
    "**Insights and Recommandation**\n",
    "\n",
    "- Top 5 Ageny companies have better claim rate"
   ]
  },
  {
   "cell_type": "code",
   "execution_count": 15,
   "metadata": {},
   "outputs": [
    {
     "data": {
      "image/png": "[encoded data removed]",
      "text/plain": [
       "<Figure size 720x432 with 1 Axes>"
      ]
     },
     "metadata": {
      "needs_background": "light"
     },
     "output_type": "display_data"
    }
   ],
   "source": [
    "agency = pd.DataFrame(df_train.groupby(['Agency'])['Claim'].value_counts(normalize = True)*100)[2:12] #converting claim counts grouped by agency type to percentage\n",
    "agency.columns = ['Claim_Rate']\n",
    "ax = agency.unstack().plot(kind ='bar',figsize =(10,6))\n",
    "    \n",
    "plt.ylabel(\"Claim Rate\")\n",
    "plt.title(\"Claim Rate as per Agency Type\")\n",
    "plt.legend(['Not Claimed', 'Claimed'], loc = 'upper left')\n",
    "plt.ylim(0,140)\n",
    "plt.show()"
   ]
  },
  {
   "cell_type": "markdown",
   "metadata": {},
   "source": [
    "**Insights and Recommandation**\n",
    "\n",
    "Top 5 Ageny companies - C2B have better claiming rate and CWT next"
   ]
  },
  {
   "cell_type": "code",
   "execution_count": 16,
   "metadata": {},
   "outputs": [
    {
     "data": {
      "image/png": "[encoded data removed]",
      "text/plain": [
       "<Figure size 720x576 with 1 Axes>"
      ]
     },
     "metadata": {
      "needs_background": "light"
     },
     "output_type": "display_data"
    }
   ],
   "source": [
    "#Agency vs Claim registered\n",
    "plt.figure(figsize=(10,8))\n",
    "claimed=df_train[df_train['Claim']==1]\n",
    "claimed['Agency'].value_counts().sort_values(ascending=False).plot(kind='bar')\n",
    "plt.title('Agency vs Claims')\n",
    "plt.xlabel('Agency')\n",
    "plt.show()"
   ]
  },
  {
   "cell_type": "markdown",
   "metadata": {},
   "source": [
    "**Insights and Recommandation**\n",
    "\n",
    "C2B have highest claim rate"
   ]
  },
  {
   "cell_type": "code",
   "execution_count": 17,
   "metadata": {},
   "outputs": [
    {
     "data": {
      "image/png": "[encoded data removed]",
      "text/plain": [
       "<Figure size 720x576 with 1 Axes>"
      ]
     },
     "metadata": {
      "needs_background": "light"
     },
     "output_type": "display_data"
    }
   ],
   "source": [
    "#When no claims\n",
    "plt.figure(figsize=(10,8))\n",
    "unclaim=df_train[df_train['Claim']==0]     # condition when claim is zero\n",
    "unclaim['Agency'].value_counts().sort_values(ascending=False).plot(kind='bar')\n",
    "plt.title('Agency having No claims')\n",
    "plt.xlabel('Agency')\n",
    "plt.show()"
   ]
  },
  {
   "cell_type": "markdown",
   "metadata": {},
   "source": [
    "**Insights and Recommandation**\n",
    "\n",
    "EPX have lowest claim rate"
   ]
  },
  {
   "cell_type": "markdown",
   "metadata": {},
   "source": [
    "## AGENCY VS PRODUCT NAME"
   ]
  },
  {
   "cell_type": "code",
   "execution_count": 18,
   "metadata": {},
   "outputs": [
    {
     "data": {
      "text/plain": [
       "<Figure size 720x576 with 0 Axes>"
      ]
     },
     "metadata": {},
     "output_type": "display_data"
    },
    {
     "data": {
      "image/png": "[encoded data removed]",
      "text/plain": [
       "<Figure size 432x288 with 1 Axes>"
      ]
     },
     "metadata": {
      "needs_background": "light"
     },
     "output_type": "display_data"
    }
   ],
   "source": [
    "#plotting graph with for unclaimed products of an agency from high to low\n",
    "plt.figure(figsize=(10,8))\n",
    "pd.DataFrame(unclaim.groupby(['Agency'])['Product Name'].value_counts().sort_values(ascending=False))[:4].plot(kind='bar')\n",
    "plt.xticks(rotation=35)\n",
    "plt.title('Top4 Unclaimed Plans')\n",
    "plt.show()"
   ]
  },
  {
   "cell_type": "markdown",
   "metadata": {},
   "source": [
    "**Insights and Recommandation**\n",
    "\n",
    "EPX, CWT, JZT AGENCY have zero claim with product name of Cancellation plan, Comprehensive plan, Rental vehicle excess insurance, Basic plan "
   ]
  },
  {
   "cell_type": "code",
   "execution_count": 19,
   "metadata": {},
   "outputs": [
    {
     "data": {
      "text/plain": [
       "<Figure size 720x576 with 0 Axes>"
      ]
     },
     "metadata": {},
     "output_type": "display_data"
    },
    {
     "data": {
      "image/png": "[encoded data removed]",
      "text/plain": [
       "<Figure size 432x288 with 1 Axes>"
      ]
     },
     "metadata": {
      "needs_background": "light"
     },
     "output_type": "display_data"
    }
   ],
   "source": [
    "#plotting graph for EPX when no claims received\n",
    "plt.figure(figsize=(10,8))\n",
    "unclaim_distribution = unclaim[unclaim['Agency']=='EPX']\n",
    "pd.DataFrame(unclaim_distribution.groupby(['Distribution Channel'])['Product Name'].value_counts().sort_values(ascending=False))[:3].plot(kind='bar')\n",
    "plt.xticks(rotation=25)\n",
    "plt.title('Plan Distribution Channel count for EPX')\n",
    "plt.show()"
   ]
  },
  {
   "cell_type": "markdown",
   "metadata": {},
   "source": [
    "By taking no claim agency EPX AND parallely checking with the distribution channel"
   ]
  },
  {
   "cell_type": "code",
   "execution_count": 20,
   "metadata": {},
   "outputs": [
    {
     "data": {
      "text/plain": [
       "<Figure size 720x576 with 0 Axes>"
      ]
     },
     "metadata": {},
     "output_type": "display_data"
    },
    {
     "data": {
      "image/png": "[encoded data removed]",
      "text/plain": [
       "<Figure size 432x288 with 1 Axes>"
      ]
     },
     "metadata": {
      "needs_background": "light"
     },
     "output_type": "display_data"
    }
   ],
   "source": [
    "#plotting top4 Claimed Insurances with Agencies\n",
    "plt.figure(figsize=(10,8))\n",
    "pd.DataFrame(claimed.groupby(['Agency'])['Product Name'].value_counts().sort_values(ascending=False))[:4].plot(kind='bar')\n",
    "plt.xticks(rotation=25)\n",
    "plt.title('Top4 Claimed Insurances with Agencies')\n",
    "plt.show()"
   ]
  },
  {
   "cell_type": "markdown",
   "metadata": {},
   "source": [
    "**Insights and Recommendations Insights**\n",
    "- Unclaimed Mostly unclaimed insurances are from Travel Agencies like EPX and C2B forinsurances such as cancellation plan,2-way Comprehensive Plan and Rental Vehicle Excess. Online insurances like cancellation plan,2-way Comprehensive Plan are mostly unclaimed in EPX Recommendations Unclaimed Such plans should be targeted extensively on OTA as well as on our website extensively. Insights Claimed\n",
    "\n",
    "- C2B has maximum claims registered for Bronze and Annual Silver Plan followed by EPX in 2 way Comprehensive and Silver Plan - Recommendations Claimed\n",
    "\n",
    "- We should increase the premium of these Plans Automate the process with less overhead and overlay"
   ]
  },
  {
   "cell_type": "code",
   "execution_count": 21,
   "metadata": {},
   "outputs": [
    {
     "data": {
      "image/png": "[encoded data removed]",
      "text/plain": [
       "<Figure size 432x288 with 1 Axes>"
      ]
     },
     "metadata": {
      "needs_background": "light"
     },
     "output_type": "display_data"
    }
   ],
   "source": [
    "df_train['Product Name'].value_counts(normalize = True).plot(kind = 'bar')\n",
    "\n",
    "plt.title(\"Product Name in data\")\n",
    "\n",
    "plt.show()"
   ]
  },
  {
   "cell_type": "code",
   "execution_count": 22,
   "metadata": {},
   "outputs": [
    {
     "data": {
      "text/html": [
       "<div>\n",
       "<style scoped>\n",
       "    .dataframe tbody tr th:only-of-type {\n",
       "        vertical-align: middle;\n",
       "    }\n",
       "\n",
       "    .dataframe tbody tr th {\n",
       "        vertical-align: top;\n",
       "    }\n",
       "\n",
       "    .dataframe thead th {\n",
       "        text-align: right;\n",
       "    }\n",
       "</style>\n",
       "<table border=\"1\" class=\"dataframe\">\n",
       "  <thead>\n",
       "    <tr style=\"text-align: right;\">\n",
       "      <th></th>\n",
       "      <th></th>\n",
       "      <th>Claim_percent</th>\n",
       "    </tr>\n",
       "    <tr>\n",
       "      <th>Product Name</th>\n",
       "      <th>Claim</th>\n",
       "      <th></th>\n",
       "    </tr>\n",
       "  </thead>\n",
       "  <tbody>\n",
       "    <tr>\n",
       "      <th rowspan=\"2\" valign=\"top\">1 way Comprehensive Plan</th>\n",
       "      <th>0</th>\n",
       "      <td>97.177252</td>\n",
       "    </tr>\n",
       "    <tr>\n",
       "      <th>1</th>\n",
       "      <td>2.822748</td>\n",
       "    </tr>\n",
       "    <tr>\n",
       "      <th rowspan=\"2\" valign=\"top\">2 way Comprehensive Plan</th>\n",
       "      <th>0</th>\n",
       "      <td>86.196116</td>\n",
       "    </tr>\n",
       "    <tr>\n",
       "      <th>1</th>\n",
       "      <td>13.803884</td>\n",
       "    </tr>\n",
       "    <tr>\n",
       "      <th>24 Protect</th>\n",
       "      <th>0</th>\n",
       "      <td>100.000000</td>\n",
       "    </tr>\n",
       "    <tr>\n",
       "      <th rowspan=\"2\" valign=\"top\">Annual Gold Plan</th>\n",
       "      <th>1</th>\n",
       "      <td>58.305085</td>\n",
       "    </tr>\n",
       "    <tr>\n",
       "      <th>0</th>\n",
       "      <td>41.694915</td>\n",
       "    </tr>\n",
       "    <tr>\n",
       "      <th rowspan=\"2\" valign=\"top\">Annual Silver Plan</th>\n",
       "      <th>1</th>\n",
       "      <td>61.797274</td>\n",
       "    </tr>\n",
       "    <tr>\n",
       "      <th>0</th>\n",
       "      <td>38.202726</td>\n",
       "    </tr>\n",
       "    <tr>\n",
       "      <th rowspan=\"2\" valign=\"top\">Annual Travel Protect Gold</th>\n",
       "      <th>1</th>\n",
       "      <td>65.573770</td>\n",
       "    </tr>\n",
       "    <tr>\n",
       "      <th>0</th>\n",
       "      <td>34.426230</td>\n",
       "    </tr>\n",
       "    <tr>\n",
       "      <th rowspan=\"2\" valign=\"top\">Annual Travel Protect Platinum</th>\n",
       "      <th>0</th>\n",
       "      <td>72.000000</td>\n",
       "    </tr>\n",
       "    <tr>\n",
       "      <th>1</th>\n",
       "      <td>28.000000</td>\n",
       "    </tr>\n",
       "    <tr>\n",
       "      <th rowspan=\"2\" valign=\"top\">Annual Travel Protect Silver</th>\n",
       "      <th>0</th>\n",
       "      <td>66.304348</td>\n",
       "    </tr>\n",
       "    <tr>\n",
       "      <th>1</th>\n",
       "      <td>33.695652</td>\n",
       "    </tr>\n",
       "    <tr>\n",
       "      <th rowspan=\"2\" valign=\"top\">Basic Plan</th>\n",
       "      <th>0</th>\n",
       "      <td>93.913904</td>\n",
       "    </tr>\n",
       "    <tr>\n",
       "      <th>1</th>\n",
       "      <td>6.086096</td>\n",
       "    </tr>\n",
       "    <tr>\n",
       "      <th rowspan=\"2\" valign=\"top\">Bronze Plan</th>\n",
       "      <th>0</th>\n",
       "      <td>57.230574</td>\n",
       "    </tr>\n",
       "    <tr>\n",
       "      <th>1</th>\n",
       "      <td>42.769426</td>\n",
       "    </tr>\n",
       "    <tr>\n",
       "      <th rowspan=\"2\" valign=\"top\">Cancellation Plan</th>\n",
       "      <th>0</th>\n",
       "      <td>97.321563</td>\n",
       "    </tr>\n",
       "    <tr>\n",
       "      <th>1</th>\n",
       "      <td>2.678437</td>\n",
       "    </tr>\n",
       "    <tr>\n",
       "      <th>Child Comprehensive Plan</th>\n",
       "      <th>0</th>\n",
       "      <td>100.000000</td>\n",
       "    </tr>\n",
       "    <tr>\n",
       "      <th rowspan=\"2\" valign=\"top\">Comprehensive Plan</th>\n",
       "      <th>0</th>\n",
       "      <td>95.683453</td>\n",
       "    </tr>\n",
       "    <tr>\n",
       "      <th>1</th>\n",
       "      <td>4.316547</td>\n",
       "    </tr>\n",
       "    <tr>\n",
       "      <th rowspan=\"2\" valign=\"top\">Gold Plan</th>\n",
       "      <th>0</th>\n",
       "      <td>62.368421</td>\n",
       "    </tr>\n",
       "    <tr>\n",
       "      <th>1</th>\n",
       "      <td>37.631579</td>\n",
       "    </tr>\n",
       "    <tr>\n",
       "      <th rowspan=\"2\" valign=\"top\">Individual Comprehensive Plan</th>\n",
       "      <th>0</th>\n",
       "      <td>55.952381</td>\n",
       "    </tr>\n",
       "    <tr>\n",
       "      <th>1</th>\n",
       "      <td>44.047619</td>\n",
       "    </tr>\n",
       "    <tr>\n",
       "      <th rowspan=\"2\" valign=\"top\">Premier Plan</th>\n",
       "      <th>0</th>\n",
       "      <td>98.581560</td>\n",
       "    </tr>\n",
       "    <tr>\n",
       "      <th>1</th>\n",
       "      <td>1.418440</td>\n",
       "    </tr>\n",
       "    <tr>\n",
       "      <th rowspan=\"2\" valign=\"top\">Rental Vehicle Excess Insurance</th>\n",
       "      <th>0</th>\n",
       "      <td>87.553207</td>\n",
       "    </tr>\n",
       "    <tr>\n",
       "      <th>1</th>\n",
       "      <td>12.446793</td>\n",
       "    </tr>\n",
       "    <tr>\n",
       "      <th rowspan=\"2\" valign=\"top\">Silver Plan</th>\n",
       "      <th>0</th>\n",
       "      <td>51.642208</td>\n",
       "    </tr>\n",
       "    <tr>\n",
       "      <th>1</th>\n",
       "      <td>48.357792</td>\n",
       "    </tr>\n",
       "    <tr>\n",
       "      <th rowspan=\"2\" valign=\"top\">Single Trip Travel Protect Gold</th>\n",
       "      <th>0</th>\n",
       "      <td>51.792829</td>\n",
       "    </tr>\n",
       "    <tr>\n",
       "      <th>1</th>\n",
       "      <td>48.207171</td>\n",
       "    </tr>\n",
       "    <tr>\n",
       "      <th rowspan=\"2\" valign=\"top\">Single Trip Travel Protect Platinum</th>\n",
       "      <th>0</th>\n",
       "      <td>50.000000</td>\n",
       "    </tr>\n",
       "    <tr>\n",
       "      <th>1</th>\n",
       "      <td>50.000000</td>\n",
       "    </tr>\n",
       "    <tr>\n",
       "      <th rowspan=\"2\" valign=\"top\">Single Trip Travel Protect Silver</th>\n",
       "      <th>0</th>\n",
       "      <td>87.692308</td>\n",
       "    </tr>\n",
       "    <tr>\n",
       "      <th>1</th>\n",
       "      <td>12.307692</td>\n",
       "    </tr>\n",
       "    <tr>\n",
       "      <th rowspan=\"2\" valign=\"top\">Spouse or Parents Comprehensive Plan</th>\n",
       "      <th>0</th>\n",
       "      <td>91.666667</td>\n",
       "    </tr>\n",
       "    <tr>\n",
       "      <th>1</th>\n",
       "      <td>8.333333</td>\n",
       "    </tr>\n",
       "    <tr>\n",
       "      <th rowspan=\"2\" valign=\"top\">Ticket Protector</th>\n",
       "      <th>0</th>\n",
       "      <td>92.692308</td>\n",
       "    </tr>\n",
       "    <tr>\n",
       "      <th>1</th>\n",
       "      <td>7.307692</td>\n",
       "    </tr>\n",
       "    <tr>\n",
       "      <th rowspan=\"2\" valign=\"top\">Travel Cruise Protect</th>\n",
       "      <th>0</th>\n",
       "      <td>94.670051</td>\n",
       "    </tr>\n",
       "    <tr>\n",
       "      <th>1</th>\n",
       "      <td>5.329949</td>\n",
       "    </tr>\n",
       "    <tr>\n",
       "      <th rowspan=\"2\" valign=\"top\">Value Plan</th>\n",
       "      <th>0</th>\n",
       "      <td>95.206527</td>\n",
       "    </tr>\n",
       "    <tr>\n",
       "      <th>1</th>\n",
       "      <td>4.793473</td>\n",
       "    </tr>\n",
       "  </tbody>\n",
       "</table>\n",
       "</div>"
      ],
      "text/plain": [
       "                                            Claim_percent\n",
       "Product Name                         Claim               \n",
       "1 way Comprehensive Plan             0          97.177252\n",
       "                                     1           2.822748\n",
       "2 way Comprehensive Plan             0          86.196116\n",
       "                                     1          13.803884\n",
       "24 Protect                           0         100.000000\n",
       "Annual Gold Plan                     1          58.305085\n",
       "                                     0          41.694915\n",
       "Annual Silver Plan                   1          61.797274\n",
       "                                     0          38.202726\n",
       "Annual Travel Protect Gold           1          65.573770\n",
       "                                     0          34.426230\n",
       "Annual Travel Protect Platinum       0          72.000000\n",
       "                                     1          28.000000\n",
       "Annual Travel Protect Silver         0          66.304348\n",
       "                                     1          33.695652\n",
       "Basic Plan                           0          93.913904\n",
       "                                     1           6.086096\n",
       "Bronze Plan                          0          57.230574\n",
       "                                     1          42.769426\n",
       "Cancellation Plan                    0          97.321563\n",
       "                                     1           2.678437\n",
       "Child Comprehensive Plan             0         100.000000\n",
       "Comprehensive Plan                   0          95.683453\n",
       "                                     1           4.316547\n",
       "Gold Plan                            0          62.368421\n",
       "                                     1          37.631579\n",
       "Individual Comprehensive Plan        0          55.952381\n",
       "                                     1          44.047619\n",
       "Premier Plan                         0          98.581560\n",
       "                                     1           1.418440\n",
       "Rental Vehicle Excess Insurance      0          87.553207\n",
       "                                     1          12.446793\n",
       "Silver Plan                          0          51.642208\n",
       "                                     1          48.357792\n",
       "Single Trip Travel Protect Gold      0          51.792829\n",
       "                                     1          48.207171\n",
       "Single Trip Travel Protect Platinum  0          50.000000\n",
       "                                     1          50.000000\n",
       "Single Trip Travel Protect Silver    0          87.692308\n",
       "                                     1          12.307692\n",
       "Spouse or Parents Comprehensive Plan 0          91.666667\n",
       "                                     1           8.333333\n",
       "Ticket Protector                     0          92.692308\n",
       "                                     1           7.307692\n",
       "Travel Cruise Protect                0          94.670051\n",
       "                                     1           5.329949\n",
       "Value Plan                           0          95.206527\n",
       "                                     1           4.793473"
      ]
     },
     "execution_count": 22,
     "metadata": {},
     "output_type": "execute_result"
    },
    {
     "data": {
      "text/plain": [
       "<Figure size 720x576 with 0 Axes>"
      ]
     },
     "metadata": {},
     "output_type": "display_data"
    }
   ],
   "source": [
    "plt.figure(figsize=(10,8))\n",
    "#Product Name with claims count and percentage\n",
    "pc_counts = pd.DataFrame(df_train.groupby([\"Product Name\"])[\"Claim\"].value_counts())\n",
    "pc_percent = pd.DataFrame(df_train.groupby([\"Product Name\"])[\"Claim\"].value_counts(normalize=True)*100)\n",
    "pc_counts.columns = ['Claim_counts']\n",
    "pc_percent.columns = ['Claim_percent']\n",
    "pc_percent"
   ]
  },
  {
   "cell_type": "code",
   "execution_count": 23,
   "metadata": {},
   "outputs": [],
   "source": [
    "pc_percent_ri = pc_percent.copy()\n",
    "pc_percent_ri.reset_index(inplace=True) # resetting index\n",
    "pc_counts_ri = pc_counts.copy()\n",
    "pc_counts_ri.reset_index(inplace=True)"
   ]
  },
  {
   "cell_type": "code",
   "execution_count": 24,
   "metadata": {},
   "outputs": [
    {
     "data": {
      "image/png": "[encoded data removed]",
      "text/plain": [
       "<Figure size 576x576 with 1 Axes>"
      ]
     },
     "metadata": {
      "needs_background": "light"
     },
     "output_type": "display_data"
    }
   ],
   "source": [
    "#plotting for Top 10 UnClaimed Insurances\n",
    "\n",
    "top10_products_c0=pc_percent_ri[pc_percent_ri['Claim']==0].sort_values(by='Claim_percent',ascending =False)[:10]\n",
    "top10_products_c0 = top10_products_c0.sort_values('Claim_percent')\n",
    "\n",
    "\n",
    "ax = top10_products_c0.drop('Claim',axis=1).set_index('Product Name').plot(kind='barh',figsize=(8,8))\n",
    "plt.title('Top 10 UnClaimed Insurances',fontdict={'fontsize':14})\n",
    "plt.xlabel('Percentage of Claims')\n",
    "plt.legend(loc = 'lower right')\n",
    "plt.xlim((0,130))\n",
    "    \n",
    "plt.show()"
   ]
  },
  {
   "cell_type": "markdown",
   "metadata": {},
   "source": [
    "**Insights**\n",
    "\n",
    "Checked for unclaimed product name - child comprehensive plan, 24 protest...\n",
    "and all the top 10 are unclaimed with percentage of more then 90"
   ]
  },
  {
   "cell_type": "code",
   "execution_count": 25,
   "metadata": {},
   "outputs": [
    {
     "data": {
      "image/png": "[encoded data removed]",
      "text/plain": [
       "<Figure size 576x576 with 1 Axes>"
      ]
     },
     "metadata": {
      "needs_background": "light"
     },
     "output_type": "display_data"
    }
   ],
   "source": [
    "#Plotting for Top10 Claimed Insurances\n",
    "top10_products_c1 = pc_percent_ri[pc_percent_ri['Claim']==1].sort_values(by='Claim_percent',ascending=False)[:10]\n",
    "top10_products_c1 = top10_products_c1.sort_values('Claim_percent')\n",
    "\n",
    "ax = top10_products_c1.drop('Claim',axis=1).set_index('Product Name').plot(kind='barh',figsize=(8,8))\n",
    "plt.title('Top10 Claimed Insurances',fontdict={'fontsize':14})\n",
    "plt.xlabel('Percentage of Claims')\n",
    "plt.legend(['Claims Registered'])\n",
    "plt.xlim((0,75))\n",
    "\n",
    "plt.show()"
   ]
  },
  {
   "cell_type": "markdown",
   "metadata": {},
   "source": [
    "**Insights and recommendations -Insights**\n",
    "\n",
    "- Top 10 unclaimed insurances are more than 97% times unclaimed.\n",
    "- Annual Gold, Silver and Travel protect Gold plan are claimed more than 50% -Recommendations\n",
    "\n",
    "- Premiums of Annual Plans can be increased"
   ]
  },
  {
   "cell_type": "markdown",
   "metadata": {},
   "source": [
    "## Net Sale vs Product Name"
   ]
  },
  {
   "cell_type": "code",
   "execution_count": 26,
   "metadata": {},
   "outputs": [
    {
     "data": {
      "text/plain": [
       "Text(0.5, 1.0, 'PN VS NS[BOX PLOT] ')"
      ]
     },
     "execution_count": 26,
     "metadata": {},
     "output_type": "execute_result"
    },
    {
     "data": {
      "image/png": "[encoded data removed]",
      "text/plain": [
       "<Figure size 720x720 with 1 Axes>"
      ]
     },
     "metadata": {
      "needs_background": "light"
     },
     "output_type": "display_data"
    }
   ],
   "source": [
    "cat = sns.catplot(x='Product Name', y='Net Sales', data=df_train, kind='box', height=10)\n",
    "cat.set_xticklabels(rotation=90)\n",
    "plt.title('PN VS NS[BOX PLOT] ', size = 20)"
   ]
  },
  {
   "cell_type": "code",
   "execution_count": 27,
   "metadata": {},
   "outputs": [
    {
     "data": {
      "image/png": "[encoded data removed]",
      "text/plain": [
       "<Figure size 576x432 with 1 Axes>"
      ]
     },
     "metadata": {
      "needs_background": "light"
     },
     "output_type": "display_data"
    }
   ],
   "source": [
    "#top 5 products by mean of net sales ---- FINAL\n",
    "\n",
    "net_sales_top5_mean = df_train.groupby([\"Product Name\"])[[\"Net Sales\"]].mean().sort_values(\"Net Sales\", ascending = False).iloc[:5]\n",
    "\n",
    "#plotting top 5 products by mean of net sales\n",
    "\n",
    "ax = net_sales_top5_mean.sort_values('Net Sales',ascending=True).plot(kind='barh',figsize=(8,6))\n",
    "plt.title('Top 5 Products with highest Average Revenue',fontdict={'fontsize':14})\n",
    "plt.xlabel('Revenue')\n",
    "plt.ylabel('Product Name')\n",
    "plt.legend(['Average Revenue'])\n",
    "plt.xlim((0,400))\n",
    "\n",
    "plt.show()"
   ]
  },
  {
   "cell_type": "markdown",
   "metadata": {},
   "source": [
    "**Insights**\n",
    "\n",
    "- Average Net Sales for Annul Gold Plan is highes"
   ]
  },
  {
   "cell_type": "code",
   "execution_count": 28,
   "metadata": {},
   "outputs": [
    {
     "data": {
      "image/png": "[encoded data removed]",
      "text/plain": [
       "<Figure size 576x432 with 1 Axes>"
      ]
     },
     "metadata": {
      "needs_background": "light"
     },
     "output_type": "display_data"
    }
   ],
   "source": [
    "#top 5 products by sum of net sales\n",
    "\n",
    "net_sales_top5_sum = df_train.groupby([\"Product Name\"])[[\"Net Sales\"]].sum().sort_values(\"Net Sales\", ascending = False).iloc[:5]\n",
    "net_sales_top5_sum\n",
    "\n",
    "#plotting top 5 products by sum of net sales\n",
    "net_sales_top5_sum.sort_values('Net Sales',ascending=True).plot(kind='barh',figsize=(8,6))\n",
    "plt.title('Top 5 Products with highest Total Revenue',fontdict={'fontsize':14})\n",
    "plt.xlabel('Revenue')\n",
    "plt.ylabel('Product Name')\n",
    "plt.legend(['Total Revenue'])\n",
    "\n",
    "plt.show()"
   ]
  },
  {
   "cell_type": "code",
   "execution_count": 29,
   "metadata": {},
   "outputs": [
    {
     "data": {
      "text/html": [
       "<div>\n",
       "<style scoped>\n",
       "    .dataframe tbody tr th:only-of-type {\n",
       "        vertical-align: middle;\n",
       "    }\n",
       "\n",
       "    .dataframe tbody tr th {\n",
       "        vertical-align: top;\n",
       "    }\n",
       "\n",
       "    .dataframe thead th {\n",
       "        text-align: right;\n",
       "    }\n",
       "</style>\n",
       "<table border=\"1\" class=\"dataframe\">\n",
       "  <thead>\n",
       "    <tr style=\"text-align: right;\">\n",
       "      <th></th>\n",
       "      <th>Commision (in value)</th>\n",
       "    </tr>\n",
       "    <tr>\n",
       "      <th>Product Name</th>\n",
       "      <th></th>\n",
       "    </tr>\n",
       "  </thead>\n",
       "  <tbody>\n",
       "    <tr>\n",
       "      <th>Annual Travel Protect Platinum</th>\n",
       "      <td>215.064490</td>\n",
       "    </tr>\n",
       "    <tr>\n",
       "      <th>Annual Travel Protect Gold</th>\n",
       "      <td>168.162634</td>\n",
       "    </tr>\n",
       "    <tr>\n",
       "      <th>Annual Travel Protect Silver</th>\n",
       "      <td>133.677591</td>\n",
       "    </tr>\n",
       "    <tr>\n",
       "      <th>Annual Gold Plan</th>\n",
       "      <td>91.491629</td>\n",
       "    </tr>\n",
       "    <tr>\n",
       "      <th>Annual Silver Plan</th>\n",
       "      <td>57.291729</td>\n",
       "    </tr>\n",
       "  </tbody>\n",
       "</table>\n",
       "</div>"
      ],
      "text/plain": [
       "                                Commision (in value)\n",
       "Product Name                                        \n",
       "Annual Travel Protect Platinum            215.064490\n",
       "Annual Travel Protect Gold                168.162634\n",
       "Annual Travel Protect Silver              133.677591\n",
       "Annual Gold Plan                           91.491629\n",
       "Annual Silver Plan                         57.291729"
      ]
     },
     "execution_count": 29,
     "metadata": {},
     "output_type": "execute_result"
    }
   ],
   "source": [
    "# Average commision for top 5 products\n",
    "comm_top5_mean = df_train.groupby([\"Product Name\",])[[\"Commision (in value)\"]].mean().sort_values(\"Commision (in value)\",ascending=False)[:5]\n",
    "comm_top5_mean"
   ]
  },
  {
   "cell_type": "code",
   "execution_count": 30,
   "metadata": {},
   "outputs": [
    {
     "data": {
      "image/png": "[encoded data removed]",
      "text/plain": [
       "<Figure size 576x432 with 1 Axes>"
      ]
     },
     "metadata": {
      "needs_background": "light"
     },
     "output_type": "display_data"
    }
   ],
   "source": [
    "# Plotting for Average commision for top 5 products --FINAL\n",
    "\n",
    "comm_top5_mean.sort_values('Commision (in value)',ascending=True).plot(kind='barh',figsize=(8,6))\n",
    "plt.title('Top 5 Products with highest Average Commision',fontdict={'fontsize':14})\n",
    "plt.xlabel('Commision')\n",
    "plt.ylabel('Product Name')\n",
    "plt.legend(['Average Commision'])\n",
    "plt.show()"
   ]
  },
  {
   "cell_type": "code",
   "execution_count": 31,
   "metadata": {},
   "outputs": [
    {
     "data": {
      "image/png": "[encoded data removed]",
      "text/plain": [
       "<Figure size 576x432 with 1 Axes>"
      ]
     },
     "metadata": {
      "needs_background": "light"
     },
     "output_type": "display_data"
    }
   ],
   "source": [
    "# Plotting for Average commision for top 5 products --FINAL\n",
    "\n",
    "comm_top5_mean.sort_values('Commision (in value)',ascending=True).plot(kind='barh',figsize=(8,6))\n",
    "plt.title('Top 5 Products with highest Average Commision',fontdict={'fontsize':14})\n",
    "plt.xlabel('Commision')\n",
    "plt.ylabel('Product Name')\n",
    "plt.legend(['Average Commision'])\n",
    "plt.show()"
   ]
  },
  {
   "cell_type": "code",
   "execution_count": 32,
   "metadata": {},
   "outputs": [
    {
     "data": {
      "image/png": "[encoded data removed]",
      "text/plain": [
       "<Figure size 576x432 with 1 Axes>"
      ]
     },
     "metadata": {
      "needs_background": "light"
     },
     "output_type": "display_data"
    }
   ],
   "source": [
    "# Plotting for Total commision for top 5 products\n",
    "comm_top5_sum = df_train.groupby([\"Product Name\",])[[\"Commision (in value)\"]].sum().sort_values(\"Commision (in value)\",ascending=False)[:5]\n",
    "\n",
    "comm_top5_sum.sort_values('Commision (in value)',ascending=True).plot(kind='barh',figsize=(8,6))\n",
    "plt.title('Top 5 Products with highest Total Commision',fontdict={'fontsize':14})\n",
    "plt.xlabel('Commision')\n",
    "plt.ylabel('Product Name')\n",
    "plt.legend(['Total Commision'])\n",
    "plt.show()"
   ]
  },
  {
   "cell_type": "markdown",
   "metadata": {},
   "source": [
    "**Insights**\n",
    "\n",
    "- Annual Travel Protect Platinum commision has highest average commission.\n",
    "- Rental Vehicle Excess Insurance has overall highest commission"
   ]
  },
  {
   "cell_type": "code",
   "execution_count": 33,
   "metadata": {},
   "outputs": [
    {
     "data": {
      "text/html": [
       "<div>\n",
       "<style scoped>\n",
       "    .dataframe tbody tr th:only-of-type {\n",
       "        vertical-align: middle;\n",
       "    }\n",
       "\n",
       "    .dataframe tbody tr th {\n",
       "        vertical-align: top;\n",
       "    }\n",
       "\n",
       "    .dataframe thead tr th {\n",
       "        text-align: left;\n",
       "    }\n",
       "\n",
       "    .dataframe thead tr:last-of-type th {\n",
       "        text-align: right;\n",
       "    }\n",
       "</style>\n",
       "<table border=\"1\" class=\"dataframe\">\n",
       "  <thead>\n",
       "    <tr>\n",
       "      <th></th>\n",
       "      <th colspan=\"3\" halign=\"left\">Net Sales</th>\n",
       "      <th colspan=\"3\" halign=\"left\">Commision (in value)</th>\n",
       "    </tr>\n",
       "    <tr>\n",
       "      <th></th>\n",
       "      <th>count</th>\n",
       "      <th>sum</th>\n",
       "      <th>mean</th>\n",
       "      <th>count</th>\n",
       "      <th>sum</th>\n",
       "      <th>mean</th>\n",
       "    </tr>\n",
       "    <tr>\n",
       "      <th>Product Name</th>\n",
       "      <th></th>\n",
       "      <th></th>\n",
       "      <th></th>\n",
       "      <th></th>\n",
       "      <th></th>\n",
       "      <th></th>\n",
       "    </tr>\n",
       "  </thead>\n",
       "  <tbody>\n",
       "    <tr>\n",
       "      <th>1 way Comprehensive Plan</th>\n",
       "      <td>2409</td>\n",
       "      <td>66253.347009</td>\n",
       "      <td>27.502427</td>\n",
       "      <td>2409</td>\n",
       "      <td>43.493052</td>\n",
       "      <td>0.018054</td>\n",
       "    </tr>\n",
       "    <tr>\n",
       "      <th>2 way Comprehensive Plan</th>\n",
       "      <td>10555</td>\n",
       "      <td>463068.162004</td>\n",
       "      <td>43.871924</td>\n",
       "      <td>10555</td>\n",
       "      <td>278.217247</td>\n",
       "      <td>0.026359</td>\n",
       "    </tr>\n",
       "    <tr>\n",
       "      <th>24 Protect</th>\n",
       "      <td>165</td>\n",
       "      <td>3389.160000</td>\n",
       "      <td>20.540364</td>\n",
       "      <td>165</td>\n",
       "      <td>1258.490000</td>\n",
       "      <td>7.627212</td>\n",
       "    </tr>\n",
       "    <tr>\n",
       "      <th>Annual Gold Plan</th>\n",
       "      <td>295</td>\n",
       "      <td>105211.774342</td>\n",
       "      <td>356.650083</td>\n",
       "      <td>295</td>\n",
       "      <td>26990.030566</td>\n",
       "      <td>91.491629</td>\n",
       "    </tr>\n",
       "    <tr>\n",
       "      <th>Annual Silver Plan</th>\n",
       "      <td>2348</td>\n",
       "      <td>529705.614727</td>\n",
       "      <td>225.598643</td>\n",
       "      <td>2348</td>\n",
       "      <td>134520.980472</td>\n",
       "      <td>57.291729</td>\n",
       "    </tr>\n",
       "    <tr>\n",
       "      <th>Annual Travel Protect Gold</th>\n",
       "      <td>183</td>\n",
       "      <td>47344.266627</td>\n",
       "      <td>258.711839</td>\n",
       "      <td>183</td>\n",
       "      <td>30773.761967</td>\n",
       "      <td>168.162634</td>\n",
       "    </tr>\n",
       "    <tr>\n",
       "      <th>Annual Travel Protect Platinum</th>\n",
       "      <td>50</td>\n",
       "      <td>16543.457956</td>\n",
       "      <td>330.869159</td>\n",
       "      <td>50</td>\n",
       "      <td>10753.224492</td>\n",
       "      <td>215.064490</td>\n",
       "    </tr>\n",
       "    <tr>\n",
       "      <th>Annual Travel Protect Silver</th>\n",
       "      <td>92</td>\n",
       "      <td>18155.612821</td>\n",
       "      <td>197.343618</td>\n",
       "      <td>92</td>\n",
       "      <td>12298.338334</td>\n",
       "      <td>133.677591</td>\n",
       "    </tr>\n",
       "    <tr>\n",
       "      <th>Basic Plan</th>\n",
       "      <td>4042</td>\n",
       "      <td>107291.844272</td>\n",
       "      <td>26.544246</td>\n",
       "      <td>4042</td>\n",
       "      <td>38768.280844</td>\n",
       "      <td>9.591361</td>\n",
       "    </tr>\n",
       "    <tr>\n",
       "      <th>Bronze Plan</th>\n",
       "      <td>4723</td>\n",
       "      <td>166163.651473</td>\n",
       "      <td>35.181802</td>\n",
       "      <td>4723</td>\n",
       "      <td>42748.012172</td>\n",
       "      <td>9.051029</td>\n",
       "    </tr>\n",
       "    <tr>\n",
       "      <th>Cancellation Plan</th>\n",
       "      <td>13254</td>\n",
       "      <td>348623.765841</td>\n",
       "      <td>26.303287</td>\n",
       "      <td>13254</td>\n",
       "      <td>98.026259</td>\n",
       "      <td>0.007396</td>\n",
       "    </tr>\n",
       "    <tr>\n",
       "      <th>Child Comprehensive Plan</th>\n",
       "      <td>8</td>\n",
       "      <td>592.000000</td>\n",
       "      <td>74.000000</td>\n",
       "      <td>8</td>\n",
       "      <td>0.000000</td>\n",
       "      <td>0.000000</td>\n",
       "    </tr>\n",
       "    <tr>\n",
       "      <th>Comprehensive Plan</th>\n",
       "      <td>278</td>\n",
       "      <td>7975.964633</td>\n",
       "      <td>28.690520</td>\n",
       "      <td>278</td>\n",
       "      <td>2769.423650</td>\n",
       "      <td>9.961956</td>\n",
       "    </tr>\n",
       "    <tr>\n",
       "      <th>Gold Plan</th>\n",
       "      <td>380</td>\n",
       "      <td>28692.242098</td>\n",
       "      <td>75.505900</td>\n",
       "      <td>380</td>\n",
       "      <td>7680.681303</td>\n",
       "      <td>20.212319</td>\n",
       "    </tr>\n",
       "    <tr>\n",
       "      <th>Individual Comprehensive Plan</th>\n",
       "      <td>84</td>\n",
       "      <td>8300.837787</td>\n",
       "      <td>98.819497</td>\n",
       "      <td>84</td>\n",
       "      <td>187.382477</td>\n",
       "      <td>2.230744</td>\n",
       "    </tr>\n",
       "    <tr>\n",
       "      <th>Premier Plan</th>\n",
       "      <td>141</td>\n",
       "      <td>8931.000000</td>\n",
       "      <td>63.340426</td>\n",
       "      <td>141</td>\n",
       "      <td>4131.510000</td>\n",
       "      <td>29.301489</td>\n",
       "    </tr>\n",
       "    <tr>\n",
       "      <th>Rental Vehicle Excess Insurance</th>\n",
       "      <td>6813</td>\n",
       "      <td>314100.060080</td>\n",
       "      <td>46.103047</td>\n",
       "      <td>6813</td>\n",
       "      <td>227852.793835</td>\n",
       "      <td>33.443827</td>\n",
       "    </tr>\n",
       "    <tr>\n",
       "      <th>Silver Plan</th>\n",
       "      <td>2862</td>\n",
       "      <td>170003.076877</td>\n",
       "      <td>59.400097</td>\n",
       "      <td>2862</td>\n",
       "      <td>43360.453712</td>\n",
       "      <td>15.150403</td>\n",
       "    </tr>\n",
       "    <tr>\n",
       "      <th>Single Trip Travel Protect Gold</th>\n",
       "      <td>251</td>\n",
       "      <td>9524.137237</td>\n",
       "      <td>37.944770</td>\n",
       "      <td>251</td>\n",
       "      <td>6467.598268</td>\n",
       "      <td>25.767324</td>\n",
       "    </tr>\n",
       "    <tr>\n",
       "      <th>Single Trip Travel Protect Platinum</th>\n",
       "      <td>100</td>\n",
       "      <td>4659.139792</td>\n",
       "      <td>46.591398</td>\n",
       "      <td>100</td>\n",
       "      <td>3091.059272</td>\n",
       "      <td>30.910593</td>\n",
       "    </tr>\n",
       "    <tr>\n",
       "      <th>Single Trip Travel Protect Silver</th>\n",
       "      <td>130</td>\n",
       "      <td>4467.957908</td>\n",
       "      <td>34.368907</td>\n",
       "      <td>130</td>\n",
       "      <td>3025.380965</td>\n",
       "      <td>23.272161</td>\n",
       "    </tr>\n",
       "    <tr>\n",
       "      <th>Spouse or Parents Comprehensive Plan</th>\n",
       "      <td>12</td>\n",
       "      <td>1032.000000</td>\n",
       "      <td>86.000000</td>\n",
       "      <td>12</td>\n",
       "      <td>0.000000</td>\n",
       "      <td>0.000000</td>\n",
       "    </tr>\n",
       "    <tr>\n",
       "      <th>Ticket Protector</th>\n",
       "      <td>780</td>\n",
       "      <td>5134.452045</td>\n",
       "      <td>6.582631</td>\n",
       "      <td>780</td>\n",
       "      <td>1438.936351</td>\n",
       "      <td>1.844790</td>\n",
       "    </tr>\n",
       "    <tr>\n",
       "      <th>Travel Cruise Protect</th>\n",
       "      <td>394</td>\n",
       "      <td>11532.729697</td>\n",
       "      <td>29.270888</td>\n",
       "      <td>394</td>\n",
       "      <td>4138.050609</td>\n",
       "      <td>10.502667</td>\n",
       "    </tr>\n",
       "    <tr>\n",
       "      <th>Value Plan</th>\n",
       "      <td>1961</td>\n",
       "      <td>93198.693267</td>\n",
       "      <td>47.526106</td>\n",
       "      <td>1961</td>\n",
       "      <td>36552.153132</td>\n",
       "      <td>18.639548</td>\n",
       "    </tr>\n",
       "  </tbody>\n",
       "</table>\n",
       "</div>"
      ],
      "text/plain": [
       "                                     Net Sales                             \\\n",
       "                                         count            sum        mean   \n",
       "Product Name                                                                \n",
       "1 way Comprehensive Plan                  2409   66253.347009   27.502427   \n",
       "2 way Comprehensive Plan                 10555  463068.162004   43.871924   \n",
       "24 Protect                                 165    3389.160000   20.540364   \n",
       "Annual Gold Plan                           295  105211.774342  356.650083   \n",
       "Annual Silver Plan                        2348  529705.614727  225.598643   \n",
       "Annual Travel Protect Gold                 183   47344.266627  258.711839   \n",
       "Annual Travel Protect Platinum              50   16543.457956  330.869159   \n",
       "Annual Travel Protect Silver                92   18155.612821  197.343618   \n",
       "Basic Plan                                4042  107291.844272   26.544246   \n",
       "Bronze Plan                               4723  166163.651473   35.181802   \n",
       "Cancellation Plan                        13254  348623.765841   26.303287   \n",
       "Child Comprehensive Plan                     8     592.000000   74.000000   \n",
       "Comprehensive Plan                         278    7975.964633   28.690520   \n",
       "Gold Plan                                  380   28692.242098   75.505900   \n",
       "Individual Comprehensive Plan               84    8300.837787   98.819497   \n",
       "Premier Plan                               141    8931.000000   63.340426   \n",
       "Rental Vehicle Excess Insurance           6813  314100.060080   46.103047   \n",
       "Silver Plan                               2862  170003.076877   59.400097   \n",
       "Single Trip Travel Protect Gold            251    9524.137237   37.944770   \n",
       "Single Trip Travel Protect Platinum        100    4659.139792   46.591398   \n",
       "Single Trip Travel Protect Silver          130    4467.957908   34.368907   \n",
       "Spouse or Parents Comprehensive Plan        12    1032.000000   86.000000   \n",
       "Ticket Protector                           780    5134.452045    6.582631   \n",
       "Travel Cruise Protect                      394   11532.729697   29.270888   \n",
       "Value Plan                                1961   93198.693267   47.526106   \n",
       "\n",
       "                                     Commision (in value)                 \\\n",
       "                                                    count            sum   \n",
       "Product Name                                                               \n",
       "1 way Comprehensive Plan                             2409      43.493052   \n",
       "2 way Comprehensive Plan                            10555     278.217247   \n",
       "24 Protect                                            165    1258.490000   \n",
       "Annual Gold Plan                                      295   26990.030566   \n",
       "Annual Silver Plan                                   2348  134520.980472   \n",
       "Annual Travel Protect Gold                            183   30773.761967   \n",
       "Annual Travel Protect Platinum                         50   10753.224492   \n",
       "Annual Travel Protect Silver                           92   12298.338334   \n",
       "Basic Plan                                           4042   38768.280844   \n",
       "Bronze Plan                                          4723   42748.012172   \n",
       "Cancellation Plan                                   13254      98.026259   \n",
       "Child Comprehensive Plan                                8       0.000000   \n",
       "Comprehensive Plan                                    278    2769.423650   \n",
       "Gold Plan                                             380    7680.681303   \n",
       "Individual Comprehensive Plan                          84     187.382477   \n",
       "Premier Plan                                          141    4131.510000   \n",
       "Rental Vehicle Excess Insurance                      6813  227852.793835   \n",
       "Silver Plan                                          2862   43360.453712   \n",
       "Single Trip Travel Protect Gold                       251    6467.598268   \n",
       "Single Trip Travel Protect Platinum                   100    3091.059272   \n",
       "Single Trip Travel Protect Silver                     130    3025.380965   \n",
       "Spouse or Parents Comprehensive Plan                   12       0.000000   \n",
       "Ticket Protector                                      780    1438.936351   \n",
       "Travel Cruise Protect                                 394    4138.050609   \n",
       "Value Plan                                           1961   36552.153132   \n",
       "\n",
       "                                                  \n",
       "                                            mean  \n",
       "Product Name                                      \n",
       "1 way Comprehensive Plan                0.018054  \n",
       "2 way Comprehensive Plan                0.026359  \n",
       "24 Protect                              7.627212  \n",
       "Annual Gold Plan                       91.491629  \n",
       "Annual Silver Plan                     57.291729  \n",
       "Annual Travel Protect Gold            168.162634  \n",
       "Annual Travel Protect Platinum        215.064490  \n",
       "Annual Travel Protect Silver          133.677591  \n",
       "Basic Plan                              9.591361  \n",
       "Bronze Plan                             9.051029  \n",
       "Cancellation Plan                       0.007396  \n",
       "Child Comprehensive Plan                0.000000  \n",
       "Comprehensive Plan                      9.961956  \n",
       "Gold Plan                              20.212319  \n",
       "Individual Comprehensive Plan           2.230744  \n",
       "Premier Plan                           29.301489  \n",
       "Rental Vehicle Excess Insurance        33.443827  \n",
       "Silver Plan                            15.150403  \n",
       "Single Trip Travel Protect Gold        25.767324  \n",
       "Single Trip Travel Protect Platinum    30.910593  \n",
       "Single Trip Travel Protect Silver      23.272161  \n",
       "Spouse or Parents Comprehensive Plan    0.000000  \n",
       "Ticket Protector                        1.844790  \n",
       "Travel Cruise Protect                  10.502667  \n",
       "Value Plan                             18.639548  "
      ]
     },
     "execution_count": 33,
     "metadata": {},
     "output_type": "execute_result"
    }
   ],
   "source": [
    "df_train.groupby([\"Product Name\"])[['Net Sales',\"Commision (in value)\"]].agg([\"count\",\"sum\",\"mean\"])"
   ]
  },
  {
   "cell_type": "code",
   "execution_count": 34,
   "metadata": {},
   "outputs": [
    {
     "data": {
      "image/png": "[encoded data removed]",
      "text/plain": [
       "<Figure size 432x288 with 1 Axes>"
      ]
     },
     "metadata": {
      "needs_background": "light"
     },
     "output_type": "display_data"
    }
   ],
   "source": [
    "# As there are values less than 0 value\n",
    "\n",
    "df_train[df_train['Net Sales']<0].plot.scatter(x='Net Sales', y='Commision (in value)')\n",
    "plt.title('Commision when Net Sales < 0 ')\n",
    "plt.show()"
   ]
  },
  {
   "cell_type": "code",
   "execution_count": 35,
   "metadata": {},
   "outputs": [
    {
     "data": {
      "image/png": "[encoded data removed]",
      "text/plain": [
       "<Figure size 432x288 with 1 Axes>"
      ]
     },
     "metadata": {
      "needs_background": "light"
     },
     "output_type": "display_data"
    }
   ],
   "source": [
    "# Net sale Values that are higher than 0 values\n",
    "df_train[df_train['Net Sales']>0].plot.scatter(x='Net Sales', y='Commision (in value)')\n",
    "plt.title('Commision when Net Sales > 0 ')\n",
    "plt.show()"
   ]
  },
  {
   "cell_type": "code",
   "execution_count": 36,
   "metadata": {},
   "outputs": [
    {
     "data": {
      "image/png": "[encoded data removed]",
      "text/plain": [
       "<Figure size 432x288 with 1 Axes>"
      ]
     },
     "metadata": {
      "needs_background": "light"
     },
     "output_type": "display_data"
    }
   ],
   "source": [
    "# Net sales that are equal to 0\n",
    "df_train[df_train['Net Sales']==0].plot.scatter(x='Net Sales', y='Commision (in value)')\n",
    "plt.title('Commision when Net Sales = 0 ')\n",
    "plt.show()"
   ]
  },
  {
   "cell_type": "code",
   "execution_count": 37,
   "metadata": {},
   "outputs": [
    {
     "data": {
      "text/plain": [
       "array([[<AxesSubplot:title={'center':'Duration'}>,\n",
       "        <AxesSubplot:title={'center':'Net Sales'}>],\n",
       "       [<AxesSubplot:title={'center':'Commision (in value)'}>,\n",
       "        <AxesSubplot:title={'center':'Age'}>]], dtype=object)"
      ]
     },
     "execution_count": 37,
     "metadata": {},
     "output_type": "execute_result"
    },
    {
     "data": {
      "image/png": "[encoded data removed]",
      "text/plain": [
       "<Figure size 576x576 with 4 Axes>"
      ]
     },
     "metadata": {
      "needs_background": "light"
     },
     "output_type": "display_data"
    }
   ],
   "source": [
    "# Corr between attributes\n",
    "df_train[['Duration', 'Net Sales', 'Commision (in value)', 'Age']].\\\n",
    "hist(edgecolor='red', linewidth=1.5, figsize=(8, 8))"
   ]
  },
  {
   "cell_type": "markdown",
   "metadata": {},
   "source": [
    "## Destination Analysis"
   ]
  },
  {
   "cell_type": "code",
   "execution_count": 38,
   "metadata": {},
   "outputs": [
    {
     "data": {
      "image/png": "[encoded data removed]",
      "text/plain": [
       "<Figure size 576x432 with 1 Axes>"
      ]
     },
     "metadata": {
      "needs_background": "light"
     },
     "output_type": "display_data"
    }
   ],
   "source": [
    "# Destination \n",
    "top_5_dest = df_train['Destination'].value_counts()[:5]\n",
    "\n",
    "top_5_dest.plot.bar(figsize=(8,6))\n",
    "plt.xlabel(\"Destination\")\n",
    "plt.ylim((0,16000))\n",
    "plt.ylabel(\"Counts\")\n",
    "plt.title('Top 5 Desinations',fontdict={'fontsize':14})\n",
    "plt.xticks(rotation='horizontal')\n",
    "plt.show()"
   ]
  },
  {
   "cell_type": "markdown",
   "metadata": {},
   "source": [
    "**Agency vs Destination**"
   ]
  },
  {
   "cell_type": "code",
   "execution_count": 39,
   "metadata": {},
   "outputs": [
    {
     "data": {
      "image/png": "[encoded data removed]",
      "text/plain": [
       "<Figure size 576x432 with 1 Axes>"
      ]
     },
     "metadata": {
      "needs_background": "light"
     },
     "output_type": "display_data"
    }
   ],
   "source": [
    "top_country = df_train[df_train['Destination']=='SINGAPORE']\n",
    "plt.figure(figsize=(8,6))\n",
    "sns.countplot('Agency', data=top_country, hue='Claim')\n",
    "plt.title('Agency wise claim for Singapore')\n",
    "plt.show()"
   ]
  },
  {
   "cell_type": "code",
   "execution_count": 40,
   "metadata": {},
   "outputs": [
    {
     "data": {
      "image/png": "[encoded data removed]",
      "text/plain": [
       "<Figure size 576x432 with 1 Axes>"
      ]
     },
     "metadata": {
      "needs_background": "light"
     },
     "output_type": "display_data"
    }
   ],
   "source": [
    "#Final\n",
    "top_dest = df_train[(df_train['Destination'] == 'SINGAPORE')|\n",
    "                 (df_train['Destination'] == 'THAILAND')|\n",
    "                 (df_train['Destination'] == 'MALAYSIA')|\n",
    "                 (df_train['Destination'] == 'CHINA') |\n",
    "                 (df_train['Destination'] == 'AUSTRALIA')]\n",
    "top_dest_claim = top_dest.groupby([\"Destination\",\"Claim\"])[[\"Claim\"]].count()/top_dest.groupby([\"Destination\"])[[\"Claim\"]].count()*100\n",
    "ax = top_dest_claim.unstack().plot.bar(figsize=(8,6))\n",
    "plt.title('Top 5 Destinations with highest Claim Rate',fontdict={'fontsize':14})\n",
    "plt.legend(['Claim: Unregistered','Claim: Registered'],bbox_to_anchor=(1,1))\n",
    "plt.xticks(rotation='horizontal')\n",
    "\n",
    "plt.show()"
   ]
  },
  {
   "cell_type": "markdown",
   "metadata": {},
   "source": [
    "**Insights**\n",
    "\n",
    "We found the highest travel destination with Singapore ....\n",
    "Taking top country singlore with checking with agency attribute as we found that C2B is the hightest claimed agency\n",
    "After this we checked with highest destination claim , we found that the singlore is highest claimed"
   ]
  },
  {
   "cell_type": "markdown",
   "metadata": {},
   "source": [
    "## Age Analysis"
   ]
  },
  {
   "cell_type": "code",
   "execution_count": 41,
   "metadata": {},
   "outputs": [
    {
     "name": "stdout",
     "output_type": "stream",
     "text": [
      "Age distribution according to Response\n"
     ]
    },
    {
     "data": {
      "image/png": "[encoded data removed]",
      "text/plain": [
       "<Figure size 906.375x216 with 1 Axes>"
      ]
     },
     "metadata": {
      "needs_background": "light"
     },
     "output_type": "display_data"
    }
   ],
   "source": [
    "print(\"Age distribution according to Response\")\n",
    "facetgrid = sns.FacetGrid(df_train,hue=\"Claim\",aspect = 4)\n",
    "facetgrid.map(sns.kdeplot,\"Age\",shade = True)\n",
    "facetgrid.set(xlim = (0,df_train[\"Age\"].max()))\n",
    "facetgrid.add_legend()\n",
    "plt.show()"
   ]
  },
  {
   "cell_type": "code",
   "execution_count": 42,
   "metadata": {},
   "outputs": [],
   "source": [
    "df_train.loc[df_train['Duration'] < 0, 'Duration'] = 33.555171\n",
    "df_train.loc[df_train['Age'] > 100, 'Age'] = 39.555725"
   ]
  },
  {
   "cell_type": "code",
   "execution_count": 43,
   "metadata": {},
   "outputs": [
    {
     "data": {
      "image/png": "[encoded data removed]",
      "text/plain": [
       "<Figure size 504x504 with 1 Axes>"
      ]
     },
     "metadata": {
      "needs_background": "light"
     },
     "output_type": "display_data"
    }
   ],
   "source": [
    "fig = plt.figure(figsize=(7,7))\n",
    "plt.boxplot(df_train['Age'])\n",
    "plt.title('Boxplot for age', color='Navy', fontsize=16)\n",
    "plt.show()"
   ]
  },
  {
   "cell_type": "markdown",
   "metadata": {},
   "source": [
    "**Insight**\n",
    "\n",
    "We have more of Outliers belowe 20 and above 60\n",
    "By this we are knowing that the average age from 20 to maximum 60, so will apply IQR on these outliers to get better results"
   ]
  },
  {
   "cell_type": "code",
   "execution_count": 44,
   "metadata": {},
   "outputs": [],
   "source": [
    "# # Dividing ages into groups\n",
    "# df_train[\"age_bracket\"] = pd.cut(df_train['Age'], [0,20,40,60,80,100,120])\n",
    "# df_train['age_bracket'].value_counts()\n",
    "# d_i = df_train['age_bracket'].value_counts().index"
   ]
  },
  {
   "cell_type": "code",
   "execution_count": 45,
   "metadata": {},
   "outputs": [],
   "source": [
    "# # Final\n",
    "# age_dict = {d_i[0]:\"20-40\",d_i[1]:\"40-60\",d_i[2]:\"60-80\",d_i[3]:\"100-120\",d_i[4]:\"0-20\",d_i[5]:\"80-1000\"}\n",
    "\n",
    "# age_claims = (df_train.groupby([\"age_bracket\"])[[\"Claim\"]].count()/len(df_train)*100)\n",
    "# ax = (df_train.groupby([\"age_bracket\"])[[\"Claim\"]].count()/len(df_train)*100).plot(kind=\"bar\",figsize=(10,8))\n",
    "# plt.xlabel(\"Age group\")\n",
    "# plt.ylabel(\"Claims\")\n",
    "# plt.title(\"Age group and Claim Distribution\",fontdict={'fontsize':14})\n",
    "# plt.show()"
   ]
  },
  {
   "cell_type": "markdown",
   "metadata": {},
   "source": [
    "**Duration - Hypothesis Testing**"
   ]
  },
  {
   "cell_type": "code",
   "execution_count": 46,
   "metadata": {},
   "outputs": [
    {
     "data": {
      "text/plain": [
       "(0.0, 0.002)"
      ]
     },
     "execution_count": 46,
     "metadata": {},
     "output_type": "execute_result"
    },
    {
     "data": {
      "image/png": "[encoded data removed]",
      "text/plain": [
       "<Figure size 432x288 with 1 Axes>"
      ]
     },
     "metadata": {
      "needs_background": "light"
     },
     "output_type": "display_data"
    }
   ],
   "source": [
    "sns.distplot(df_train.Duration)\n",
    "plt.ylim((0,0.002))"
   ]
  },
  {
   "cell_type": "code",
   "execution_count": 47,
   "metadata": {},
   "outputs": [
    {
     "data": {
      "text/plain": [
       "count    52310.000000\n",
       "mean        58.258769\n",
       "std        109.137682\n",
       "min          0.000000\n",
       "25%         10.000000\n",
       "50%         24.000000\n",
       "75%         57.000000\n",
       "max       4881.000000\n",
       "Name: Duration, dtype: float64"
      ]
     },
     "execution_count": 47,
     "metadata": {},
     "output_type": "execute_result"
    }
   ],
   "source": [
    "df_train['Duration'].describe()"
   ]
  },
  {
   "cell_type": "code",
   "execution_count": 48,
   "metadata": {},
   "outputs": [],
   "source": [
    "df_train.drop(df_train[df_train['Duration'].ge(545)].index,axis=0,inplace=True)"
   ]
  },
  {
   "cell_type": "markdown",
   "metadata": {},
   "source": [
    "**Insights**\n",
    "- Unit isn't standardized.\n",
    "- If the units are in days, maximum number is 4881, so that is nearly 13.37 years.\n",
    "Insights -\n",
    "\n",
    "1)Negative duration have 4 entries all have age of is 118 plus maximum flight time is 17hrs so removed 4 entries.\n",
    "\n",
    "2)Duration of each plans are below 1 year. maximum average duration is 384.80 We can keep below durations 4 slots entries: (-6.884, 95.66] 44783 (95.66, 193.32] 3593 (290.98, 388.64] 2859 (193.32, 290.98] 764\n",
    "\n",
    "3)this below entries Product Nameneeds to check and replace existing duration with average product duration. total 311 entries needs to be corrected\n",
    "\n",
    "(388.64, 486.3] 290 (486.3, 583.96] 11 (4783.34, 4881.0] 6 (4588.02, 4685.68] 1 (4490.36, 4588.02] 1 (4685.68, 4783.34] 1 (681.62, 779.28] 1\n",
    "\n",
    "4) Age below 100 is 118 only so removed that entries now max age is 97\n",
    "\n",
    "4) found same prolem online where they used oversampling and logistic regression get more idea on this will do and check accuracy tomorrow only.\n",
    "\n",
    "5) As per box plot data insuarance apart from age group 18/19 - 58/59 are outliers. But insuarance for child is avaiable in market also for people above 65 they have to pay premium charges."
   ]
  },
  {
   "cell_type": "code",
   "execution_count": 49,
   "metadata": {},
   "outputs": [
    {
     "data": {
      "text/plain": [
       "(1954, 11)"
      ]
     },
     "execution_count": 49,
     "metadata": {},
     "output_type": "execute_result"
    }
   ],
   "source": [
    "#count greather than one year.\n",
    "greater = df_train[df_train.Duration > 365]\n",
    "greater.shape"
   ]
  },
  {
   "cell_type": "code",
   "execution_count": 50,
   "metadata": {},
   "outputs": [
    {
     "name": "stdout",
     "output_type": "stream",
     "text": [
      "People who spent more than an year = 3.74%\n"
     ]
    }
   ],
   "source": [
    "#Customers taking more tahn 1 year plans\n",
    "print(f\"People who spent more than an year = {np.round(greater.shape[0]/df_train.shape[0]*100,2)}%\")"
   ]
  },
  {
   "cell_type": "code",
   "execution_count": 51,
   "metadata": {},
   "outputs": [
    {
     "data": {
      "text/plain": [
       "(49702, 11)"
      ]
     },
     "execution_count": 51,
     "metadata": {},
     "output_type": "execute_result"
    }
   ],
   "source": [
    "#count lesser than one year.\n",
    "lesser = df_train[df_train.Duration < 365]\n",
    "lesser.shape"
   ]
  },
  {
   "cell_type": "code",
   "execution_count": 52,
   "metadata": {},
   "outputs": [
    {
     "data": {
      "image/png": "[encoded data removed]",
      "text/plain": [
       "<Figure size 504x504 with 1 Axes>"
      ]
     },
     "metadata": {
      "needs_background": "light"
     },
     "output_type": "display_data"
    }
   ],
   "source": [
    "fig = plt.figure(figsize=(7,7))\n",
    "plt.boxplot(df_train['Duration'])\n",
    "plt.title('Boxplot for Duration', color='Navy', fontsize=16)\n",
    "plt.show()"
   ]
  },
  {
   "cell_type": "markdown",
   "metadata": {},
   "source": [
    "**Insights**\n",
    "\n",
    "It's clear that the outliers are present above the 4000 (assuming days)"
   ]
  },
  {
   "cell_type": "markdown",
   "metadata": {},
   "source": [
    "## Get a count of the target variable and note down your observations"
   ]
  },
  {
   "cell_type": "code",
   "execution_count": 53,
   "metadata": {},
   "outputs": [
    {
     "data": {
      "image/png": "[encoded data removed]",
      "text/plain": [
       "<Figure size 432x288 with 1 Axes>"
      ]
     },
     "metadata": {
      "needs_background": "light"
     },
     "output_type": "display_data"
    }
   ],
   "source": [
    "sns.countplot(df_train['Claim'],palette='rocket')\n",
    "plt.title(\"Target variable Distribution in data\");"
   ]
  },
  {
   "cell_type": "markdown",
   "metadata": {},
   "source": [
    "**Our data is higly imbalanced data**\n",
    "- INSIGHT : Data is biased.\n",
    "- CONCLUSION : ACCURACY IS NOT GOOD METRIC"
   ]
  },
  {
   "cell_type": "code",
   "execution_count": 54,
   "metadata": {},
   "outputs": [],
   "source": [
    "# pairPlot = sns.pairplot(df_train)"
   ]
  },
  {
   "cell_type": "markdown",
   "metadata": {},
   "source": [
    "**Insights**\n",
    "\n",
    "**ID** : Will drop this column as we are not getting any insights from this.<br>\n",
    "**Age** : Left skewed (between 20 to 60)<br>\n",
    "**Duration** : Considering plot almost outliers are present after 2000+ <br>\n",
    "**Net sale** : Right skewed <br>\n",
    "**Commission** : Right skewed <br>"
   ]
  },
  {
   "cell_type": "code",
   "execution_count": 55,
   "metadata": {},
   "outputs": [
    {
     "data": {
      "text/plain": [
       "0    43578\n",
       "1     8720\n",
       "Name: Claim, dtype: int64"
      ]
     },
     "execution_count": 55,
     "metadata": {},
     "output_type": "execute_result"
    }
   ],
   "source": [
    "df_train['Claim'].value_counts()"
   ]
  },
  {
   "cell_type": "code",
   "execution_count": 56,
   "metadata": {},
   "outputs": [
    {
     "data": {
      "text/plain": [
       "0    0.83326\n",
       "1    0.16674\n",
       "Name: Claim, dtype: float64"
      ]
     },
     "execution_count": 56,
     "metadata": {},
     "output_type": "execute_result"
    }
   ],
   "source": [
    "df_train['Claim'].value_counts(normalize=True).round(5)\n"
   ]
  },
  {
   "cell_type": "code",
   "execution_count": 57,
   "metadata": {
    "scrolled": true
   },
   "outputs": [
    {
     "data": {
      "image/png": "[encoded data removed]",
      "text/plain": [
       "<Figure size 1080x720 with 2 Axes>"
      ]
     },
     "metadata": {
      "needs_background": "light"
     },
     "output_type": "display_data"
    }
   ],
   "source": [
    "#check coorelation\n",
    "plt.figure(figsize=(15,10))\n",
    "sns.heatmap(df_train.corr(),annot=True,cmap='coolwarm')\n",
    "plt.savefig('correlation.png', dpi=300, bbox_inches='tight')\n"
   ]
  },
  {
   "cell_type": "code",
   "execution_count": 58,
   "metadata": {},
   "outputs": [
    {
     "data": {
      "text/plain": [
       "Age                    -0.060388\n",
       "ID                      0.006361\n",
       "Duration                0.249070\n",
       "Commision (in value)    0.258729\n",
       "Net Sales               0.326850\n",
       "Claim                   1.000000\n",
       "Name: Claim, dtype: float64"
      ]
     },
     "execution_count": 58,
     "metadata": {},
     "output_type": "execute_result"
    }
   ],
   "source": [
    "df_train.corr()['Claim'].sort_values()"
   ]
  },
  {
   "cell_type": "markdown",
   "metadata": {},
   "source": [
    "### Check for skewness in the continuous data"
   ]
  },
  {
   "cell_type": "code",
   "execution_count": 59,
   "metadata": {},
   "outputs": [],
   "source": [
    "from scipy.stats import skew"
   ]
  },
  {
   "cell_type": "code",
   "execution_count": 60,
   "metadata": {},
   "outputs": [
    {
     "data": {
      "text/html": [
       "<div>\n",
       "<style scoped>\n",
       "    .dataframe tbody tr th:only-of-type {\n",
       "        vertical-align: middle;\n",
       "    }\n",
       "\n",
       "    .dataframe tbody tr th {\n",
       "        vertical-align: top;\n",
       "    }\n",
       "\n",
       "    .dataframe thead th {\n",
       "        text-align: right;\n",
       "    }\n",
       "</style>\n",
       "<table border=\"1\" class=\"dataframe\">\n",
       "  <thead>\n",
       "    <tr style=\"text-align: right;\">\n",
       "      <th></th>\n",
       "      <th>name</th>\n",
       "      <th>skew</th>\n",
       "    </tr>\n",
       "  </thead>\n",
       "  <tbody>\n",
       "    <tr>\n",
       "      <th>0</th>\n",
       "      <td>ID</td>\n",
       "      <td>-0.001854</td>\n",
       "    </tr>\n",
       "    <tr>\n",
       "      <th>1</th>\n",
       "      <td>Duration</td>\n",
       "      <td>15.352083</td>\n",
       "    </tr>\n",
       "    <tr>\n",
       "      <th>2</th>\n",
       "      <td>Net Sales</td>\n",
       "      <td>2.811757</td>\n",
       "    </tr>\n",
       "    <tr>\n",
       "      <th>3</th>\n",
       "      <td>Commision (in value)</td>\n",
       "      <td>3.535593</td>\n",
       "    </tr>\n",
       "    <tr>\n",
       "      <th>4</th>\n",
       "      <td>Age</td>\n",
       "      <td>2.947807</td>\n",
       "    </tr>\n",
       "    <tr>\n",
       "      <th>5</th>\n",
       "      <td>Claim</td>\n",
       "      <td>1.788547</td>\n",
       "    </tr>\n",
       "  </tbody>\n",
       "</table>\n",
       "</div>"
      ],
      "text/plain": [
       "                   name       skew\n",
       "0                    ID  -0.001854\n",
       "1              Duration  15.352083\n",
       "2             Net Sales   2.811757\n",
       "3  Commision (in value)   3.535593\n",
       "4                   Age   2.947807\n",
       "5                 Claim   1.788547"
      ]
     },
     "execution_count": 60,
     "metadata": {},
     "output_type": "execute_result"
    }
   ],
   "source": [
    "skewness = pd.DataFrame(data={'name':list(dataframe_con),'skew':skew(dataframe_con)})\n",
    "skewness"
   ]
  },
  {
   "cell_type": "code",
   "execution_count": 61,
   "metadata": {},
   "outputs": [],
   "source": [
    "# df_train.drop(['ID'],1,inplace=True)"
   ]
  },
  {
   "cell_type": "code",
   "execution_count": 62,
   "metadata": {},
   "outputs": [
    {
     "data": {
      "text/html": [
       "<div>\n",
       "<style scoped>\n",
       "    .dataframe tbody tr th:only-of-type {\n",
       "        vertical-align: middle;\n",
       "    }\n",
       "\n",
       "    .dataframe tbody tr th {\n",
       "        vertical-align: top;\n",
       "    }\n",
       "\n",
       "    .dataframe thead th {\n",
       "        text-align: right;\n",
       "    }\n",
       "</style>\n",
       "<table border=\"1\" class=\"dataframe\">\n",
       "  <thead>\n",
       "    <tr style=\"text-align: right;\">\n",
       "      <th></th>\n",
       "      <th>ID</th>\n",
       "      <th>Duration</th>\n",
       "      <th>Net Sales</th>\n",
       "      <th>Commision (in value)</th>\n",
       "      <th>Age</th>\n",
       "      <th>Claim</th>\n",
       "    </tr>\n",
       "  </thead>\n",
       "  <tbody>\n",
       "    <tr>\n",
       "      <th>count</th>\n",
       "      <td>52298.000000</td>\n",
       "      <td>52298.000000</td>\n",
       "      <td>52298.000000</td>\n",
       "      <td>52298.000000</td>\n",
       "      <td>52298.000000</td>\n",
       "      <td>52298.000000</td>\n",
       "    </tr>\n",
       "    <tr>\n",
       "      <th>mean</th>\n",
       "      <td>6005.918333</td>\n",
       "      <td>57.416292</td>\n",
       "      <td>48.557849</td>\n",
       "      <td>12.219738</td>\n",
       "      <td>38.450200</td>\n",
       "      <td>0.166737</td>\n",
       "    </tr>\n",
       "    <tr>\n",
       "      <th>std</th>\n",
       "      <td>2306.537833</td>\n",
       "      <td>89.851340</td>\n",
       "      <td>60.193156</td>\n",
       "      <td>22.847558</td>\n",
       "      <td>10.083023</td>\n",
       "      <td>0.372744</td>\n",
       "    </tr>\n",
       "    <tr>\n",
       "      <th>min</th>\n",
       "      <td>2000.000000</td>\n",
       "      <td>0.000000</td>\n",
       "      <td>-389.000000</td>\n",
       "      <td>0.000000</td>\n",
       "      <td>0.000000</td>\n",
       "      <td>0.000000</td>\n",
       "    </tr>\n",
       "    <tr>\n",
       "      <th>25%</th>\n",
       "      <td>4015.000000</td>\n",
       "      <td>10.000000</td>\n",
       "      <td>19.800000</td>\n",
       "      <td>0.000000</td>\n",
       "      <td>33.000000</td>\n",
       "      <td>0.000000</td>\n",
       "    </tr>\n",
       "    <tr>\n",
       "      <th>50%</th>\n",
       "      <td>6002.000000</td>\n",
       "      <td>24.000000</td>\n",
       "      <td>29.500000</td>\n",
       "      <td>0.000000</td>\n",
       "      <td>36.000000</td>\n",
       "      <td>0.000000</td>\n",
       "    </tr>\n",
       "    <tr>\n",
       "      <th>75%</th>\n",
       "      <td>8004.000000</td>\n",
       "      <td>57.000000</td>\n",
       "      <td>55.000000</td>\n",
       "      <td>13.380000</td>\n",
       "      <td>42.000000</td>\n",
       "      <td>0.000000</td>\n",
       "    </tr>\n",
       "    <tr>\n",
       "      <th>max</th>\n",
       "      <td>10000.000000</td>\n",
       "      <td>531.000000</td>\n",
       "      <td>682.000000</td>\n",
       "      <td>262.760000</td>\n",
       "      <td>97.000000</td>\n",
       "      <td>1.000000</td>\n",
       "    </tr>\n",
       "  </tbody>\n",
       "</table>\n",
       "</div>"
      ],
      "text/plain": [
       "                 ID      Duration     Net Sales  Commision (in value)  \\\n",
       "count  52298.000000  52298.000000  52298.000000          52298.000000   \n",
       "mean    6005.918333     57.416292     48.557849             12.219738   \n",
       "std     2306.537833     89.851340     60.193156             22.847558   \n",
       "min     2000.000000      0.000000   -389.000000              0.000000   \n",
       "25%     4015.000000     10.000000     19.800000              0.000000   \n",
       "50%     6002.000000     24.000000     29.500000              0.000000   \n",
       "75%     8004.000000     57.000000     55.000000             13.380000   \n",
       "max    10000.000000    531.000000    682.000000            262.760000   \n",
       "\n",
       "                Age         Claim  \n",
       "count  52298.000000  52298.000000  \n",
       "mean      38.450200      0.166737  \n",
       "std       10.083023      0.372744  \n",
       "min        0.000000      0.000000  \n",
       "25%       33.000000      0.000000  \n",
       "50%       36.000000      0.000000  \n",
       "75%       42.000000      0.000000  \n",
       "max       97.000000      1.000000  "
      ]
     },
     "execution_count": 62,
     "metadata": {},
     "output_type": "execute_result"
    }
   ],
   "source": [
    "df_train.describe()"
   ]
  },
  {
   "cell_type": "code",
   "execution_count": 63,
   "metadata": {},
   "outputs": [
    {
     "data": {
      "text/html": [
       "<div>\n",
       "<style scoped>\n",
       "    .dataframe tbody tr th:only-of-type {\n",
       "        vertical-align: middle;\n",
       "    }\n",
       "\n",
       "    .dataframe tbody tr th {\n",
       "        vertical-align: top;\n",
       "    }\n",
       "\n",
       "    .dataframe thead th {\n",
       "        text-align: right;\n",
       "    }\n",
       "</style>\n",
       "<table border=\"1\" class=\"dataframe\">\n",
       "  <thead>\n",
       "    <tr style=\"text-align: right;\">\n",
       "      <th></th>\n",
       "      <th>ID</th>\n",
       "      <th>Agency</th>\n",
       "      <th>Agency Type</th>\n",
       "      <th>Distribution Channel</th>\n",
       "      <th>Product Name</th>\n",
       "      <th>Duration</th>\n",
       "      <th>Destination</th>\n",
       "      <th>Net Sales</th>\n",
       "      <th>Commision (in value)</th>\n",
       "      <th>Age</th>\n",
       "      <th>Claim</th>\n",
       "    </tr>\n",
       "  </thead>\n",
       "  <tbody>\n",
       "    <tr>\n",
       "      <th>0</th>\n",
       "      <td>2010</td>\n",
       "      <td>EPX</td>\n",
       "      <td>Travel Agency</td>\n",
       "      <td>Online</td>\n",
       "      <td>Cancellation Plan</td>\n",
       "      <td>61.0</td>\n",
       "      <td>PHILIPPINES</td>\n",
       "      <td>12.000000</td>\n",
       "      <td>0.000000</td>\n",
       "      <td>41.0</td>\n",
       "      <td>0</td>\n",
       "    </tr>\n",
       "    <tr>\n",
       "      <th>1</th>\n",
       "      <td>4245</td>\n",
       "      <td>EPX</td>\n",
       "      <td>Travel Agency</td>\n",
       "      <td>Online</td>\n",
       "      <td>Cancellation Plan</td>\n",
       "      <td>4.0</td>\n",
       "      <td>MALAYSIA</td>\n",
       "      <td>17.000000</td>\n",
       "      <td>0.000000</td>\n",
       "      <td>35.0</td>\n",
       "      <td>0</td>\n",
       "    </tr>\n",
       "    <tr>\n",
       "      <th>2</th>\n",
       "      <td>9251</td>\n",
       "      <td>CWT</td>\n",
       "      <td>Travel Agency</td>\n",
       "      <td>Online</td>\n",
       "      <td>Rental Vehicle Excess Insurance</td>\n",
       "      <td>26.0</td>\n",
       "      <td>THAILAND</td>\n",
       "      <td>19.800000</td>\n",
       "      <td>11.880000</td>\n",
       "      <td>47.0</td>\n",
       "      <td>0</td>\n",
       "    </tr>\n",
       "    <tr>\n",
       "      <th>3</th>\n",
       "      <td>4754</td>\n",
       "      <td>EPX</td>\n",
       "      <td>Travel Agency</td>\n",
       "      <td>Online</td>\n",
       "      <td>2 way Comprehensive Plan</td>\n",
       "      <td>15.0</td>\n",
       "      <td>HONG KONG</td>\n",
       "      <td>27.000000</td>\n",
       "      <td>0.000000</td>\n",
       "      <td>48.0</td>\n",
       "      <td>0</td>\n",
       "    </tr>\n",
       "    <tr>\n",
       "      <th>4</th>\n",
       "      <td>8840</td>\n",
       "      <td>EPX</td>\n",
       "      <td>Travel Agency</td>\n",
       "      <td>Online</td>\n",
       "      <td>2 way Comprehensive Plan</td>\n",
       "      <td>15.0</td>\n",
       "      <td>MALAYSIA</td>\n",
       "      <td>37.000000</td>\n",
       "      <td>0.000000</td>\n",
       "      <td>36.0</td>\n",
       "      <td>0</td>\n",
       "    </tr>\n",
       "    <tr>\n",
       "      <th>5</th>\n",
       "      <td>5959</td>\n",
       "      <td>EPX</td>\n",
       "      <td>Travel Agency</td>\n",
       "      <td>Online</td>\n",
       "      <td>2 way Comprehensive Plan</td>\n",
       "      <td>4.0</td>\n",
       "      <td>THAILAND</td>\n",
       "      <td>25.000000</td>\n",
       "      <td>0.000000</td>\n",
       "      <td>38.0</td>\n",
       "      <td>0</td>\n",
       "    </tr>\n",
       "    <tr>\n",
       "      <th>6</th>\n",
       "      <td>6031</td>\n",
       "      <td>EPX</td>\n",
       "      <td>Travel Agency</td>\n",
       "      <td>Online</td>\n",
       "      <td>Cancellation Plan</td>\n",
       "      <td>215.0</td>\n",
       "      <td>UNITED KINGDOM</td>\n",
       "      <td>59.000000</td>\n",
       "      <td>0.000000</td>\n",
       "      <td>36.0</td>\n",
       "      <td>0</td>\n",
       "    </tr>\n",
       "    <tr>\n",
       "      <th>7</th>\n",
       "      <td>8394</td>\n",
       "      <td>JZI</td>\n",
       "      <td>Airlines</td>\n",
       "      <td>Online</td>\n",
       "      <td>Basic Plan</td>\n",
       "      <td>31.0</td>\n",
       "      <td>VIET NAM</td>\n",
       "      <td>22.000000</td>\n",
       "      <td>7.700000</td>\n",
       "      <td>43.0</td>\n",
       "      <td>0</td>\n",
       "    </tr>\n",
       "    <tr>\n",
       "      <th>8</th>\n",
       "      <td>3017</td>\n",
       "      <td>EPX</td>\n",
       "      <td>Travel Agency</td>\n",
       "      <td>Online</td>\n",
       "      <td>2 way Comprehensive Plan</td>\n",
       "      <td>13.0</td>\n",
       "      <td>CHINA</td>\n",
       "      <td>48.662699</td>\n",
       "      <td>0.000000</td>\n",
       "      <td>36.0</td>\n",
       "      <td>1</td>\n",
       "    </tr>\n",
       "    <tr>\n",
       "      <th>9</th>\n",
       "      <td>8054</td>\n",
       "      <td>C2B</td>\n",
       "      <td>Airlines</td>\n",
       "      <td>Online</td>\n",
       "      <td>Bronze Plan</td>\n",
       "      <td>10.0</td>\n",
       "      <td>SINGAPORE</td>\n",
       "      <td>23.258824</td>\n",
       "      <td>5.817294</td>\n",
       "      <td>28.0</td>\n",
       "      <td>1</td>\n",
       "    </tr>\n",
       "  </tbody>\n",
       "</table>\n",
       "</div>"
      ],
      "text/plain": [
       "     ID Agency    Agency Type Distribution Channel  \\\n",
       "0  2010    EPX  Travel Agency               Online   \n",
       "1  4245    EPX  Travel Agency               Online   \n",
       "2  9251    CWT  Travel Agency               Online   \n",
       "3  4754    EPX  Travel Agency               Online   \n",
       "4  8840    EPX  Travel Agency               Online   \n",
       "5  5959    EPX  Travel Agency               Online   \n",
       "6  6031    EPX  Travel Agency               Online   \n",
       "7  8394    JZI       Airlines               Online   \n",
       "8  3017    EPX  Travel Agency               Online   \n",
       "9  8054    C2B       Airlines               Online   \n",
       "\n",
       "                      Product Name  Duration     Destination  Net Sales  \\\n",
       "0                Cancellation Plan      61.0     PHILIPPINES  12.000000   \n",
       "1                Cancellation Plan       4.0        MALAYSIA  17.000000   \n",
       "2  Rental Vehicle Excess Insurance      26.0        THAILAND  19.800000   \n",
       "3         2 way Comprehensive Plan      15.0       HONG KONG  27.000000   \n",
       "4         2 way Comprehensive Plan      15.0        MALAYSIA  37.000000   \n",
       "5         2 way Comprehensive Plan       4.0        THAILAND  25.000000   \n",
       "6                Cancellation Plan     215.0  UNITED KINGDOM  59.000000   \n",
       "7                       Basic Plan      31.0        VIET NAM  22.000000   \n",
       "8         2 way Comprehensive Plan      13.0           CHINA  48.662699   \n",
       "9                      Bronze Plan      10.0       SINGAPORE  23.258824   \n",
       "\n",
       "   Commision (in value)   Age  Claim  \n",
       "0              0.000000  41.0      0  \n",
       "1              0.000000  35.0      0  \n",
       "2             11.880000  47.0      0  \n",
       "3              0.000000  48.0      0  \n",
       "4              0.000000  36.0      0  \n",
       "5              0.000000  38.0      0  \n",
       "6              0.000000  36.0      0  \n",
       "7              7.700000  43.0      0  \n",
       "8              0.000000  36.0      1  \n",
       "9              5.817294  28.0      1  "
      ]
     },
     "execution_count": 63,
     "metadata": {},
     "output_type": "execute_result"
    }
   ],
   "source": [
    "df_train.head(10)"
   ]
  },
  {
   "cell_type": "markdown",
   "metadata": {},
   "source": [
    "**FINAL INSIGHTS OF ALL ATTRIBUTES**\n",
    "\n",
    "1.**ID** : DROPPED <BR>\n",
    "2.**AGE** : NEED TO TREAT FOR OUTLIERS, CONSIDERING RANGE BETWEEN 20-60 (REFERING BOX PLOT) - continuos <BR>\n",
    "3.**DURATION** : NEED TO TREAT FOR OUTLIERS (MORE THAN 2000+), ASSUMING NUMBERS ARE IN DAYS WILL THINK OF 360/365DAYS + 180 EXTENDABLE DAYS - numerical <BR>\n",
    "4.**CLAIM** :  NEED TO TREAT AND IT'S TARGET VALUE, SO NEED TO DROP FROM TRAIN DATA<BR>\n",
    "5.**PRODUCT NAME** : NEED TO USE ONE HOT ENCODING TO CONVERT CAT TO NUMERICAL ALSO CONSIDERING <BR>\n",
    "6.**NET SALES** : <BR>\n",
    "7.**COMMISSION** :<BR>\n",
    "8.**DESTINATION** : NEED TO USE ONE HOT ENCODING <BR>\n",
    "9.**AGNECY** :<BR>\n",
    "10**AGENCY TYPE** :<BR>\n",
    "11.**DISTRIBUTION CHANNEL**:<BR>\n"
   ]
  },
  {
   "cell_type": "code",
   "execution_count": null,
   "metadata": {},
   "outputs": [],
   "source": []
  },
  {
   "cell_type": "markdown",
   "metadata": {},
   "source": [
    "## Feature Engineering"
   ]
  },
  {
   "cell_type": "code",
   "execution_count": 64,
   "metadata": {},
   "outputs": [
    {
     "data": {
      "text/plain": [
       "0    43578\n",
       "1     8720\n",
       "Name: Claim, dtype: int64"
      ]
     },
     "execution_count": 64,
     "metadata": {},
     "output_type": "execute_result"
    }
   ],
   "source": [
    "#creating a checkpoint\n",
    "dfl = df_train.copy()\n",
    "#dropping Vintage and id columns as suggested by EDA\n",
    "dfl.drop(['ID','Commision (in value)','Net Sales','Agency','Agency Type','Distribution Channel'],axis=1,inplace=True)\n",
    "#checking target variable\n",
    "dfl.Claim.value_counts()"
   ]
  },
  {
   "cell_type": "code",
   "execution_count": 65,
   "metadata": {},
   "outputs": [],
   "source": [
    "# predictors\n",
    "X = dfl.drop(['Claim'], axis = 1)\n",
    "\n",
    "# target variables\n",
    "y = dfl['Claim']\n",
    "#X = df1.iloc[:, :"
   ]
  },
  {
   "cell_type": "code",
   "execution_count": 66,
   "metadata": {},
   "outputs": [
    {
     "data": {
      "text/html": [
       "<div>\n",
       "<style scoped>\n",
       "    .dataframe tbody tr th:only-of-type {\n",
       "        vertical-align: middle;\n",
       "    }\n",
       "\n",
       "    .dataframe tbody tr th {\n",
       "        vertical-align: top;\n",
       "    }\n",
       "\n",
       "    .dataframe thead th {\n",
       "        text-align: right;\n",
       "    }\n",
       "</style>\n",
       "<table border=\"1\" class=\"dataframe\">\n",
       "  <thead>\n",
       "    <tr style=\"text-align: right;\">\n",
       "      <th></th>\n",
       "      <th>Product Name</th>\n",
       "      <th>Duration</th>\n",
       "      <th>Destination</th>\n",
       "      <th>Age</th>\n",
       "    </tr>\n",
       "  </thead>\n",
       "  <tbody>\n",
       "    <tr>\n",
       "      <th>0</th>\n",
       "      <td>10</td>\n",
       "      <td>61.0</td>\n",
       "      <td>68</td>\n",
       "      <td>41.0</td>\n",
       "    </tr>\n",
       "    <tr>\n",
       "      <th>1</th>\n",
       "      <td>10</td>\n",
       "      <td>4.0</td>\n",
       "      <td>53</td>\n",
       "      <td>35.0</td>\n",
       "    </tr>\n",
       "    <tr>\n",
       "      <th>2</th>\n",
       "      <td>16</td>\n",
       "      <td>26.0</td>\n",
       "      <td>84</td>\n",
       "      <td>47.0</td>\n",
       "    </tr>\n",
       "    <tr>\n",
       "      <th>3</th>\n",
       "      <td>1</td>\n",
       "      <td>15.0</td>\n",
       "      <td>33</td>\n",
       "      <td>48.0</td>\n",
       "    </tr>\n",
       "    <tr>\n",
       "      <th>4</th>\n",
       "      <td>1</td>\n",
       "      <td>15.0</td>\n",
       "      <td>53</td>\n",
       "      <td>36.0</td>\n",
       "    </tr>\n",
       "  </tbody>\n",
       "</table>\n",
       "</div>"
      ],
      "text/plain": [
       "   Product Name  Duration  Destination   Age\n",
       "0            10      61.0           68  41.0\n",
       "1            10       4.0           53  35.0\n",
       "2            16      26.0           84  47.0\n",
       "3             1      15.0           33  48.0\n",
       "4             1      15.0           53  36.0"
      ]
     },
     "execution_count": 66,
     "metadata": {},
     "output_type": "execute_result"
    }
   ],
   "source": [
    "enc=LabelEncoder()\n",
    "X.loc[:,['Product Name','Destination']]= \\\n",
    "X.loc[:,['Product Name','Destination']].apply(enc.fit_transform)\n",
    "X.head()"
   ]
  },
  {
   "cell_type": "code",
   "execution_count": 67,
   "metadata": {},
   "outputs": [],
   "source": [
    "X_train, X_test, y_train, y_test = train_test_split(X,y,test_size = 0.2,random_state = 10)"
   ]
  },
  {
   "cell_type": "code",
   "execution_count": 68,
   "metadata": {},
   "outputs": [],
   "source": [
    "logisticRegression = LogisticRegression()\n",
    "logisticRegression.fit(X_train, y_train)\n",
    "\n",
    "# predict values\n",
    "predictions = logisticRegression.predict(X_test)\n",
    "\n"
   ]
  },
  {
   "cell_type": "code",
   "execution_count": 69,
   "metadata": {},
   "outputs": [
    {
     "name": "stdout",
     "output_type": "stream",
     "text": [
      "              precision    recall  f1-score   support\n",
      "\n",
      "           0       0.85      0.98      0.91      8729\n",
      "           1       0.57      0.14      0.22      1731\n",
      "\n",
      "    accuracy                           0.84     10460\n",
      "   macro avg       0.71      0.56      0.57     10460\n",
      "weighted avg       0.81      0.84      0.80     10460\n",
      "\n"
     ]
    }
   ],
   "source": [
    "print(classification_report(y_test, logisticRegression.predict(X_test)))"
   ]
  },
  {
   "cell_type": "code",
   "execution_count": 70,
   "metadata": {},
   "outputs": [
    {
     "name": "stdout",
     "output_type": "stream",
     "text": [
      "Accuracy score is 84.0\n"
     ]
    }
   ],
   "source": [
    "\n",
    "# printing the accuracy and auc_roc score\n",
    "print(f\"Accuracy score is {100*accuracy_score(y_test,predictions).round(2)}\")"
   ]
  },
  {
   "cell_type": "code",
   "execution_count": 71,
   "metadata": {},
   "outputs": [],
   "source": [
    "from imblearn.over_sampling import SMOTE\n",
    "smote = SMOTE(random_state = 10)\n",
    "X_oversample, y_oversample = smote.fit_resample(X_train, y_train)"
   ]
  },
  {
   "cell_type": "code",
   "execution_count": 72,
   "metadata": {},
   "outputs": [
    {
     "name": "stdout",
     "output_type": "stream",
     "text": [
      "0.6769598470363288\n",
      "              precision    recall  f1-score   support\n",
      "\n",
      "           0       0.90      0.69      0.78      8729\n",
      "           1       0.28      0.59      0.38      1731\n",
      "\n",
      "    accuracy                           0.68     10460\n",
      "   macro avg       0.59      0.64      0.58     10460\n",
      "weighted avg       0.79      0.68      0.71     10460\n",
      "\n"
     ]
    }
   ],
   "source": [
    "logisticRegression.fit(X_oversample, y_oversample)\n",
    "Y_predictions = logisticRegression.predict(X_test)\n",
    "print(accuracy_score(y_test,Y_predictions))\n",
    "pd.crosstab(y_test,Y_predictions)\n",
    "print(classification_report(y_test, logisticRegression.predict(X_test)))"
   ]
  },
  {
   "cell_type": "code",
   "execution_count": 73,
   "metadata": {},
   "outputs": [
    {
     "name": "stdout",
     "output_type": "stream",
     "text": [
      "Before Sampling : Counter({0: 34849, 1: 6989})\n",
      "After Sampling : Counter({0: 34849, 1: 34849})\n"
     ]
    }
   ],
   "source": [
    "from collections import Counter\n",
    "print(\"Before Sampling :\",Counter(y_train))\n",
    "print(\"After Sampling :\",Counter(y_oversample))"
   ]
  },
  {
   "cell_type": "code",
   "execution_count": 74,
   "metadata": {},
   "outputs": [
    {
     "data": {
      "text/html": [
       "<div>\n",
       "<style scoped>\n",
       "    .dataframe tbody tr th:only-of-type {\n",
       "        vertical-align: middle;\n",
       "    }\n",
       "\n",
       "    .dataframe tbody tr th {\n",
       "        vertical-align: top;\n",
       "    }\n",
       "\n",
       "    .dataframe thead th {\n",
       "        text-align: right;\n",
       "    }\n",
       "</style>\n",
       "<table border=\"1\" class=\"dataframe\">\n",
       "  <thead>\n",
       "    <tr style=\"text-align: right;\">\n",
       "      <th></th>\n",
       "      <th>Product Name</th>\n",
       "      <th>Duration</th>\n",
       "      <th>Destination</th>\n",
       "      <th>Age</th>\n",
       "    </tr>\n",
       "  </thead>\n",
       "  <tbody>\n",
       "    <tr>\n",
       "      <th>0</th>\n",
       "      <td>Cancellation Plan</td>\n",
       "      <td>192</td>\n",
       "      <td>HONG KONG</td>\n",
       "      <td>36</td>\n",
       "    </tr>\n",
       "    <tr>\n",
       "      <th>1</th>\n",
       "      <td>1 way Comprehensive Plan</td>\n",
       "      <td>2</td>\n",
       "      <td>SINGAPORE</td>\n",
       "      <td>36</td>\n",
       "    </tr>\n",
       "    <tr>\n",
       "      <th>2</th>\n",
       "      <td>Bronze Plan</td>\n",
       "      <td>13</td>\n",
       "      <td>SINGAPORE</td>\n",
       "      <td>24</td>\n",
       "    </tr>\n",
       "    <tr>\n",
       "      <th>3</th>\n",
       "      <td>2 way Comprehensive Plan</td>\n",
       "      <td>133</td>\n",
       "      <td>TAIWAN, PROVINCE OF CHINA</td>\n",
       "      <td>36</td>\n",
       "    </tr>\n",
       "    <tr>\n",
       "      <th>4</th>\n",
       "      <td>Silver Plan</td>\n",
       "      <td>2</td>\n",
       "      <td>SINGAPORE</td>\n",
       "      <td>32</td>\n",
       "    </tr>\n",
       "  </tbody>\n",
       "</table>\n",
       "</div>"
      ],
      "text/plain": [
       "               Product Name  Duration                Destination  Age\n",
       "0         Cancellation Plan       192                  HONG KONG   36\n",
       "1  1 way Comprehensive Plan         2                  SINGAPORE   36\n",
       "2               Bronze Plan        13                  SINGAPORE   24\n",
       "3  2 way Comprehensive Plan       133  TAIWAN, PROVINCE OF CHINA   36\n",
       "4               Silver Plan         2                  SINGAPORE   32"
      ]
     },
     "execution_count": 74,
     "metadata": {},
     "output_type": "execute_result"
    }
   ],
   "source": [
    "#creating a checkpoint\n",
    "test_df = df_test.copy()\n",
    "#dropping Vintage and id columns as suggested by EDA\n",
    "test_df.drop(['ID','Commision (in value)','Net Sales','Agency','Agency Type','Distribution Channel'],axis=1,inplace=True)\n",
    "#checking target variable\n",
    "test_df.head()"
   ]
  },
  {
   "cell_type": "code",
   "execution_count": 75,
   "metadata": {},
   "outputs": [
    {
     "data": {
      "text/html": [
       "<div>\n",
       "<style scoped>\n",
       "    .dataframe tbody tr th:only-of-type {\n",
       "        vertical-align: middle;\n",
       "    }\n",
       "\n",
       "    .dataframe tbody tr th {\n",
       "        vertical-align: top;\n",
       "    }\n",
       "\n",
       "    .dataframe thead th {\n",
       "        text-align: right;\n",
       "    }\n",
       "</style>\n",
       "<table border=\"1\" class=\"dataframe\">\n",
       "  <thead>\n",
       "    <tr style=\"text-align: right;\">\n",
       "      <th></th>\n",
       "      <th>Product Name</th>\n",
       "      <th>Duration</th>\n",
       "      <th>Destination</th>\n",
       "      <th>Age</th>\n",
       "    </tr>\n",
       "  </thead>\n",
       "  <tbody>\n",
       "    <tr>\n",
       "      <th>0</th>\n",
       "      <td>10</td>\n",
       "      <td>192</td>\n",
       "      <td>33</td>\n",
       "      <td>36</td>\n",
       "    </tr>\n",
       "    <tr>\n",
       "      <th>1</th>\n",
       "      <td>0</td>\n",
       "      <td>2</td>\n",
       "      <td>75</td>\n",
       "      <td>36</td>\n",
       "    </tr>\n",
       "    <tr>\n",
       "      <th>2</th>\n",
       "      <td>9</td>\n",
       "      <td>13</td>\n",
       "      <td>75</td>\n",
       "      <td>24</td>\n",
       "    </tr>\n",
       "    <tr>\n",
       "      <th>3</th>\n",
       "      <td>1</td>\n",
       "      <td>133</td>\n",
       "      <td>82</td>\n",
       "      <td>36</td>\n",
       "    </tr>\n",
       "    <tr>\n",
       "      <th>4</th>\n",
       "      <td>17</td>\n",
       "      <td>2</td>\n",
       "      <td>75</td>\n",
       "      <td>32</td>\n",
       "    </tr>\n",
       "  </tbody>\n",
       "</table>\n",
       "</div>"
      ],
      "text/plain": [
       "   Product Name  Duration  Destination  Age\n",
       "0            10       192           33   36\n",
       "1             0         2           75   36\n",
       "2             9        13           75   24\n",
       "3             1       133           82   36\n",
       "4            17         2           75   32"
      ]
     },
     "execution_count": 75,
     "metadata": {},
     "output_type": "execute_result"
    }
   ],
   "source": [
    "enc=LabelEncoder()\n",
    "test_df.loc[:,['Product Name','Destination']]= \\\n",
    "test_df.loc[:,['Product Name','Destination']].apply(enc.fit_transform)\n",
    "test_df.head()"
   ]
  },
  {
   "cell_type": "code",
   "execution_count": 76,
   "metadata": {},
   "outputs": [
    {
     "data": {
      "text/plain": [
       "22421"
      ]
     },
     "execution_count": 76,
     "metadata": {},
     "output_type": "execute_result"
    }
   ],
   "source": [
    "predictions = logisticRegression.predict(test_df)\n",
    "len(list(predictions))"
   ]
  },
  {
   "cell_type": "code",
   "execution_count": 77,
   "metadata": {},
   "outputs": [],
   "source": [
    " \n",
    "pd.DataFrame(predictions).to_csv(\"../submission_file.csv\")"
   ]
  },
  {
   "cell_type": "code",
   "execution_count": null,
   "metadata": {},
   "outputs": [],
   "source": []
  }
 ],
 "metadata": {
  "kernelspec": {
   "display_name": "Python 3",
   "language": "python",
   "name": "python3"
  },
  "language_info": {
   "codemirror_mode": {
    "name": "ipython",
    "version": 3
   },
   "file_extension": ".py",
   "mimetype": "text/x-python",
   "name": "python",
   "nbconvert_exporter": "python",
   "pygments_lexer": "ipython3",
   "version": "3.8.5"
  }
 },
 "nbformat": 4,
 "nbformat_minor": 4
}
